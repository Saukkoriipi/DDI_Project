{
 "cells": [
  {
   "cell_type": "markdown",
   "metadata": {},
   "source": [
    "# Project questions:\n",
    "\n",
    "# Distributed Data Infrastructures, Fall 2020, Project 2\n",
    "\n",
    "Assignment\n",
    "In this project, you are supposed to use GraphLab to analyze data sets. GraphLab is a high performance, open-source, big data framework which we have discussed in the course. We provide you with a data set and you should run GraphLab either on AWS or locally to analyze the data set. \n",
    "\n",
    "The dataset was released by Telecom Italia for their Open Big Data Challenge in 2014. It contains telecommunication records, weather, air quality, electricity consumption for city of Milan and province of Trentino in Italy in November and December 2013. You can find detailed description of the dataset from the paper:\n",
    "https://www.nature.com/articles/sdata201555.\n",
    "\n",
    "Requirements\n",
    "You need write a program that uses GraphLab to provide answers to the following questions.\n",
    "\n",
    "### First three questions are worth 2 points total.\n",
    "\n",
    "1. Find the most congested communication period of the day in Milan and Trentino.\n",
    "\n",
    "2. List top 5 Italian provinces which are most called by residents of Milan and Trentino on average.\n",
    "\n",
    "3. List top 5 languages tweeted by distinct users in Milan. How popular is Finnish as a tweeting language in Milan?\n",
    "\n",
    "### The following questions are worth 3 points total.\n",
    "\n",
    "4. Compare call and internet activity between 24th, 25th and 26th December to 26th, 27th, 28th November for Milan. Plot the distribution.\n",
    "\n",
    "5. Find correlation between user communication activity and different weather conditions (e.g. rain, snow etc.) in Milan and Trentino.\n",
    "\n",
    "### The final questions are worth 2 points each.\n",
    "\n",
    "6. Plot the heatmap of user telecommunication activity for both Milan and Trentino. Do you observe any shift in communication pattern of users between day and night? (A typical day time is between 8AM to 8PM)\n",
    "\n",
    "7. Investigate and plot the correlation between air quality and weather (temperature, sunshine, precipitation, etc.)."
   ]
  },
  {
   "cell_type": "markdown",
   "metadata": {},
   "source": [
    "### Read libraries"
   ]
  },
  {
   "cell_type": "code",
   "execution_count": 214,
   "metadata": {},
   "outputs": [],
   "source": [
    "import pandas as pd\n",
    "from turicreate import SFrame, SGraph, Vertex, Edge\n",
    "import arrow\n",
    "import glob2\n",
    "import time\n",
    "from datetime import datetime as dt\n",
    "import turicreate.aggregate as agg\n",
    "import matplotlib.pyplot as plt"
   ]
  },
  {
   "cell_type": "markdown",
   "metadata": {},
   "source": [
    "## 1. Find the most congested communication period of the day in Milan and Trentino.\n",
    "\n",
    "Answer to this question based on the telecommunication data for Milan and Trentino on 24th December 2013. Answer will be the most congested hour in the given day.\n",
    "\n",
    "#### Telecommunication data has folllowing information:\n",
    "\n",
    "0. Square id: identification string of a given square of Milan/Trentino GRID;\n",
    "\n",
    "1. Time Interval: start interval time expressed in milliseconds. The end interval time can be obtained by adding 600,000 milliseconds (10 min) to this value;\n",
    "\n",
    "2. Country code: the phone country code of the nation.\n",
    "\n",
    "3. SMS-in activity: activity proportional to the amount of received SMSs inside a given Square id and during a given Time interval. The SMSs are sent from the nation identified by the Country code.\n",
    "\n",
    "4. SMS-out activity: activity proportional to the amount of sent SMSs inside a given Square id during a given Time interval. The SMSs are received in the nation identified by the Country code;\n",
    "\n",
    "5. Call-in activity: activity proportional to the amount of received calls inside the Square id during a given Time interval. The calls are issued from the nation identified by the Country code;\n",
    "\n",
    "6. Call-out activity: activity proportional to the amount of issued calls inside a given Square id during a given Time interval. The calls are received in the nation identified by the Country code;\n",
    "\n",
    "7. Internet traffic activity: number of CDRs generated inside a given Square id during a given Time interval. The Internet traffic is initiated from the nation identified by the Country code;"
   ]
  },
  {
   "cell_type": "code",
   "execution_count": 95,
   "metadata": {},
   "outputs": [],
   "source": [
    "# Define function to find peak hour for the day\n",
    "def peak_n_hours(sframe, n):\n",
    "    # Add hour column\n",
    "    sframe['hour'] = sframe['Time'].apply(lambda t: dt.utcfromtimestamp(t/1e3).strftime('%H'))\n",
    "    \n",
    "    # Calculate hourly activity\n",
    "    sf_hourly = sframe.groupby(key_column_names = 'hour', operations= {'smsin':agg.SUM('SMSin'), \n",
    "                            'smsout': agg.SUM('SMSout'), 'callin':agg.SUM('call_in'),\n",
    "                            'callout': agg.SUM('call_out'), 'int_traffic': agg.SUM('internet_traffic')})\n",
    "    \n",
    "    # Calculate sum of the activity volumns\n",
    "    sf_hourly['total'] = sf_hourly['smsin']+sf_hourly['smsout']+sf_hourly['callin']+sf_hourly['callout']+sf_hourly['int_traffic']\n",
    "    \n",
    "    # Drop other columns except hour and total\n",
    "    sf = sf_hourly[\"hour\", \"total\"]\n",
    "    \n",
    "    # Sort sf_hourly and fet 5 largest values\n",
    "    sf = sf.sort('total', ascending=False)\n",
    "    \n",
    "    # Return n first hours and their total activity\n",
    "    return sf.head(n)"
   ]
  },
  {
   "cell_type": "code",
   "execution_count": 94,
   "metadata": {},
   "outputs": [
    {
     "name": "stdout",
     "output_type": "stream",
     "text": [
      "The most congested communication hours of the 24th Dec 2013 in Milan\n",
      "+------+--------------------+\n",
      "| hour |       total        |\n",
      "+------+--------------------+\n",
      "|  16  | 5416257.583677525  |\n",
      "|  11  | 5371330.078746552  |\n",
      "|  17  | 5344031.796636853  |\n",
      "|  10  | 5337831.3245685985 |\n",
      "|  15  | 5284227.558210128  |\n",
      "+------+--------------------+\n",
      "[5 rows x 2 columns]\n",
      "\n",
      "The most congested communication hours of the 24th Dec 2013 in Trentino\n",
      "+------+--------------------+\n",
      "| hour |       total        |\n",
      "+------+--------------------+\n",
      "|  16  | 1036600.3784612623 |\n",
      "|  10  | 1029579.4795295165 |\n",
      "|  17  | 1011900.8027854263 |\n",
      "|  11  | 1007262.7792211826 |\n",
      "|  15  | 1006217.552276318  |\n",
      "+------+--------------------+\n",
      "[5 rows x 2 columns]\n",
      "\n"
     ]
    }
   ],
   "source": [
    "# Set path to files\n",
    "milano_dec24_path = 'data/milano_telecom_dec/sms-call-internet-mi-2013-12-14.txt'\n",
    "trentino_dec24_path = 'data/trento_telecom_dec/sms-call-internet-tn-2013-12-14.txt'\n",
    "\n",
    "# Read the files. SFrame is not able to handle rows with different lengths, \n",
    "# so first read data with pandas and then convert to SFrame\n",
    "milano = pd.read_csv(milano_dec24_path, sep=\"\\t\", header=None).fillna(0)\n",
    "milano = SFrame(milano)\n",
    "trentino = pd.read_csv(trentino_dec24_path, sep=\"\\t\", header=None).fillna(0)\n",
    "trentino = SFrame(trentino)\n",
    "\n",
    "# Add column names to SFrames\n",
    "milano = milano.rename({'0': 'SquareID', '1':'Time', '2':\"country_code\", \"3\":\"SMSin\", \"4\":\"SMSout\", \"5\":\"call_in\" , \"6\":\"call_out\", \"7\":\"internet_traffic\"})\n",
    "trentino = trentino.rename({'0': 'SquareID', '1':'Time', '2':\"country_code\", \"3\":\"SMSin\", \"4\":\"SMSout\", \"5\":\"call_in\" , \"6\":\"call_out\", \"7\":\"internet_traffic\"})\n",
    "\n",
    "# Run function and print n=5 busiest communication hours\n",
    "print(\"The most congested communication hours of the 24th Dec 2013 in Milan\")\n",
    "print(peak_n_hours(milano, 5))\n",
    "print(\"The most congested communication hours of the 24th Dec 2013 in Trentino\")\n",
    "print(peak_n_hours(trentino, 5))\n"
   ]
  },
  {
   "cell_type": "markdown",
   "metadata": {},
   "source": [
    "## 2. List top 5 Italian provinces which are most called by residents of Milan and Trentino on average.\n",
    "\n",
    "I will answer to this question based on the \"Milan/trentino to provinces\" telecommunication dataset on 24th December 2013.\n",
    "\n",
    "Milan/trentino to provinces dataset has following columns:\n",
    "\n",
    "0. Square id: identification string of a given square of Milan/Trentino GRID;\n",
    "\n",
    "1. Time Interval: Start interval time expressed in milliseconds. The end interval time can be obtained by adding 600,000 milliseconds (10 min) to this value;\n",
    "\n",
    "2. Square to Province Inter: Value representing the interaction between the Square id and the Province. It is proportional to the number of calls exchanged between callers, which are located in the Square id, and receivers located in the Province;\n",
    "\n",
    "3. Province to Square Inter: Value representing the interaction between the Square id and the Province. It is proportional to the number of calls exchanged between callers, which are located in the Province, and receivers located in the Square id.\n",
    "\n",
    "4. Province: the name of the Italian province."
   ]
  },
  {
   "cell_type": "code",
   "execution_count": 109,
   "metadata": {},
   "outputs": [],
   "source": [
    "def most_called_provinces(sframe):\n",
    "    # Rename columns\n",
    "    sframe = sframe.rename({'0': 'SquareID', '1':'Province', '2':\"Time\", \"3\":\"SqrtToProvince\", \"4\":\"ProvinceToSqrt\"})\n",
    "    \n",
    "    # Drop columns where ProvinceToSqrt=0. These rows are incoming calls from provinces \n",
    "    # and we want only count calls to provinces.\n",
    "    sframe = sframe[sframe[\"SqrtToProvince\"] > 0]\n",
    "    \n",
    "    # Count by provinces\n",
    "    famous_prov = sframe.groupby(key_column_names = 'Province', operations= {'count': agg.COUNT()})\n",
    "    \n",
    "    # Sort by count and return top5 provinces\n",
    "    return famous_prov.sort('count', ascending=False).head(5)\n"
   ]
  },
  {
   "cell_type": "code",
   "execution_count": 110,
   "metadata": {},
   "outputs": [
    {
     "name": "stdout",
     "output_type": "stream",
     "text": [
      "The most called provinces from Milano on the 24th Dec 2013\n",
      "+-----------------------+--------+\n",
      "|        Province       | count  |\n",
      "+-----------------------+--------+\n",
      "|         MILANO        | 970483 |\n",
      "| MONZA E DELLA BRIANZA | 217406 |\n",
      "|         PAVIA         | 175663 |\n",
      "|         VARESE        | 85739  |\n",
      "|         NAPOLI        | 84398  |\n",
      "+-----------------------+--------+\n",
      "[5 rows x 2 columns]\n",
      "\n",
      "The most called provinces from Trentino on the 24th Dec 2013\n",
      "+---------------+--------+\n",
      "|    Province   | count  |\n",
      "+---------------+--------+\n",
      "|     TRENTO    | 527030 |\n",
      "| BOLZANO/BOZEN | 107719 |\n",
      "|    BRESCIA    | 80951  |\n",
      "|     VERONA    | 59680  |\n",
      "|     MILANO    | 54876  |\n",
      "+---------------+--------+\n",
      "[5 rows x 2 columns]\n",
      "\n"
     ]
    }
   ],
   "source": [
    "# Set path to files\n",
    "milano_dec24_path = 'data/milano_provinces_telecom/mi-to-provinces-2013-12-24.txt'\n",
    "trentino_dec24_path = 'data/trento_provinces_dec/tn-to-provinces-2013-12-24.txt'\n",
    "\n",
    "# Read the files. SFrame is not able to handle rows with different lengths, \n",
    "# so first read data with pandas and then convert to SFrame\n",
    "milano = pd.read_csv(milano_dec24_path, sep=\"\\t\", header=None).fillna(0)\n",
    "milano = SFrame(milano)\n",
    "trentino = pd.read_csv(trentino_dec24_path, sep=\"\\t\", header=None).fillna(0)\n",
    "trentino = SFrame(trentino)\n",
    "\n",
    "# Run function and print top 5 provinces most called by residents\n",
    "print(\"The most called provinces from Milano on the 24th Dec 2013\")\n",
    "print(most_called_provinces(milano))\n",
    "print(\"The most called provinces from Trentino on the 24th Dec 2013\")\n",
    "print(most_called_provinces(trentino))\n"
   ]
  },
  {
   "cell_type": "markdown",
   "metadata": {},
   "source": [
    "## 3. List top 5 languages tweeted by distinct users in Milan. How popular is Finnish as a tweeting language in Milan?\n",
    "\n",
    "The SocialPulse dataset [Data citations 10,11] contains geolocalized tweets originated from Milan between November 1, 2013 and January 1st, 2014.\n",
    "\n",
    "0. user: anonymized Twitter username;\n",
    "\n",
    "1. language: language of the Tweet, where und means undefined;\n",
    "\n",
    "2. municipality: the municipality in which the tweet has been probably created. The approximation is the same of the geometry field (see below). The municipality field is composed of the municipality name and the Dandelion acheneID, specified in the Administrative Regions dataset. Users can get more data about the municipality (e.g., boundaries, population) using the acheneID as a primary key in the Administrative Regions;\n",
    "\n",
    "3. timestamp: Tweet timestamp;\n",
    "\n",
    "4. geometry latitude: approximate position of the tweet, in geoJSON format. Error <600 m.\n",
    "\n",
    "5. geometry longitude: approximate position of the tweet, in geoJSON format. Error <600 m."
   ]
  },
  {
   "cell_type": "code",
   "execution_count": 121,
   "metadata": {},
   "outputs": [
    {
     "data": {
      "text/html": [
       "<pre>Finished parsing file /Users/saukk/Desktop/Distributed data infrastucture/GraphLab project/data/social_pulse/social_pulse_milano.csv</pre>"
      ],
      "text/plain": [
       "Finished parsing file /Users/saukk/Desktop/Distributed data infrastucture/GraphLab project/data/social_pulse/social_pulse_milano.csv"
      ]
     },
     "metadata": {},
     "output_type": "display_data"
    },
    {
     "data": {
      "text/html": [
       "<pre>Parsing completed. Parsed 100 lines in 0.18057 secs.</pre>"
      ],
      "text/plain": [
       "Parsing completed. Parsed 100 lines in 0.18057 secs."
      ]
     },
     "metadata": {},
     "output_type": "display_data"
    },
    {
     "name": "stdout",
     "output_type": "stream",
     "text": [
      "------------------------------------------------------\n",
      "Inferred types from first 100 line(s) of file as \n",
      "column_type_hints=[str,str,str,int,float,float]\n",
      "If parsing fails due to incorrect types, you can correct\n",
      "the inferred type list above and pass it to read_csv in\n",
      "the column_type_hints argument\n",
      "------------------------------------------------------\n"
     ]
    },
    {
     "data": {
      "text/html": [
       "<pre>Finished parsing file /Users/saukk/Desktop/Distributed data infrastucture/GraphLab project/data/social_pulse/social_pulse_milano.csv</pre>"
      ],
      "text/plain": [
       "Finished parsing file /Users/saukk/Desktop/Distributed data infrastucture/GraphLab project/data/social_pulse/social_pulse_milano.csv"
      ]
     },
     "metadata": {},
     "output_type": "display_data"
    },
    {
     "data": {
      "text/html": [
       "<pre>Parsing completed. Parsed 269290 lines in 0.169974 secs.</pre>"
      ],
      "text/plain": [
       "Parsing completed. Parsed 269290 lines in 0.169974 secs."
      ]
     },
     "metadata": {},
     "output_type": "display_data"
    },
    {
     "name": "stdout",
     "output_type": "stream",
     "text": [
      "+----------+--------+\n",
      "| language | count  |\n",
      "+----------+--------+\n",
      "|    it    | 163889 |\n",
      "|    en    | 47830  |\n",
      "|    es    |  7745  |\n",
      "|    tl    |  6815  |\n",
      "|    pt    |  5162  |\n",
      "|    so    |  4013  |\n",
      "|    fr    |  3654  |\n",
      "|    id    |  3183  |\n",
      "|   und    |  3132  |\n",
      "|    de    |  2183  |\n",
      "|    tr    |  2065  |\n",
      "|    ar    |  1886  |\n",
      "|    nl    |  1754  |\n",
      "|    ro    |  1746  |\n",
      "|    fi    |  1594  |\n",
      "+----------+--------+\n",
      "[45 rows x 2 columns]\n",
      "\n"
     ]
    }
   ],
   "source": [
    "# Set path to file\n",
    "milano_path = 'data/social_pulse/social_pulse_milano.csv'\n",
    "\n",
    "# Read the files\n",
    "milano = SFrame.read_csv(milano_path, sep=\"\\t\", header=None)\n",
    "\n",
    "# Rename columns\n",
    "milano = milano.rename({'X1': 'user', 'X2':'language', 'X3':\"municipality\", \"X4\":\"timestamp\", \"X5\":\"latitude\", \"X6\":\"longitude\"})\n",
    "    \n",
    "# Count language\n",
    "languages_count = milano.groupby(key_column_names = 'language', operations= {'count': agg.COUNT()})\n",
    "\n",
    "# Sort languages by count\n",
    "languages_count = languages_count.sort('count', ascending=False)\n",
    "\n",
    "# Print 15 most populat tweeting languages\n",
    "languages_count.print_rows(num_rows=15)"
   ]
  },
  {
   "cell_type": "markdown",
   "metadata": {},
   "source": [
    "## 4. Compare call and internet activity between 24th, 25th and 26th December to 26th, 27th, 28th November for Milan. Plot the distribution.\n",
    "\n",
    "To answer this question, I will calculate hourly call and internet activity for each day, and then make histogram of hourly activities in given days in November and December."
   ]
  },
  {
   "cell_type": "code",
   "execution_count": 301,
   "metadata": {},
   "outputs": [],
   "source": [
    "def create_hourly_telecom_SFrame(paths, start_date, end_date):\n",
    "    # Measure time how long it takes. Set start time.\n",
    "    start = time.time()\n",
    "    \n",
    "    # Filter paths by start_date and end_date\n",
    "    # Path example: sms-call-internet-mi-2013-12-01.txt\n",
    "    wanted_paths = []\n",
    "    for path in data_paths:\n",
    "        date = int(path[-6:-4])\n",
    "        if (date <= end_date) and (date >= start_date):\n",
    "            wanted_paths.append(path)\n",
    "    \n",
    "    # Read the files and append dataframes to result_df\n",
    "    result_df = pd.DataFrame(columns = [\"day\", \"SquareID\", \"Time\", \"country_code\", \"SMSin\", \"SMSout\", \"call_in\" ,\"call_out\", \"internet_traffic\"])\n",
    "    for path in wanted_paths:\n",
    "        day = path[-6:-4]\n",
    "        df = pd.read_csv(path, sep=\"\\t\", header=None)\n",
    "        df = df.fillna(0)\n",
    "        df.columns = [\"SquareID\", \"Time\", \"country_code\", \"SMSin\", \"SMSout\", \"call_in\" ,\"call_out\", \"internet_traffic\"]\n",
    "        df[\"day\"] = day\n",
    "        result_df= result_df.append(df)\n",
    "    \n",
    "    # Convert Pandas dataframe to SFrame\n",
    "    sf = SFrame(data=result_df)\n",
    "    \n",
    "    # Drop columns SquareID and country_code\n",
    "    sf = sf.remove_column('SquareID')\n",
    "    sf = sf.remove_column('country_code')\n",
    "    \n",
    "    # Add hour column and add 1 hour to time (from UTC to Rome time)\n",
    "    sf[\"hour\"] = sf[\"Time\"].apply(lambda timestamp: arrow.get(timestamp+3600000).format('HH'))\n",
    "\n",
    "    # Group by day and hour, and sum of each activity in each hour and day\n",
    "    sf_hourly = sf.groupby(['day', 'hour'], {'callin':agg.SUM('call_in'), \n",
    "                                             'callout': agg.SUM('call_out'), \n",
    "                                             'int_traffic': agg.SUM('internet_traffic')})\n",
    "    \n",
    "    # Calculate sum of callin and callout\n",
    "    sf_hourly[\"calls\"] = sf_hourly[\"callin\"]+sf_hourly[\"callout\"]\n",
    "    \n",
    "    # Drop columns SquareID and country_code\n",
    "    sf_hourly = sf_hourly.remove_column('callin')\n",
    "    sf_hourly = sf_hourly.remove_column('callout')\n",
    "    \n",
    "    # Sort by day and hour\n",
    "    sf_hourly = sf_hourly.sort(['day', 'hour'], ascending=True)\n",
    "    \n",
    "    # Set hour and day type to int\n",
    "    sf_hourly[\"day\"] = sf_hourly[\"day\"].astype(int)\n",
    "    sf_hourly[\"hour\"] = sf_hourly[\"hour\"].astype(int)\n",
    "    \n",
    "    # Print time how long it took\n",
    "    end = time.time()\n",
    "    print(\"Time to run function was\", round(end - start), \"seconds\")\n",
    "\n",
    "    # Return results\n",
    "    return sf_hourly\n"
   ]
  },
  {
   "cell_type": "code",
   "execution_count": 302,
   "metadata": {},
   "outputs": [
    {
     "name": "stdout",
     "output_type": "stream",
     "text": [
      "Time to run function was 91 seconds\n",
      "Time to run function was 86 seconds\n",
      "+-----+------+--------------------+--------------------+\n",
      "| day | hour |    int_traffic     |       calls        |\n",
      "+-----+------+--------------------+--------------------+\n",
      "|  26 |  0   | 3081805.3777902294 | 41192.73183245967  |\n",
      "|  26 |  1   | 2572701.7786852843 |  17706.4880705841  |\n",
      "|  26 |  2   | 2231849.134087167  | 11778.291443263053 |\n",
      "|  26 |  3   | 2032399.1755711331 | 10178.70121172568  |\n",
      "|  26 |  4   | 1922521.8709400028 | 11383.318199818332 |\n",
      "+-----+------+--------------------+--------------------+\n",
      "[72 rows x 4 columns]\n",
      "\n",
      "+-----+------+--------------------+--------------------+\n",
      "| day | hour |    int_traffic     |       calls        |\n",
      "+-----+------+--------------------+--------------------+\n",
      "|  24 |  0   | 3688771.546387044  | 85336.24936358449  |\n",
      "|  24 |  1   |  3129452.00270633  | 47241.11021535519  |\n",
      "|  24 |  2   | 2618230.2990472727 | 26772.502749995212 |\n",
      "|  24 |  3   | 2293036.6762779932 | 19610.40673445706  |\n",
      "|  24 |  4   | 2039844.8821846358 | 16669.049732566746 |\n",
      "+-----+------+--------------------+--------------------+\n",
      "[72 rows x 4 columns]\n",
      "\n"
     ]
    }
   ],
   "source": [
    "# Execute the glob function that returns a list of filepaths\n",
    "data_paths_milano_nov = glob2.glob(\"data/milano_telecom_nov/*\")\n",
    "data_paths_milano_dec = glob2.glob(\"data/milano_telecom_dec/*\")\n",
    "\n",
    "# Use create_telecom_SFrame to read paths and join the files within given dates\n",
    "milano_nov = create_hourly_telecom_SFrame(data_paths_milano_nov, 26, 28)\n",
    "milano_dec = create_hourly_telecom_SFrame(data_paths_milano_dec, 24, 26)\n",
    "\n",
    "# Print first 5 rows\n",
    "milano_nov.print_rows(num_rows=5)\n",
    "milano_dec.print_rows(num_rows=5)"
   ]
  },
  {
   "cell_type": "code",
   "execution_count": 343,
   "metadata": {},
   "outputs": [],
   "source": [
    "# Make histograms\n",
    "def make_histograms(SFrame, title):    \n",
    "    # Plot the distibution (make histograms)\n",
    "    fig, ax = plt.subplots(2, 1, sharey=True, tight_layout=True)\n",
    "    ax[0].hist(SFrame[\"calls\"], bins=50)\n",
    "    ax[0].title.set_text('Calls traffic distibution {}'.format(title))\n",
    "    ax[1].hist(SFrame[\"int_traffic\"], bins=50)\n",
    "    ax[1].title.set_text('Internet traffic distibution {}'.format(title))\n",
    "    plt.show()\n",
    "    \n",
    "    # Make days list and sort it\n",
    "    days = list(SFrame[\"day\"].unique())\n",
    "    days = sorted(days)\n",
    "    \n",
    "    # Make hourly calls graph\n",
    "    for day in days:\n",
    "        sf_day = SFrame[SFrame[\"day\"] == day]\n",
    "        plt.plot(sf_day[\"hour\"], sf_day[\"calls\"])\n",
    "    plt.title('Hourly calls activity {}'.format(title))\n",
    "    plt.legend([days[0], days[1], days[2]], loc =\"upper left\") \n",
    "    plt.show()\n",
    " \n",
    "    # Make hourly internet activity graph\n",
    "    for day in days:\n",
    "        sf_day = SFrame[SFrame[\"day\"] == day]\n",
    "        plt.plot(sf_day[\"hour\"], sf_day[\"int_traffic\"])\n",
    "    plt.title('Hourly internet activity {}'.format(title))\n",
    "    plt.legend([days[0], days[1], days[2]], loc =\"upper left\") \n",
    "    plt.show()"
   ]
  },
  {
   "cell_type": "code",
   "execution_count": 344,
   "metadata": {},
   "outputs": [
    {
     "data": {
      "image/png": "[encoded data removed]",
      "text/plain": [
       "<Figure size 432x288 with 2 Axes>"
      ]
     },
     "metadata": {
      "needs_background": "light"
     },
     "output_type": "display_data"
    },
    {
     "name": "stdout",
     "output_type": "stream",
     "text": [
      "[26, 27, 28]\n"
     ]
    },
    {
     "data": {
      "image/png": "[encoded data removed]",
      "text/plain": [
       "<Figure size 432x288 with 1 Axes>"
      ]
     },
     "metadata": {
      "needs_background": "light"
     },
     "output_type": "display_data"
    },
    {
     "data": {
      "image/png": "[encoded data removed]",
      "text/plain": [
       "<Figure size 432x288 with 1 Axes>"
      ]
     },
     "metadata": {
      "needs_background": "light"
     },
     "output_type": "display_data"
    },
    {
     "data": {
      "image/png": "[encoded data removed]",
      "text/plain": [
       "<Figure size 432x288 with 2 Axes>"
      ]
     },
     "metadata": {
      "needs_background": "light"
     },
     "output_type": "display_data"
    },
    {
     "name": "stdout",
     "output_type": "stream",
     "text": [
      "[24, 25, 26]\n"
     ]
    },
    {
     "data": {
      "image/png": "[encoded data removed]",
      "text/plain": [
       "<Figure size 432x288 with 1 Axes>"
      ]
     },
     "metadata": {
      "needs_background": "light"
     },
     "output_type": "display_data"
    },
    {
     "data": {
      "image/png": "[encoded data removed]",
      "text/plain": [
       "<Figure size 432x288 with 1 Axes>"
      ]
     },
     "metadata": {
      "needs_background": "light"
     },
     "output_type": "display_data"
    }
   ],
   "source": [
    "make_histograms(milano_nov, \"Milano Nov 26th to 28th\")\n",
    "make_histograms(milano_dec, \"Milano Dec 24th to 26th\")"
   ]
  },
  {
   "cell_type": "markdown",
   "metadata": {},
   "source": [
    "## 5. Find correlation between user communication activity and different weather conditions (e.g. rain, snow etc.) in Milan and Trentino.\n",
    "\n",
    "Milano weather dataset columns:\n",
    "\n",
    "1. Timestamp: timestamp value with the following format: YYYYMMDDHHmm;\n",
    "\n",
    "2. Square id: id of a given square of Milan/Trentino GRID;\n",
    "\n",
    "3. Intensity: intensity value of the precipitation. It is a value between 0 and 3;\n",
    "\n",
    "4. Coverage: percentage value of the quadrant covered by the precipitation;\n",
    "\n",
    "5. Type: type of the precipitation. It is a value between 0 and 2.\n",
    "\n",
    "Trentino weather dataset columns:\n",
    "\n",
    "1. Timestamp: timestamp value with the following format: YYYYMMDDHHmm;\n",
    "\n",
    "2. Square id: id of a given square of Milan/Trentino GRID;\n",
    "\n",
    "3. Intensity: intensity value of the precipitation. It is a value between 0 and 18.\n"
   ]
  },
  {
   "cell_type": "code",
   "execution_count": 383,
   "metadata": {},
   "outputs": [
    {
     "data": {
      "text/html": [
       "<pre>Finished parsing file /Users/saukk/Desktop/Distributed data infrastucture/GraphLab project/data/MeteoMilano_01-11-13_01-01-14.csv</pre>"
      ],
      "text/plain": [
       "Finished parsing file /Users/saukk/Desktop/Distributed data infrastucture/GraphLab project/data/MeteoMilano_01-11-13_01-01-14.csv"
      ]
     },
     "metadata": {},
     "output_type": "display_data"
    },
    {
     "data": {
      "text/html": [
       "<pre>Parsing completed. Parsed 100 lines in 0.015827 secs.</pre>"
      ],
      "text/plain": [
       "Parsing completed. Parsed 100 lines in 0.015827 secs."
      ]
     },
     "metadata": {},
     "output_type": "display_data"
    },
    {
     "name": "stdout",
     "output_type": "stream",
     "text": [
      "------------------------------------------------------\n",
      "Inferred types from first 100 line(s) of file as \n",
      "column_type_hints=[int,int,int,int,int]\n",
      "If parsing fails due to incorrect types, you can correct\n",
      "the inferred type list above and pass it to read_csv in\n",
      "the column_type_hints argument\n",
      "------------------------------------------------------\n"
     ]
    },
    {
     "data": {
      "text/html": [
       "<pre>Finished parsing file /Users/saukk/Desktop/Distributed data infrastucture/GraphLab project/data/MeteoMilano_01-11-13_01-01-14.csv</pre>"
      ],
      "text/plain": [
       "Finished parsing file /Users/saukk/Desktop/Distributed data infrastucture/GraphLab project/data/MeteoMilano_01-11-13_01-01-14.csv"
      ]
     },
     "metadata": {},
     "output_type": "display_data"
    },
    {
     "data": {
      "text/html": [
       "<pre>Parsing completed. Parsed 33316 lines in 0.016665 secs.</pre>"
      ],
      "text/plain": [
       "Parsing completed. Parsed 33316 lines in 0.016665 secs."
      ]
     },
     "metadata": {},
     "output_type": "display_data"
    },
    {
     "data": {
      "text/html": [
       "<pre>Finished parsing file /Users/saukk/Desktop/Distributed data infrastucture/GraphLab project/data/precipitation-trentino.csv</pre>"
      ],
      "text/plain": [
       "Finished parsing file /Users/saukk/Desktop/Distributed data infrastucture/GraphLab project/data/precipitation-trentino.csv"
      ]
     },
     "metadata": {},
     "output_type": "display_data"
    },
    {
     "data": {
      "text/html": [
       "<pre>Parsing completed. Parsed 100 lines in 0.290014 secs.</pre>"
      ],
      "text/plain": [
       "Parsing completed. Parsed 100 lines in 0.290014 secs."
      ]
     },
     "metadata": {},
     "output_type": "display_data"
    },
    {
     "name": "stdout",
     "output_type": "stream",
     "text": [
      "------------------------------------------------------\n",
      "Inferred types from first 100 line(s) of file as \n",
      "column_type_hints=[int,int,int]\n",
      "If parsing fails due to incorrect types, you can correct\n",
      "the inferred type list above and pass it to read_csv in\n",
      "the column_type_hints argument\n",
      "------------------------------------------------------\n"
     ]
    },
    {
     "data": {
      "text/html": [
       "<pre>Read 2489903 lines. Lines per second: 5.05141e+06</pre>"
      ],
      "text/plain": [
       "Read 2489903 lines. Lines per second: 5.05141e+06"
      ]
     },
     "metadata": {},
     "output_type": "display_data"
    },
    {
     "data": {
      "text/html": [
       "<pre>Finished parsing file /Users/saukk/Desktop/Distributed data infrastucture/GraphLab project/data/precipitation-trentino.csv</pre>"
      ],
      "text/plain": [
       "Finished parsing file /Users/saukk/Desktop/Distributed data infrastucture/GraphLab project/data/precipitation-trentino.csv"
      ]
     },
     "metadata": {},
     "output_type": "display_data"
    },
    {
     "data": {
      "text/html": [
       "<pre>Parsing completed. Parsed 3489417 lines in 0.587584 secs.</pre>"
      ],
      "text/plain": [
       "Parsing completed. Parsed 3489417 lines in 0.587584 secs."
      ]
     },
     "metadata": {},
     "output_type": "display_data"
    },
    {
     "data": {
      "image/png": "[encoded data removed]",
      "text/plain": [
       "<Figure size 432x288 with 1 Axes>"
      ]
     },
     "metadata": {},
     "output_type": "display_data"
    },
    {
     "data": {
      "image/png": "[encoded data removed]",
      "text/plain": [
       "<Figure size 432x288 with 1 Axes>"
      ]
     },
     "metadata": {},
     "output_type": "display_data"
    },
    {
     "name": "stdout",
     "output_type": "stream",
     "text": [
      "3\n",
      "18\n"
     ]
    }
   ],
   "source": [
    "# Set paths to weather files\n",
    "milano_weather_path = 'data/MeteoMilano_01-11-13_01-01-14.csv'\n",
    "trentino_weather_path = 'data/precipitation-trentino.csv'\n",
    "\n",
    "# Read weather files\n",
    "milano_weather = SFrame.read_csv(milano_weather_path, sep=\",\", header=None)\n",
    "trentino_weather = SFrame.read_csv(trentino_weather_path, sep=\",\", header=None)\n",
    "\n",
    "# Rename columns of the weather SFrames\n",
    "milano_weather = milano_weather.rename({'X1':'timestamp', 'X2':'sqrtID', 'X3':\"intensity\", \"X4\":\"coverage\", \"X5\":\"type\"})\n",
    "trentino_weather = trentino_weather.rename({'X1': 'timestamp', 'X2':'sqrtID', 'X3':\"intensity\"})\n",
    "\n",
    "# Make intensity histograms to see intensity distribution in Milan and Trentino.\n",
    "# Milan and Trentino precipitation intensity has different scales.\n",
    "# Milan scale is 0-4 and Trentino 0-18.\n",
    "plt.hist(milano_weather[\"intensity\"], bins=4)\n",
    "plt.title(\"Milano precipitation intensity\")\n",
    "plt.show()\n",
    "plt.hist(trentino_weather[\"intensity\"], bins=19)\n",
    "plt.title(\"Trentino precipitation intensity\")\n",
    "plt.show()\n",
    "\n",
    "    \n",
    "#clear_weather = gl.SFrame()\n",
    "#rain_weather = gl.SFrame()\n",
    "#snow_weather = gl.SFrame()\n",
    "\n",
    "#clear_weather = weather.filter_by(0, 'type')\n",
    "#rain_weather = weather.filter_by(1, 'type')\n",
    "#snow_weather = weather.filter_by(2, 'type')\n",
    "\n",
    "#clear_weather = clear_weather.join(trento_usage, on='timestamp', how='inner')\n",
    "#rain_weather = rain_weather.join(trento_usage, on='timestamp', how='inner')\n",
    "#snow_weather = snow_weather.join(trento_usage, on='timestamp', how='inner')\n",
    "\n",
    "#milano_weather.print_rows(num_rows=5)\n",
    "#trentino_weather.print_rows(num_rows=5)"
   ]
  },
  {
   "cell_type": "code",
   "execution_count": 349,
   "metadata": {},
   "outputs": [
    {
     "ename": "NameError",
     "evalue": "name 'clear' is not defined",
     "output_type": "error",
     "traceback": [
      "\u001b[0;31m---------------------------------------------------------------------------\u001b[0m",
      "\u001b[0;31mNameError\u001b[0m                                 Traceback (most recent call last)",
      "\u001b[0;32m<ipython-input-349-0ab37c123a6e>\u001b[0m in \u001b[0;36m<module>\u001b[0;34m\u001b[0m\n\u001b[1;32m      1\u001b[0m \u001b[0;32mimport\u001b[0m \u001b[0mseaborn\u001b[0m \u001b[0;32mas\u001b[0m \u001b[0msns\u001b[0m\u001b[0;34m\u001b[0m\u001b[0;34m\u001b[0m\u001b[0m\n\u001b[1;32m      2\u001b[0m \u001b[0msns\u001b[0m\u001b[0;34m.\u001b[0m\u001b[0mset\u001b[0m\u001b[0;34m(\u001b[0m\u001b[0;34m)\u001b[0m\u001b[0;34m\u001b[0m\u001b[0;34m\u001b[0m\u001b[0m\n\u001b[0;32m----> 3\u001b[0;31m \u001b[0msns\u001b[0m\u001b[0;34m.\u001b[0m\u001b[0mdistplot\u001b[0m\u001b[0;34m(\u001b[0m\u001b[0mclear\u001b[0m\u001b[0;34m[\u001b[0m\u001b[0;34m'total'\u001b[0m\u001b[0;34m]\u001b[0m\u001b[0;34m,\u001b[0m \u001b[0mkde\u001b[0m\u001b[0;34m=\u001b[0m\u001b[0;32mFalse\u001b[0m\u001b[0;34m)\u001b[0m\u001b[0;34m\u001b[0m\u001b[0;34m\u001b[0m\u001b[0m\n\u001b[0m\u001b[1;32m      4\u001b[0m \u001b[0msns\u001b[0m\u001b[0;34m.\u001b[0m\u001b[0mdistplot\u001b[0m\u001b[0;34m(\u001b[0m\u001b[0mrain\u001b[0m\u001b[0;34m[\u001b[0m\u001b[0;34m'total'\u001b[0m\u001b[0;34m]\u001b[0m\u001b[0;34m,\u001b[0m \u001b[0mkde\u001b[0m\u001b[0;34m=\u001b[0m\u001b[0;32mFalse\u001b[0m\u001b[0;34m)\u001b[0m\u001b[0;34m\u001b[0m\u001b[0;34m\u001b[0m\u001b[0m\n\u001b[1;32m      5\u001b[0m \u001b[0msns\u001b[0m\u001b[0;34m.\u001b[0m\u001b[0mdistplot\u001b[0m\u001b[0;34m(\u001b[0m\u001b[0msnow\u001b[0m\u001b[0;34m[\u001b[0m\u001b[0;34m'total'\u001b[0m\u001b[0;34m]\u001b[0m\u001b[0;34m,\u001b[0m \u001b[0mkde\u001b[0m\u001b[0;34m=\u001b[0m\u001b[0;32mFalse\u001b[0m\u001b[0;34m)\u001b[0m\u001b[0;34m\u001b[0m\u001b[0;34m\u001b[0m\u001b[0m\n",
      "\u001b[0;31mNameError\u001b[0m: name 'clear' is not defined"
     ]
    }
   ],
   "source": [
    "import seaborn as sns\n",
    "sns.set()\n",
    "sns.distplot(clear['total'], kde=False)\n",
    "sns.distplot(rain['total'], kde=False)\n",
    "sns.distplot(snow['total'], kde=False)\n",
    "plt.legend(['Clear', 'Rain', 'Snow'])\n",
    "plt.axvline(0, color=\"k\", linestyle=\"--\");\n",
    "plt.show()"
   ]
  },
  {
   "cell_type": "markdown",
   "metadata": {},
   "source": [
    "## 6. Plot the heatmap of user telecommunication activity for both Milan and Trentino. Do you observe any shift in communication pattern of users between day and night? (A typical day time is between 8AM to 8PM)"
   ]
  },
  {
   "cell_type": "code",
   "execution_count": null,
   "metadata": {},
   "outputs": [],
   "source": []
  },
  {
   "cell_type": "markdown",
   "metadata": {},
   "source": [
    "## 7. Investigate and plot the correlation between air quality and weather (temperature, sunshine, precipitation, etc.)."
   ]
  },
  {
   "cell_type": "code",
   "execution_count": null,
   "metadata": {},
   "outputs": [],
   "source": []
  },
  {
   "cell_type": "markdown",
   "metadata": {},
   "source": [
    "# Answers:\n",
    "### In the answers I have used dates 26-28th November and 24-26th December"
   ]
  },
  {
   "cell_type": "markdown",
   "metadata": {},
   "source": [
    "### Read telecom data"
   ]
  },
  {
   "cell_type": "code",
   "execution_count": 54,
   "metadata": {},
   "outputs": [
    {
     "name": "stdout",
     "output_type": "stream",
     "text": [
      "1.2874603271484375e-05\n",
      "6.030048131942749\n",
      "197.31782484054565\n",
      "197.31798195838928\n"
     ]
    },
    {
     "data": {
      "text/html": [
       "<div style=\"max-height:1000px;max-width:1500px;overflow:auto;\"><table frame=\"box\" rules=\"cols\">\n",
       "    <tr>\n",
       "        <th style=\"padding-left: 1em; padding-right: 1em; text-align: center\">SquareID</th>\n",
       "        <th style=\"padding-left: 1em; padding-right: 1em; text-align: center\">Time</th>\n",
       "        <th style=\"padding-left: 1em; padding-right: 1em; text-align: center\">country_code</th>\n",
       "        <th style=\"padding-left: 1em; padding-right: 1em; text-align: center\">SMSin</th>\n",
       "        <th style=\"padding-left: 1em; padding-right: 1em; text-align: center\">SMSout</th>\n",
       "        <th style=\"padding-left: 1em; padding-right: 1em; text-align: center\">call_in</th>\n",
       "    </tr>\n",
       "    <tr>\n",
       "        <td style=\"padding-left: 1em; padding-right: 1em; text-align: center; vertical-align: top\">1</td>\n",
       "        <td style=\"padding-left: 1em; padding-right: 1em; text-align: center; vertical-align: top\">1385420400000</td>\n",
       "        <td style=\"padding-left: 1em; padding-right: 1em; text-align: center; vertical-align: top\">0</td>\n",
       "        <td style=\"padding-left: 1em; padding-right: 1em; text-align: center; vertical-align: top\">0.05701250935247165</td>\n",
       "        <td style=\"padding-left: 1em; padding-right: 1em; text-align: center; vertical-align: top\">nan</td>\n",
       "        <td style=\"padding-left: 1em; padding-right: 1em; text-align: center; vertical-align: top\">nan</td>\n",
       "    </tr>\n",
       "    <tr>\n",
       "        <td style=\"padding-left: 1em; padding-right: 1em; text-align: center; vertical-align: top\">1</td>\n",
       "        <td style=\"padding-left: 1em; padding-right: 1em; text-align: center; vertical-align: top\">1385420400000</td>\n",
       "        <td style=\"padding-left: 1em; padding-right: 1em; text-align: center; vertical-align: top\">39</td>\n",
       "        <td style=\"padding-left: 1em; padding-right: 1em; text-align: center; vertical-align: top\">0.1864510916887049</td>\n",
       "        <td style=\"padding-left: 1em; padding-right: 1em; text-align: center; vertical-align: top\">0.2161631361639904</td>\n",
       "        <td style=\"padding-left: 1em; padding-right: 1em; text-align: center; vertical-align: top\">0.10920185950874473</td>\n",
       "    </tr>\n",
       "    <tr>\n",
       "        <td style=\"padding-left: 1em; padding-right: 1em; text-align: center; vertical-align: top\">1</td>\n",
       "        <td style=\"padding-left: 1em; padding-right: 1em; text-align: center; vertical-align: top\">1385421000000</td>\n",
       "        <td style=\"padding-left: 1em; padding-right: 1em; text-align: center; vertical-align: top\">0</td>\n",
       "        <td style=\"padding-left: 1em; padding-right: 1em; text-align: center; vertical-align: top\">0.003574620210998875</td>\n",
       "        <td style=\"padding-left: 1em; padding-right: 1em; text-align: center; vertical-align: top\">nan</td>\n",
       "        <td style=\"padding-left: 1em; padding-right: 1em; text-align: center; vertical-align: top\">nan</td>\n",
       "    </tr>\n",
       "    <tr>\n",
       "        <td style=\"padding-left: 1em; padding-right: 1em; text-align: center; vertical-align: top\">1</td>\n",
       "        <td style=\"padding-left: 1em; padding-right: 1em; text-align: center; vertical-align: top\">1385421000000</td>\n",
       "        <td style=\"padding-left: 1em; padding-right: 1em; text-align: center; vertical-align: top\">39</td>\n",
       "        <td style=\"padding-left: 1em; padding-right: 1em; text-align: center; vertical-align: top\">0.21670190728429012</td>\n",
       "        <td style=\"padding-left: 1em; padding-right: 1em; text-align: center; vertical-align: top\">0.22027652749528906</td>\n",
       "        <td style=\"padding-left: 1em; padding-right: 1em; text-align: center; vertical-align: top\">0.02730046487718618</td>\n",
       "    </tr>\n",
       "    <tr>\n",
       "        <td style=\"padding-left: 1em; padding-right: 1em; text-align: center; vertical-align: top\">1</td>\n",
       "        <td style=\"padding-left: 1em; padding-right: 1em; text-align: center; vertical-align: top\">1385421600000</td>\n",
       "        <td style=\"padding-left: 1em; padding-right: 1em; text-align: center; vertical-align: top\">39</td>\n",
       "        <td style=\"padding-left: 1em; padding-right: 1em; text-align: center; vertical-align: top\">0.13417624316013174</td>\n",
       "        <td style=\"padding-left: 1em; padding-right: 1em; text-align: center; vertical-align: top\">0.2190279885100893</td>\n",
       "        <td style=\"padding-left: 1em; padding-right: 1em; text-align: center; vertical-align: top\">0.052274848528573205</td>\n",
       "    </tr>\n",
       "    <tr>\n",
       "        <td style=\"padding-left: 1em; padding-right: 1em; text-align: center; vertical-align: top\">1</td>\n",
       "        <td style=\"padding-left: 1em; padding-right: 1em; text-align: center; vertical-align: top\">1385421600000</td>\n",
       "        <td style=\"padding-left: 1em; padding-right: 1em; text-align: center; vertical-align: top\">46</td>\n",
       "        <td style=\"padding-left: 1em; padding-right: 1em; text-align: center; vertical-align: top\">nan</td>\n",
       "        <td style=\"padding-left: 1em; padding-right: 1em; text-align: center; vertical-align: top\">nan</td>\n",
       "        <td style=\"padding-left: 1em; padding-right: 1em; text-align: center; vertical-align: top\">nan</td>\n",
       "    </tr>\n",
       "    <tr>\n",
       "        <td style=\"padding-left: 1em; padding-right: 1em; text-align: center; vertical-align: top\">1</td>\n",
       "        <td style=\"padding-left: 1em; padding-right: 1em; text-align: center; vertical-align: top\">1385422200000</td>\n",
       "        <td style=\"padding-left: 1em; padding-right: 1em; text-align: center; vertical-align: top\">39</td>\n",
       "        <td style=\"padding-left: 1em; padding-right: 1em; text-align: center; vertical-align: top\">0.0017873101054994376</td>\n",
       "        <td style=\"padding-left: 1em; padding-right: 1em; text-align: center; vertical-align: top\">0.010723860632996627</td>\n",
       "        <td style=\"padding-left: 1em; padding-right: 1em; text-align: center; vertical-align: top\">nan</td>\n",
       "    </tr>\n",
       "    <tr>\n",
       "        <td style=\"padding-left: 1em; padding-right: 1em; text-align: center; vertical-align: top\">1</td>\n",
       "        <td style=\"padding-left: 1em; padding-right: 1em; text-align: center; vertical-align: top\">1385422800000</td>\n",
       "        <td style=\"padding-left: 1em; padding-right: 1em; text-align: center; vertical-align: top\">0</td>\n",
       "        <td style=\"padding-left: 1em; padding-right: 1em; text-align: center; vertical-align: top\">0.05460092975437236</td>\n",
       "        <td style=\"padding-left: 1em; padding-right: 1em; text-align: center; vertical-align: top\">nan</td>\n",
       "        <td style=\"padding-left: 1em; padding-right: 1em; text-align: center; vertical-align: top\">nan</td>\n",
       "    </tr>\n",
       "    <tr>\n",
       "        <td style=\"padding-left: 1em; padding-right: 1em; text-align: center; vertical-align: top\">1</td>\n",
       "        <td style=\"padding-left: 1em; padding-right: 1em; text-align: center; vertical-align: top\">1385422800000</td>\n",
       "        <td style=\"padding-left: 1em; padding-right: 1em; text-align: center; vertical-align: top\">39</td>\n",
       "        <td style=\"padding-left: 1em; padding-right: 1em; text-align: center; vertical-align: top\">0.0825256641241584</td>\n",
       "        <td style=\"padding-left: 1em; padding-right: 1em; text-align: center; vertical-align: top\">0.057012509352471666</td>\n",
       "        <td style=\"padding-left: 1em; padding-right: 1em; text-align: center; vertical-align: top\">0.08190139463155853</td>\n",
       "    </tr>\n",
       "    <tr>\n",
       "        <td style=\"padding-left: 1em; padding-right: 1em; text-align: center; vertical-align: top\">1</td>\n",
       "        <td style=\"padding-left: 1em; padding-right: 1em; text-align: center; vertical-align: top\">1385423400000</td>\n",
       "        <td style=\"padding-left: 1em; padding-right: 1em; text-align: center; vertical-align: top\">0</td>\n",
       "        <td style=\"padding-left: 1em; padding-right: 1em; text-align: center; vertical-align: top\">0.0261374242642866</td>\n",
       "        <td style=\"padding-left: 1em; padding-right: 1em; text-align: center; vertical-align: top\">nan</td>\n",
       "        <td style=\"padding-left: 1em; padding-right: 1em; text-align: center; vertical-align: top\">nan</td>\n",
       "    </tr>\n",
       "</table>\n",
       "<table frame=\"box\" rules=\"cols\">\n",
       "    <tr>\n",
       "        <th style=\"padding-left: 1em; padding-right: 1em; text-align: center\">call_out</th>\n",
       "        <th style=\"padding-left: 1em; padding-right: 1em; text-align: center\">Internet_Traffic</th>\n",
       "    </tr>\n",
       "    <tr>\n",
       "        <td style=\"padding-left: 1em; padding-right: 1em; text-align: center; vertical-align: top\">nan</td>\n",
       "        <td style=\"padding-left: 1em; padding-right: 1em; text-align: center; vertical-align: top\">nan</td>\n",
       "    </tr>\n",
       "    <tr>\n",
       "        <td style=\"padding-left: 1em; padding-right: 1em; text-align: center; vertical-align: top\">0.02730046487718618</td>\n",
       "        <td style=\"padding-left: 1em; padding-right: 1em; text-align: center; vertical-align: top\">10.599406192272747</td>\n",
       "    </tr>\n",
       "    <tr>\n",
       "        <td style=\"padding-left: 1em; padding-right: 1em; text-align: center; vertical-align: top\">nan</td>\n",
       "        <td style=\"padding-left: 1em; padding-right: 1em; text-align: center; vertical-align: top\">nan</td>\n",
       "    </tr>\n",
       "    <tr>\n",
       "        <td style=\"padding-left: 1em; padding-right: 1em; text-align: center; vertical-align: top\">0.08019958289835925</td>\n",
       "        <td style=\"padding-left: 1em; padding-right: 1em; text-align: center; vertical-align: top\">10.256889623070114</td>\n",
       "    </tr>\n",
       "    <tr>\n",
       "        <td style=\"padding-left: 1em; padding-right: 1em; text-align: center; vertical-align: top\">nan</td>\n",
       "        <td style=\"padding-left: 1em; padding-right: 1em; text-align: center; vertical-align: top\">9.70305885778619</td>\n",
       "    </tr>\n",
       "    <tr>\n",
       "        <td style=\"padding-left: 1em; padding-right: 1em; text-align: center; vertical-align: top\">nan</td>\n",
       "        <td style=\"padding-left: 1em; padding-right: 1em; text-align: center; vertical-align: top\">0.0261374242642866</td>\n",
       "    </tr>\n",
       "    <tr>\n",
       "        <td style=\"padding-left: 1em; padding-right: 1em; text-align: center; vertical-align: top\">0.0017873101054994376</td>\n",
       "        <td style=\"padding-left: 1em; padding-right: 1em; text-align: center; vertical-align: top\">9.685158633463407</td>\n",
       "    </tr>\n",
       "    <tr>\n",
       "        <td style=\"padding-left: 1em; padding-right: 1em; text-align: center; vertical-align: top\">nan</td>\n",
       "        <td style=\"padding-left: 1em; padding-right: 1em; text-align: center; vertical-align: top\">nan</td>\n",
       "    </tr>\n",
       "    <tr>\n",
       "        <td style=\"padding-left: 1em; padding-right: 1em; text-align: center; vertical-align: top\">0.0825256641241584</td>\n",
       "        <td style=\"padding-left: 1em; padding-right: 1em; text-align: center; vertical-align: top\">9.665621261221911</td>\n",
       "    </tr>\n",
       "    <tr>\n",
       "        <td style=\"padding-left: 1em; padding-right: 1em; text-align: center; vertical-align: top\">nan</td>\n",
       "        <td style=\"padding-left: 1em; padding-right: 1em; text-align: center; vertical-align: top\">nan</td>\n",
       "    </tr>\n",
       "</table>\n",
       "[10940248 rows x 8 columns]<br/>Note: Only the head of the SFrame is printed.<br/>You can use print_rows(num_rows=m, num_columns=n) to print more rows and columns.\n",
       "</div>"
      ],
      "text/plain": [
       "Columns:\n",
       "\tSquareID\tint\n",
       "\tTime\tint\n",
       "\tcountry_code\tint\n",
       "\tSMSin\tfloat\n",
       "\tSMSout\tfloat\n",
       "\tcall_in\tfloat\n",
       "\tcall_out\tfloat\n",
       "\tInternet_Traffic\tfloat\n",
       "\n",
       "Rows: 10940248\n",
       "\n",
       "Data:\n",
       "+----------+---------------+--------------+-----------------------+\n",
       "| SquareID |      Time     | country_code |         SMSin         |\n",
       "+----------+---------------+--------------+-----------------------+\n",
       "|    1     | 1385420400000 |      0       |  0.05701250935247165  |\n",
       "|    1     | 1385420400000 |      39      |   0.1864510916887049  |\n",
       "|    1     | 1385421000000 |      0       |  0.003574620210998875 |\n",
       "|    1     | 1385421000000 |      39      |  0.21670190728429012  |\n",
       "|    1     | 1385421600000 |      39      |  0.13417624316013174  |\n",
       "|    1     | 1385421600000 |      46      |          nan          |\n",
       "|    1     | 1385422200000 |      39      | 0.0017873101054994376 |\n",
       "|    1     | 1385422800000 |      0       |  0.05460092975437236  |\n",
       "|    1     | 1385422800000 |      39      |   0.0825256641241584  |\n",
       "|    1     | 1385423400000 |      0       |   0.0261374242642866  |\n",
       "+----------+---------------+--------------+-----------------------+\n",
       "+----------------------+----------------------+-----------------------+\n",
       "|        SMSout        |       call_in        |        call_out       |\n",
       "+----------------------+----------------------+-----------------------+\n",
       "|         nan          |         nan          |          nan          |\n",
       "|  0.2161631361639904  | 0.10920185950874473  |  0.02730046487718618  |\n",
       "|         nan          |         nan          |          nan          |\n",
       "| 0.22027652749528906  | 0.02730046487718618  |  0.08019958289835925  |\n",
       "|  0.2190279885100893  | 0.052274848528573205 |          nan          |\n",
       "|         nan          |         nan          |          nan          |\n",
       "| 0.010723860632996627 |         nan          | 0.0017873101054994376 |\n",
       "|         nan          |         nan          |          nan          |\n",
       "| 0.057012509352471666 | 0.08190139463155853  |   0.0825256641241584  |\n",
       "|         nan          |         nan          |          nan          |\n",
       "+----------------------+----------------------+-----------------------+\n",
       "+--------------------+\n",
       "|  Internet_Traffic  |\n",
       "+--------------------+\n",
       "|        nan         |\n",
       "| 10.599406192272747 |\n",
       "|        nan         |\n",
       "| 10.256889623070114 |\n",
       "|  9.70305885778619  |\n",
       "| 0.0261374242642866 |\n",
       "| 9.685158633463407  |\n",
       "|        nan         |\n",
       "| 9.665621261221911  |\n",
       "|        nan         |\n",
       "+--------------------+\n",
       "[10940248 rows x 8 columns]\n",
       "Note: Only the head of the SFrame is printed.\n",
       "You can use print_rows(num_rows=m, num_columns=n) to print more rows and columns."
      ]
     },
     "execution_count": 54,
     "metadata": {},
     "output_type": "execute_result"
    }
   ],
   "source": [
    "# Create function to join multiple files, filter by date, and join to single dataframe    \n",
    "def create_telecom_SFrame(paths, start_date, end_date):\n",
    "    # Measure time how long it takes. Set start time.\n",
    "    start = time.time()\n",
    "    \n",
    "    # Filter paths by start_date and end_date\n",
    "    # Path example: sms-call-internet-mi-2013-12-01.txt\n",
    "    wanted_paths = []\n",
    "    for path in data_paths:\n",
    "        date = int(path[-6:-4])\n",
    "        if (date <= end_date) and (date >= start_date):\n",
    "            wanted_paths.append(path)\n",
    "    \n",
    "    # Read the files and append dataframes to result_df\n",
    "    result_df = pd.DataFrame(columns = [\"SquareID\", \"Time\", \"country_code\", \"SMSin\", \"SMSout\", \"call_in\" ,\"call_out\", \"Internet_Traffic\"])\n",
    "    for path in wanted_paths:\n",
    "        df = pd.read_csv(path, sep=\"\\t\", header=None)\n",
    "        #df = df.fillna(0)\n",
    "        df.columns = [\"SquareID\", \"Time\", \"country_code\", \"SMSin\", \"SMSout\", \"call_in\" ,\"call_out\", \"Internet_Traffic\"]\n",
    "        result_df= result_df.append(df)\n",
    "    \n",
    "    # Convert Pandas dataframe to SFrame\n",
    "    result_SFrame = SFrame(data=result_df)\n",
    "    \n",
    "    # Add UTC_time columns. Running this row takes about 5mins.\n",
    "    #result_df[\"UTCtime\"] = result_df[\"Time\"].apply(lambda timestamp: arrow.get(timestamp).format('MMM Do YYYY HH:mm'))\n",
    "    \n",
    "    # Print time how long it took\n",
    "    end = time.time()\n",
    "    print(\"Time to run function was\", round(end - start), \"seconds\")\n",
    "\n",
    "    # Return results\n",
    "    return result_SFrame\n"
   ]
  },
  {
   "cell_type": "code",
   "execution_count": null,
   "metadata": {},
   "outputs": [],
   "source": [
    "# Execute the glob function that returns a list of filepaths\n",
    "data_paths_milano_nov = glob2.glob(\"data/milano_telecom_nov/*\")\n",
    "data_paths_milano_dec = glob2.glob(\"data/milano_telecom_dec/*\")\n",
    "data_paths_trento_nov = glob2.glob(\"data/trento_telecom_nov/*\")\n",
    "data_paths_trento_dec = glob2.glob(\"data/trento_telecom_dec/*\")\n",
    "\n",
    "# Use create_telecom_SFrame to read paths and join the folders with given date\n",
    "milano_nov = create_telecom_SFrame(data_paths_milano_nov, 26, 28)\n",
    "#milano_dec = create_telecom_SFrame(data_paths_milano_dec, 24, 26)\n",
    "#trento_nov = create_telecom_SFrame(data_paths_trento_nov, 26, 28)\n",
    "#trento_dec = create_telecom_SFrame(data_paths_trento_dec, 26, 28)\n",
    "\n",
    "milano_nov"
   ]
  },
  {
   "cell_type": "code",
   "execution_count": 47,
   "metadata": {},
   "outputs": [],
   "source": []
  },
  {
   "cell_type": "code",
   "execution_count": 17,
   "metadata": {},
   "outputs": [],
   "source": [
    "df[\"time2\"] = df[\"Time\"].apply(lambda timestamp: arrow.get(timestamp).format('MMM Do YYYY HH:mm'))"
   ]
  },
  {
   "cell_type": "code",
   "execution_count": 18,
   "metadata": {},
   "outputs": [
    {
     "data": {
      "text/html": [
       "<div>\n",
       "<style scoped>\n",
       "    .dataframe tbody tr th:only-of-type {\n",
       "        vertical-align: middle;\n",
       "    }\n",
       "\n",
       "    .dataframe tbody tr th {\n",
       "        vertical-align: top;\n",
       "    }\n",
       "\n",
       "    .dataframe thead th {\n",
       "        text-align: right;\n",
       "    }\n",
       "</style>\n",
       "<table border=\"1\" class=\"dataframe\">\n",
       "  <thead>\n",
       "    <tr style=\"text-align: right;\">\n",
       "      <th></th>\n",
       "      <th>SquareID</th>\n",
       "      <th>Time</th>\n",
       "      <th>country_code</th>\n",
       "      <th>SMSin</th>\n",
       "      <th>SMSout</th>\n",
       "      <th>call_in</th>\n",
       "      <th>call_out</th>\n",
       "      <th>Internet_Traffic</th>\n",
       "      <th>time2</th>\n",
       "    </tr>\n",
       "  </thead>\n",
       "  <tbody>\n",
       "    <tr>\n",
       "      <th>0</th>\n",
       "      <td>1</td>\n",
       "      <td>1385247600000</td>\n",
       "      <td>0.0</td>\n",
       "      <td>0.108663</td>\n",
       "      <td>0.000000</td>\n",
       "      <td>0.000000</td>\n",
       "      <td>0.000000</td>\n",
       "      <td>0.000000</td>\n",
       "      <td>Nov 23rd 2013 23:00</td>\n",
       "    </tr>\n",
       "    <tr>\n",
       "      <th>1</th>\n",
       "      <td>1</td>\n",
       "      <td>1385247600000</td>\n",
       "      <td>39.0</td>\n",
       "      <td>0.347389</td>\n",
       "      <td>0.163350</td>\n",
       "      <td>0.187614</td>\n",
       "      <td>0.159151</td>\n",
       "      <td>10.037029</td>\n",
       "      <td>Nov 23rd 2013 23:00</td>\n",
       "    </tr>\n",
       "    <tr>\n",
       "      <th>2</th>\n",
       "      <td>1</td>\n",
       "      <td>1385248200000</td>\n",
       "      <td>0.0</td>\n",
       "      <td>0.081901</td>\n",
       "      <td>0.000000</td>\n",
       "      <td>0.000000</td>\n",
       "      <td>0.000000</td>\n",
       "      <td>0.000000</td>\n",
       "      <td>Nov 23rd 2013 23:10</td>\n",
       "    </tr>\n",
       "    <tr>\n",
       "      <th>3</th>\n",
       "      <td>1</td>\n",
       "      <td>1385248200000</td>\n",
       "      <td>39.0</td>\n",
       "      <td>0.321790</td>\n",
       "      <td>0.239889</td>\n",
       "      <td>0.053438</td>\n",
       "      <td>0.137127</td>\n",
       "      <td>9.153816</td>\n",
       "      <td>Nov 23rd 2013 23:10</td>\n",
       "    </tr>\n",
       "    <tr>\n",
       "      <th>4</th>\n",
       "      <td>1</td>\n",
       "      <td>1385248800000</td>\n",
       "      <td>39.0</td>\n",
       "      <td>0.161477</td>\n",
       "      <td>0.136588</td>\n",
       "      <td>0.080738</td>\n",
       "      <td>0.186451</td>\n",
       "      <td>8.714426</td>\n",
       "      <td>Nov 23rd 2013 23:20</td>\n",
       "    </tr>\n",
       "    <tr>\n",
       "      <th>...</th>\n",
       "      <td>...</td>\n",
       "      <td>...</td>\n",
       "      <td>...</td>\n",
       "      <td>...</td>\n",
       "      <td>...</td>\n",
       "      <td>...</td>\n",
       "      <td>...</td>\n",
       "      <td>...</td>\n",
       "      <td>...</td>\n",
       "    </tr>\n",
       "    <tr>\n",
       "      <th>4548400</th>\n",
       "      <td>9999</td>\n",
       "      <td>1385332200000</td>\n",
       "      <td>0.0</td>\n",
       "      <td>0.000000</td>\n",
       "      <td>0.000000</td>\n",
       "      <td>0.000000</td>\n",
       "      <td>0.171990</td>\n",
       "      <td>0.000000</td>\n",
       "      <td>Nov 24th 2013 22:30</td>\n",
       "    </tr>\n",
       "    <tr>\n",
       "      <th>4548401</th>\n",
       "      <td>9999</td>\n",
       "      <td>1385332200000</td>\n",
       "      <td>39.0</td>\n",
       "      <td>0.827417</td>\n",
       "      <td>0.505940</td>\n",
       "      <td>0.092566</td>\n",
       "      <td>0.427531</td>\n",
       "      <td>22.566848</td>\n",
       "      <td>Nov 24th 2013 22:30</td>\n",
       "    </tr>\n",
       "    <tr>\n",
       "      <th>4548402</th>\n",
       "      <td>9999</td>\n",
       "      <td>1385332800000</td>\n",
       "      <td>39.0</td>\n",
       "      <td>0.000000</td>\n",
       "      <td>0.349524</td>\n",
       "      <td>0.171990</td>\n",
       "      <td>0.000000</td>\n",
       "      <td>28.150824</td>\n",
       "      <td>Nov 24th 2013 22:40</td>\n",
       "    </tr>\n",
       "    <tr>\n",
       "      <th>4548403</th>\n",
       "      <td>9999</td>\n",
       "      <td>1385333400000</td>\n",
       "      <td>0.0</td>\n",
       "      <td>0.085995</td>\n",
       "      <td>0.000000</td>\n",
       "      <td>0.000000</td>\n",
       "      <td>0.000000</td>\n",
       "      <td>0.000000</td>\n",
       "      <td>Nov 24th 2013 22:50</td>\n",
       "    </tr>\n",
       "    <tr>\n",
       "      <th>4548404</th>\n",
       "      <td>9999</td>\n",
       "      <td>1385333400000</td>\n",
       "      <td>39.0</td>\n",
       "      <td>0.561655</td>\n",
       "      <td>0.777423</td>\n",
       "      <td>0.316471</td>\n",
       "      <td>0.014708</td>\n",
       "      <td>22.831891</td>\n",
       "      <td>Nov 24th 2013 22:50</td>\n",
       "    </tr>\n",
       "  </tbody>\n",
       "</table>\n",
       "<p>4548405 rows × 9 columns</p>\n",
       "</div>"
      ],
      "text/plain": [
       "         SquareID           Time  country_code     SMSin    SMSout   call_in  \\\n",
       "0               1  1385247600000           0.0  0.108663  0.000000  0.000000   \n",
       "1               1  1385247600000          39.0  0.347389  0.163350  0.187614   \n",
       "2               1  1385248200000           0.0  0.081901  0.000000  0.000000   \n",
       "3               1  1385248200000          39.0  0.321790  0.239889  0.053438   \n",
       "4               1  1385248800000          39.0  0.161477  0.136588  0.080738   \n",
       "...           ...            ...           ...       ...       ...       ...   \n",
       "4548400      9999  1385332200000           0.0  0.000000  0.000000  0.000000   \n",
       "4548401      9999  1385332200000          39.0  0.827417  0.505940  0.092566   \n",
       "4548402      9999  1385332800000          39.0  0.000000  0.349524  0.171990   \n",
       "4548403      9999  1385333400000           0.0  0.085995  0.000000  0.000000   \n",
       "4548404      9999  1385333400000          39.0  0.561655  0.777423  0.316471   \n",
       "\n",
       "         call_out  Internet_Traffic                time2  \n",
       "0        0.000000          0.000000  Nov 23rd 2013 23:00  \n",
       "1        0.159151         10.037029  Nov 23rd 2013 23:00  \n",
       "2        0.000000          0.000000  Nov 23rd 2013 23:10  \n",
       "3        0.137127          9.153816  Nov 23rd 2013 23:10  \n",
       "4        0.186451          8.714426  Nov 23rd 2013 23:20  \n",
       "...           ...               ...                  ...  \n",
       "4548400  0.171990          0.000000  Nov 24th 2013 22:30  \n",
       "4548401  0.427531         22.566848  Nov 24th 2013 22:30  \n",
       "4548402  0.000000         28.150824  Nov 24th 2013 22:40  \n",
       "4548403  0.000000          0.000000  Nov 24th 2013 22:50  \n",
       "4548404  0.014708         22.831891  Nov 24th 2013 22:50  \n",
       "\n",
       "[4548405 rows x 9 columns]"
      ]
     },
     "execution_count": 18,
     "metadata": {},
     "output_type": "execute_result"
    }
   ],
   "source": [
    "df"
   ]
  },
  {
   "cell_type": "code",
   "execution_count": null,
   "metadata": {},
   "outputs": [],
   "source": []
  }
 ],
 "metadata": {
  "kernelspec": {
   "display_name": "Python 3",
   "language": "python",
   "name": "python3"
  },
  "language_info": {
   "codemirror_mode": {
    "name": "ipython",
    "version": 3
   },
   "file_extension": ".py",
   "mimetype": "text/x-python",
   "name": "python",
   "nbconvert_exporter": "python",
   "pygments_lexer": "ipython3",
   "version": "3.8.5"
  }
 },
 "nbformat": 4,
 "nbformat_minor": 4
}
