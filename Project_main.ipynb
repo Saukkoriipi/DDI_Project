{
 "cells": [
  {
   "cell_type": "markdown",
   "metadata": {},
   "source": [
    "# Project questions:\n",
    "\n",
    "# Distributed Data Infrastructures, Fall 2020, Project 2\n",
    "\n",
    "Assignment\n",
    "In this project, you are supposed to use GraphLab to analyze data sets. GraphLab is a high performance, open-source, big data framework which we have discussed in the course. We provide you with a data set and you should run GraphLab either on AWS or locally to analyze the data set. \n",
    "\n",
    "The dataset was released by Telecom Italia for their Open Big Data Challenge in 2014. It contains telecommunication records, weather, air quality, electricity consumption for city of Milan and province of Trentino in Italy in November and December 2013. You can find detailed description of the dataset from the paper:\n",
    "https://www.nature.com/articles/sdata201555.\n",
    "\n",
    "Requirements\n",
    "You need write a program that uses GraphLab to provide answers to the following questions.\n",
    "\n",
    "### First three questions are worth 2 points total.\n",
    "\n",
    "1. Find the most congested communication period of the day in Milan and Trentino.\n",
    "\n",
    "2. List top 5 Italian provinces which are most called by residents of Milan and Trentino on average.\n",
    "\n",
    "3. List top 5 languages tweeted by distinct users in Milan. How popular is Finnish as a tweeting language in Milan?\n",
    "\n",
    "### The following questions are worth 3 points total.\n",
    "\n",
    "4. Compare call and internet activity between 24th, 25th and 26th December to 26th, 27th, 28th November for Milan. Plot the distribution.\n",
    "\n",
    "5. Find correlation between user communication activity and different weather conditions (e.g. rain, snow etc.) in Milan and Trentino.\n",
    "\n",
    "### The final questions are worth 2 points each.\n",
    "\n",
    "6. Plot the heatmap of user telecommunication activity for both Milan and Trentino. Do you observe any shift in communication pattern of users between day and night? (A typical day time is between 8AM to 8PM)\n",
    "\n",
    "7. Investigate and plot the correlation between air quality and weather (temperature, sunshine, precipitation, etc.)."
   ]
  },
  {
   "cell_type": "markdown",
   "metadata": {},
   "source": [
    "### Read libraries"
   ]
  },
  {
   "cell_type": "code",
   "execution_count": 1,
   "metadata": {},
   "outputs": [],
   "source": [
    "import pandas as pd\n",
    "from turicreate import SFrame, SGraph, Vertex, Edge\n",
    "import arrow\n",
    "import glob2\n",
    "import time\n",
    "from datetime import datetime as dt\n",
    "import turicreate.aggregate as agg\n",
    "import matplotlib.pyplot as plt\n",
    "import seaborn as sns"
   ]
  },
  {
   "cell_type": "markdown",
   "metadata": {},
   "source": [
    "## 1. Find the most congested communication period of the day in Milan and Trentino.\n",
    "\n",
    "Answer to this question based on the telecommunication data for Milan and Trentino on 24th December 2013. Answer will be the most congested hour in the given day.\n",
    "\n",
    "#### Telecommunication data has folllowing information:\n",
    "\n",
    "0. Square id: identification string of a given square of Milan/Trentino GRID;\n",
    "\n",
    "1. Time Interval: start interval time expressed in milliseconds. The end interval time can be obtained by adding 600,000 milliseconds (10 min) to this value;\n",
    "\n",
    "2. Country code: the phone country code of the nation.\n",
    "\n",
    "3. SMS-in activity: activity proportional to the amount of received SMSs inside a given Square id and during a given Time interval. The SMSs are sent from the nation identified by the Country code.\n",
    "\n",
    "4. SMS-out activity: activity proportional to the amount of sent SMSs inside a given Square id during a given Time interval. The SMSs are received in the nation identified by the Country code;\n",
    "\n",
    "5. Call-in activity: activity proportional to the amount of received calls inside the Square id during a given Time interval. The calls are issued from the nation identified by the Country code;\n",
    "\n",
    "6. Call-out activity: activity proportional to the amount of issued calls inside a given Square id during a given Time interval. The calls are received in the nation identified by the Country code;\n",
    "\n",
    "7. Internet traffic activity: number of CDRs generated inside a given Square id during a given Time interval. The Internet traffic is initiated from the nation identified by the Country code;"
   ]
  },
  {
   "cell_type": "code",
   "execution_count": 2,
   "metadata": {},
   "outputs": [],
   "source": [
    "# Define function to find peak hour for the day\n",
    "def peak_n_hours(sframe, n):\n",
    "    # Add hour column\n",
    "    sframe['hour'] = sframe['Time'].apply(lambda t: dt.utcfromtimestamp(t/1e3).strftime('%H'))\n",
    "    \n",
    "    # Calculate hourly activity\n",
    "    sf_hourly = sframe.groupby(key_column_names = 'hour', operations= {'smsin':agg.SUM('SMSin'), \n",
    "                            'smsout': agg.SUM('SMSout'), 'callin':agg.SUM('call_in'),\n",
    "                            'callout': agg.SUM('call_out'), 'int_traffic': agg.SUM('internet_traffic')})\n",
    "    \n",
    "    # Calculate sum of the activity volumns\n",
    "    sf_hourly['total'] = sf_hourly['smsin']+sf_hourly['smsout']+sf_hourly['callin']+sf_hourly['callout']+sf_hourly['int_traffic']\n",
    "    \n",
    "    # Drop other columns except hour and total\n",
    "    sf = sf_hourly[\"hour\", \"total\"]\n",
    "    \n",
    "    # Sort sf_hourly and fet 5 largest values\n",
    "    sf = sf.sort('total', ascending=False)\n",
    "    \n",
    "    # Return n first hours and their total activity\n",
    "    return sf.head(n)"
   ]
  },
  {
   "cell_type": "code",
   "execution_count": 3,
   "metadata": {},
   "outputs": [
    {
     "name": "stdout",
     "output_type": "stream",
     "text": [
      "The most congested communication hours of the 24th Dec 2013 in Milan\n",
      "+------+--------------------+\n",
      "| hour |       total        |\n",
      "+------+--------------------+\n",
      "|  16  | 5416257.583677514  |\n",
      "|  11  | 5371330.078746548  |\n",
      "|  17  | 5344031.796636868  |\n",
      "|  10  | 5337831.324568588  |\n",
      "|  15  | 5284227.5582101345 |\n",
      "+------+--------------------+\n",
      "[5 rows x 2 columns]\n",
      "\n",
      "The most congested communication hours of the 24th Dec 2013 in Trentino\n",
      "+------+--------------------+\n",
      "| hour |       total        |\n",
      "+------+--------------------+\n",
      "|  16  | 1036600.3784612637 |\n",
      "|  10  | 1029579.4795295174 |\n",
      "|  17  | 1011900.8027854215 |\n",
      "|  11  | 1007262.7792211808 |\n",
      "|  15  | 1006217.5522763166 |\n",
      "+------+--------------------+\n",
      "[5 rows x 2 columns]\n",
      "\n"
     ]
    }
   ],
   "source": [
    "# Set path to files\n",
    "milano_dec24_path = 'data/milano_telecom_dec/sms-call-internet-mi-2013-12-14.txt'\n",
    "trentino_dec24_path = 'data/trento_telecom_dec/sms-call-internet-tn-2013-12-14.txt'\n",
    "\n",
    "# Read the files. SFrame is not able to handle rows with different lengths, \n",
    "# so first read data with pandas and then convert to SFrame\n",
    "milano = pd.read_csv(milano_dec24_path, sep=\"\\t\", header=None).fillna(0)\n",
    "milano = SFrame(milano)\n",
    "trentino = pd.read_csv(trentino_dec24_path, sep=\"\\t\", header=None).fillna(0)\n",
    "trentino = SFrame(trentino)\n",
    "\n",
    "# Add column names to SFrames\n",
    "milano = milano.rename({'0': 'SquareID', '1':'Time', '2':\"country_code\", \"3\":\"SMSin\", \"4\":\"SMSout\", \"5\":\"call_in\" , \"6\":\"call_out\", \"7\":\"internet_traffic\"})\n",
    "trentino = trentino.rename({'0': 'SquareID', '1':'Time', '2':\"country_code\", \"3\":\"SMSin\", \"4\":\"SMSout\", \"5\":\"call_in\" , \"6\":\"call_out\", \"7\":\"internet_traffic\"})\n",
    "\n",
    "# Run function and print n=5 busiest communication hours\n",
    "print(\"The most congested communication hours of the 24th Dec 2013 in Milan\")\n",
    "print(peak_n_hours(milano, 5))\n",
    "print(\"The most congested communication hours of the 24th Dec 2013 in Trentino\")\n",
    "print(peak_n_hours(trentino, 5))\n"
   ]
  },
  {
   "cell_type": "markdown",
   "metadata": {},
   "source": [
    "## 2. List top 5 Italian provinces which are most called by residents of Milan and Trentino on average.\n",
    "\n",
    "I will answer to this question based on the \"Milan/trentino to provinces\" telecommunication dataset on 24th December 2013.\n",
    "\n",
    "Milan/trentino to provinces dataset has following columns:\n",
    "\n",
    "0. Square id: identification string of a given square of Milan/Trentino GRID;\n",
    "\n",
    "1. Time Interval: Start interval time expressed in milliseconds. The end interval time can be obtained by adding 600,000 milliseconds (10 min) to this value;\n",
    "\n",
    "2. Square to Province Inter: Value representing the interaction between the Square id and the Province. It is proportional to the number of calls exchanged between callers, which are located in the Square id, and receivers located in the Province;\n",
    "\n",
    "3. Province to Square Inter: Value representing the interaction between the Square id and the Province. It is proportional to the number of calls exchanged between callers, which are located in the Province, and receivers located in the Square id.\n",
    "\n",
    "4. Province: the name of the Italian province."
   ]
  },
  {
   "cell_type": "code",
   "execution_count": 4,
   "metadata": {},
   "outputs": [],
   "source": [
    "def most_called_provinces(sframe):\n",
    "    # Rename columns\n",
    "    sframe = sframe.rename({'0': 'SquareID', '1':'Province', '2':\"Time\", \"3\":\"SqrtToProvince\", \"4\":\"ProvinceToSqrt\"})\n",
    "    \n",
    "    # Drop columns where ProvinceToSqrt=0. These rows are incoming calls from provinces \n",
    "    # and we want only count calls to provinces.\n",
    "    sframe = sframe[sframe[\"SqrtToProvince\"] > 0]\n",
    "    \n",
    "    # Count by provinces\n",
    "    famous_prov = sframe.groupby(key_column_names = 'Province', operations= {'count': agg.COUNT()})\n",
    "    \n",
    "    # Sort by count and return top5 provinces\n",
    "    return famous_prov.sort('count', ascending=False).head(5)\n"
   ]
  },
  {
   "cell_type": "code",
   "execution_count": 5,
   "metadata": {},
   "outputs": [
    {
     "name": "stdout",
     "output_type": "stream",
     "text": [
      "The most called provinces from Milano on the 24th Dec 2013\n",
      "+-----------------------+--------+\n",
      "|        Province       | count  |\n",
      "+-----------------------+--------+\n",
      "|         MILANO        | 970483 |\n",
      "| MONZA E DELLA BRIANZA | 217406 |\n",
      "|         PAVIA         | 175663 |\n",
      "|         VARESE        | 85739  |\n",
      "|         NAPOLI        | 84398  |\n",
      "+-----------------------+--------+\n",
      "[5 rows x 2 columns]\n",
      "\n",
      "The most called provinces from Trentino on the 24th Dec 2013\n",
      "+---------------+--------+\n",
      "|    Province   | count  |\n",
      "+---------------+--------+\n",
      "|     TRENTO    | 527030 |\n",
      "| BOLZANO/BOZEN | 107719 |\n",
      "|    BRESCIA    | 80951  |\n",
      "|     VERONA    | 59680  |\n",
      "|     MILANO    | 54876  |\n",
      "+---------------+--------+\n",
      "[5 rows x 2 columns]\n",
      "\n"
     ]
    }
   ],
   "source": [
    "# Set path to files\n",
    "milano_dec24_path = 'data/milano_provinces_telecom/mi-to-provinces-2013-12-24.txt'\n",
    "trentino_dec24_path = 'data/trento_provinces_dec/tn-to-provinces-2013-12-24.txt'\n",
    "\n",
    "# Read the files. SFrame is not able to handle rows with different lengths, \n",
    "# so first read data with pandas and then convert to SFrame\n",
    "milano = pd.read_csv(milano_dec24_path, sep=\"\\t\", header=None).fillna(0)\n",
    "milano = SFrame(milano)\n",
    "trentino = pd.read_csv(trentino_dec24_path, sep=\"\\t\", header=None).fillna(0)\n",
    "trentino = SFrame(trentino)\n",
    "\n",
    "# Run function and print top 5 provinces most called by residents\n",
    "print(\"The most called provinces from Milano on the 24th Dec 2013\")\n",
    "print(most_called_provinces(milano))\n",
    "print(\"The most called provinces from Trentino on the 24th Dec 2013\")\n",
    "print(most_called_provinces(trentino))"
   ]
  },
  {
   "cell_type": "markdown",
   "metadata": {},
   "source": [
    "## 3. List top 5 languages tweeted by distinct users in Milan. How popular is Finnish as a tweeting language in Milan?\n",
    "\n",
    "The SocialPulse dataset [Data citations 10,11] contains geolocalized tweets originated from Milan between November 1, 2013 and January 1st, 2014.\n",
    "\n",
    "0. user: anonymized Twitter username;\n",
    "\n",
    "1. language: language of the Tweet, where und means undefined;\n",
    "\n",
    "2. municipality: the municipality in which the tweet has been probably created. The approximation is the same of the geometry field (see below). The municipality field is composed of the municipality name and the Dandelion acheneID, specified in the Administrative Regions dataset. Users can get more data about the municipality (e.g., boundaries, population) using the acheneID as a primary key in the Administrative Regions;\n",
    "\n",
    "3. timestamp: Tweet timestamp;\n",
    "\n",
    "4. geometry latitude: approximate position of the tweet, in geoJSON format. Error <600 m.\n",
    "\n",
    "5. geometry longitude: approximate position of the tweet, in geoJSON format. Error <600 m."
   ]
  },
  {
   "cell_type": "code",
   "execution_count": 6,
   "metadata": {},
   "outputs": [
    {
     "data": {
      "text/html": [
       "<pre>Finished parsing file /Users/saukk/Desktop/Distributed data infrastucture/GraphLab project/data/social_pulse/social_pulse_milano.csv</pre>"
      ],
      "text/plain": [
       "Finished parsing file /Users/saukk/Desktop/Distributed data infrastucture/GraphLab project/data/social_pulse/social_pulse_milano.csv"
      ]
     },
     "metadata": {},
     "output_type": "display_data"
    },
    {
     "data": {
      "text/html": [
       "<pre>Parsing completed. Parsed 100 lines in 0.180461 secs.</pre>"
      ],
      "text/plain": [
       "Parsing completed. Parsed 100 lines in 0.180461 secs."
      ]
     },
     "metadata": {},
     "output_type": "display_data"
    },
    {
     "name": "stdout",
     "output_type": "stream",
     "text": [
      "------------------------------------------------------\n",
      "Inferred types from first 100 line(s) of file as \n",
      "column_type_hints=[str,str,str,int,float,float]\n",
      "If parsing fails due to incorrect types, you can correct\n",
      "the inferred type list above and pass it to read_csv in\n",
      "the column_type_hints argument\n",
      "------------------------------------------------------\n"
     ]
    },
    {
     "data": {
      "text/html": [
       "<pre>Finished parsing file /Users/saukk/Desktop/Distributed data infrastucture/GraphLab project/data/social_pulse/social_pulse_milano.csv</pre>"
      ],
      "text/plain": [
       "Finished parsing file /Users/saukk/Desktop/Distributed data infrastucture/GraphLab project/data/social_pulse/social_pulse_milano.csv"
      ]
     },
     "metadata": {},
     "output_type": "display_data"
    },
    {
     "data": {
      "text/html": [
       "<pre>Parsing completed. Parsed 269290 lines in 0.170962 secs.</pre>"
      ],
      "text/plain": [
       "Parsing completed. Parsed 269290 lines in 0.170962 secs."
      ]
     },
     "metadata": {},
     "output_type": "display_data"
    },
    {
     "name": "stdout",
     "output_type": "stream",
     "text": [
      "+----------+--------+\n",
      "| language | count  |\n",
      "+----------+--------+\n",
      "|    it    | 163889 |\n",
      "|    en    | 47830  |\n",
      "|    es    |  7745  |\n",
      "|    tl    |  6815  |\n",
      "|    pt    |  5162  |\n",
      "|    so    |  4013  |\n",
      "|    fr    |  3654  |\n",
      "|    id    |  3183  |\n",
      "|   und    |  3132  |\n",
      "|    de    |  2183  |\n",
      "|    tr    |  2065  |\n",
      "|    ar    |  1886  |\n",
      "|    nl    |  1754  |\n",
      "|    ro    |  1746  |\n",
      "|    fi    |  1594  |\n",
      "+----------+--------+\n",
      "[45 rows x 2 columns]\n",
      "\n"
     ]
    }
   ],
   "source": [
    "# Set path to file\n",
    "milano_path = 'data/social_pulse/social_pulse_milano.csv'\n",
    "\n",
    "# Read the files\n",
    "milano = SFrame.read_csv(milano_path, sep=\"\\t\", header=None)\n",
    "\n",
    "# Rename columns\n",
    "milano = milano.rename({'X1': 'user', 'X2':'language', 'X3':\"municipality\", \"X4\":\"timestamp\", \"X5\":\"latitude\", \"X6\":\"longitude\"})\n",
    "    \n",
    "# Count language\n",
    "languages_count = milano.groupby(key_column_names = 'language', operations= {'count': agg.COUNT()})\n",
    "\n",
    "# Sort languages by count\n",
    "languages_count = languages_count.sort('count', ascending=False)\n",
    "\n",
    "# Print 15 most populat tweeting languages\n",
    "languages_count.print_rows(num_rows=15)"
   ]
  },
  {
   "cell_type": "markdown",
   "metadata": {},
   "source": [
    "## 4. Compare call and internet activity between 24th, 25th and 26th December to 26th, 27th, 28th November for Milan. Plot the distribution.\n",
    "\n",
    "To answer this question, I will calculate hourly call and internet activity for each day, and then make histogram of hourly activities in given days in November and December."
   ]
  },
  {
   "cell_type": "code",
   "execution_count": 9,
   "metadata": {},
   "outputs": [],
   "source": [
    "def create_hourly_telecom_SFrame(paths, start_date, end_date):\n",
    "    # Measure time how long it takes. Set start time.\n",
    "    start = time.time()\n",
    "    \n",
    "    # Filter paths by start_date and end_date\n",
    "    # Path example: sms-call-internet-mi-2013-12-01.txt\n",
    "    wanted_paths = []\n",
    "    for path in paths:\n",
    "        date = int(path[-6:-4])\n",
    "        if (date <= end_date) and (date >= start_date):\n",
    "            wanted_paths.append(path)\n",
    "    \n",
    "    # Read the files and append dataframes to result_df\n",
    "    result_df = pd.DataFrame(columns = [\"day\", \"SquareID\", \"Time\", \"country_code\", \"SMSin\", \"SMSout\", \"call_in\" ,\"call_out\", \"internet_traffic\"])\n",
    "    for path in wanted_paths:\n",
    "        day = path[-6:-4]\n",
    "        df = pd.read_csv(path, sep=\"\\t\", header=None)\n",
    "        df = df.fillna(0)\n",
    "        df.columns = [\"SquareID\", \"Time\", \"country_code\", \"SMSin\", \"SMSout\", \"call_in\" ,\"call_out\", \"internet_traffic\"]\n",
    "        df[\"day\"] = day\n",
    "        result_df= result_df.append(df)\n",
    "    \n",
    "    # Convert Pandas dataframe to SFrame\n",
    "    sf = SFrame(data=result_df)\n",
    "    \n",
    "    # Drop columns SquareID and country_code\n",
    "    sf = sf.remove_column('SquareID')\n",
    "    sf = sf.remove_column('country_code')\n",
    "    \n",
    "    # Add hour column and add 1 hour to time (from UTC to Rome time)\n",
    "    sf[\"hour\"] = sf[\"Time\"].apply(lambda timestamp: arrow.get(timestamp+3600000).format('HH'))\n",
    "\n",
    "    # Group by day and hour, and sum of each activity in each hour and day\n",
    "    sf_hourly = sf.groupby(['day', 'hour'], {'callin':agg.SUM('call_in'), \n",
    "                                             'callout': agg.SUM('call_out'), \n",
    "                                             'int_traffic': agg.SUM('internet_traffic')})\n",
    "    \n",
    "    # Calculate sum of callin and callout\n",
    "    sf_hourly[\"calls\"] = sf_hourly[\"callin\"]+sf_hourly[\"callout\"]\n",
    "    \n",
    "    # Drop columns SquareID and country_code\n",
    "    sf_hourly = sf_hourly.remove_column('callin')\n",
    "    sf_hourly = sf_hourly.remove_column('callout')\n",
    "    \n",
    "    # Sort by day and hour\n",
    "    sf_hourly = sf_hourly.sort(['day', 'hour'], ascending=True)\n",
    "    \n",
    "    # Set hour and day type to int\n",
    "    sf_hourly[\"day\"] = sf_hourly[\"day\"].astype(int)\n",
    "    sf_hourly[\"hour\"] = sf_hourly[\"hour\"].astype(int)\n",
    "    \n",
    "    # Print time how long it took\n",
    "    end = time.time()\n",
    "    print(\"Time to run function was\", round(end - start), \"seconds\")\n",
    "\n",
    "    # Return results\n",
    "    return sf_hourly\n"
   ]
  },
  {
   "cell_type": "code",
   "execution_count": 10,
   "metadata": {},
   "outputs": [
    {
     "name": "stdout",
     "output_type": "stream",
     "text": [
      "Time to run function was 87 seconds\n",
      "Time to run function was 73 seconds\n",
      "+-----+------+--------------------+--------------------+\n",
      "| day | hour |    int_traffic     |       calls        |\n",
      "+-----+------+--------------------+--------------------+\n",
      "|  26 |  0   | 3081805.3777902187 | 41192.73183245974  |\n",
      "|  26 |  1   | 2572701.778685296  | 17706.488070584073 |\n",
      "|  26 |  2   | 2231849.134087161  | 11778.29144326305  |\n",
      "|  26 |  3   | 2032399.175571132  | 10178.701211725693 |\n",
      "|  26 |  4   | 1922521.8709399935 | 11383.318199818372 |\n",
      "+-----+------+--------------------+--------------------+\n",
      "[72 rows x 4 columns]\n",
      "\n",
      "+-----+------+--------------------+--------------------+\n",
      "| day | hour |    int_traffic     |       calls        |\n",
      "+-----+------+--------------------+--------------------+\n",
      "|  24 |  0   | 2479071.5690209977 | 54213.38695708137  |\n",
      "|  24 |  1   | 2100878.867479571  | 26984.249997574676 |\n",
      "|  24 |  2   | 1831355.1988663676 | 17032.582469059005 |\n",
      "|  24 |  3   | 1680874.742409178  | 11930.500057642987 |\n",
      "|  24 |  4   | 1549273.9723427426 | 12418.661768335733 |\n",
      "+-----+------+--------------------+--------------------+\n",
      "[72 rows x 4 columns]\n",
      "\n"
     ]
    }
   ],
   "source": [
    "# Execute the glob function that returns a list of filepaths\n",
    "data_paths_milano_nov = glob2.glob(\"data/milano_telecom_nov/*\")\n",
    "data_paths_milano_dec = glob2.glob(\"data/milano_telecom_dec/*\")\n",
    "\n",
    "# Use create_telecom_SFrame to read paths and join the files within given dates\n",
    "milano_nov = create_hourly_telecom_SFrame(data_paths_milano_nov, 26, 28)\n",
    "milano_dec = create_hourly_telecom_SFrame(data_paths_milano_dec, 24, 26)\n",
    "\n",
    "# Print first 5 rows\n",
    "milano_nov.print_rows(num_rows=5)\n",
    "milano_dec.print_rows(num_rows=5)"
   ]
  },
  {
   "cell_type": "code",
   "execution_count": 11,
   "metadata": {},
   "outputs": [],
   "source": [
    "# Make histograms\n",
    "def make_histograms(SFrame, title):    \n",
    "    # Plot the distibution (make histograms)\n",
    "    fig, ax = plt.subplots(2, 1, sharey=True, tight_layout=True)\n",
    "    ax[0].hist(SFrame[\"calls\"], bins=50)\n",
    "    ax[0].title.set_text('Calls traffic distibution {}'.format(title))\n",
    "    ax[1].hist(SFrame[\"int_traffic\"], bins=50)\n",
    "    ax[1].title.set_text('Internet traffic distibution {}'.format(title))\n",
    "    plt.show()\n",
    "    \n",
    "    # Make days list and sort it\n",
    "    days = list(SFrame[\"day\"].unique())\n",
    "    days = sorted(days)\n",
    "    \n",
    "    # Make hourly calls graph. Add vertical lines to 8am and 8pm\n",
    "    for day in days:\n",
    "        sf_day = SFrame[SFrame[\"day\"] == day]\n",
    "        plt.plot(sf_day[\"hour\"], sf_day[\"calls\"])\n",
    "        plt.axvline(x=8, color='gray', linestyle='--', lw=1)\n",
    "        plt.axvline(x=20, color='gray', linestyle='--', lw=1)\n",
    "    plt.title('Hourly calls activity {}'.format(title))\n",
    "    plt.legend([days[0], days[1], days[2]], loc =\"upper left\") \n",
    "    plt.show()\n",
    " \n",
    "    # Make hourly internet activity graph\n",
    "    for day in days:\n",
    "        sf_day = SFrame[SFrame[\"day\"] == day]\n",
    "        plt.plot(sf_day[\"hour\"], sf_day[\"int_traffic\"])\n",
    "        plt.axvline(x=8, color='gray', linestyle='--', lw=1)\n",
    "        plt.axvline(x=20, color='gray', linestyle='--', lw=1)\n",
    "    plt.title('Hourly internet activity {}'.format(title))\n",
    "    plt.legend([days[0], days[1], days[2]], loc =\"upper left\") \n",
    "    plt.show()"
   ]
  },
  {
   "cell_type": "code",
   "execution_count": 12,
   "metadata": {},
   "outputs": [
    {
     "data": {
      "image/png": "[encoded data removed]",
      "text/plain": [
       "<Figure size 432x288 with 2 Axes>"
      ]
     },
     "metadata": {
      "needs_background": "light"
     },
     "output_type": "display_data"
    },
    {
     "data": {
      "image/png": "[encoded data removed]",
      "text/plain": [
       "<Figure size 432x288 with 1 Axes>"
      ]
     },
     "metadata": {
      "needs_background": "light"
     },
     "output_type": "display_data"
    },
    {
     "data": {
      "image/png": "[encoded data removed]",
      "text/plain": [
       "<Figure size 432x288 with 1 Axes>"
      ]
     },
     "metadata": {
      "needs_background": "light"
     },
     "output_type": "display_data"
    },
    {
     "data": {
      "image/png": "[encoded data removed]",
      "text/plain": [
       "<Figure size 432x288 with 2 Axes>"
      ]
     },
     "metadata": {
      "needs_background": "light"
     },
     "output_type": "display_data"
    },
    {
     "data": {
      "image/png": "[encoded data removed]",
      "text/plain": [
       "<Figure size 432x288 with 1 Axes>"
      ]
     },
     "metadata": {
      "needs_background": "light"
     },
     "output_type": "display_data"
    },
    {
     "data": {
      "image/png": "[encoded data removed]",
      "text/plain": [
       "<Figure size 432x288 with 1 Axes>"
      ]
     },
     "metadata": {
      "needs_background": "light"
     },
     "output_type": "display_data"
    }
   ],
   "source": [
    "make_histograms(milano_nov, \"Milano Nov 26th to 28th\")\n",
    "make_histograms(milano_dec, \"Milano Dec 24th to 26th\")"
   ]
  },
  {
   "cell_type": "markdown",
   "metadata": {},
   "source": [
    "### 5. Find correlation between user communication activity and different weather conditions (e.g. rain, snow etc.) in Milan and Trentino.\n",
    "\n",
    "Milano weather dataset columns:\n",
    "\n",
    "1. Timestamp: timestamp value with the following format: YYYYMMDDHHmm;\n",
    "\n",
    "2. Square id: id of a given square of Milan/Trentino GRID;\n",
    "\n",
    "3. Intensity: intensity value of the precipitation. It is a value between 0 and 3;\n",
    "\n",
    "4. Coverage: percentage value of the quadrant covered by the precipitation;\n",
    "\n",
    "5. Type: type of the precipitation. It is a value between 0 and 2.\n",
    "\n",
    "Trentino weather dataset columns:\n",
    "\n",
    "1. Timestamp: timestamp value with the following format: YYYYMMDDHHmm;\n",
    "\n",
    "2. Square id: id of a given square of Milan/Trentino GRID;\n",
    "\n",
    "3. Intensity: intensity value of the precipitation. It is a value between 0 and 18.\n",
    "\n",
    "Trentino precipitation intensity values mean following:\n",
    "\n",
    "1. very slight: precipitation intensity defined [1,3] meaning an amount of [0.20,2.0] mm/hr.\n",
    "\n",
    "2. slight: precipitation intensity defined [4,6] meaning an amount of [2.0,7.0] mm/hr.\n",
    "\n",
    "3. moderate: precipitation intensity defined [7,9] meaning an amount of [7.0,16.0] mm/hr.\n",
    "\n",
    "4. heavy: precipitation intensity defined [10,12] meaning an amount of [16.0,30.0] mm/hr.\n",
    "\n",
    "5. very heavy: precipitation intensity defined [13,15] meaning an amount of [30.0,70.0] mm/hr.\n",
    "\n",
    "6. extreme: precipitation intensity defined [16,18] meaning an amount of more than 70 mm/hr.\n",
    "\n",
    "As precipitation intensity is only common information we have from the Milano and Trentino, we will use that. Both datasets use different number precitation intensity groups, and we don't know the exact intensity numbers for Milano, we are not able to convert them to same intensity classes. For this reason, we will study correlation between Milan and Trentino separately."
   ]
  },
  {
   "cell_type": "markdown",
   "metadata": {},
   "source": [
    "#### First define function to read multiple telecom files and join them to singe SFrame\n",
    "\n",
    "We will create new telecom joining function, because this time we need the timestamps and square ID's to join telecom data to weather data. Also, because weather can change multiple times in a hour, we don't want to use hourly data."
   ]
  },
  {
   "cell_type": "code",
   "execution_count": 87,
   "metadata": {},
   "outputs": [],
   "source": [
    "# Define function to read multiple telecom files and append them to one SFrame\n",
    "def create_telecom_SFrame(paths, start_date, end_date):\n",
    "    # Measure time how long it takes. Set start time.\n",
    "    start = time.time()\n",
    "    \n",
    "    # Filter paths by start_date and end_date\n",
    "    # Path example: sms-call-internet-mi-2013-12-01.txt\n",
    "    wanted_paths = []\n",
    "    for path in paths:\n",
    "        date = int(path[-6:-4])\n",
    "        if (date <= end_date) and (date >= start_date):\n",
    "            wanted_paths.append(path)\n",
    "    \n",
    "    # Read the files and append dataframes to result_df\n",
    "    result_df = pd.DataFrame(columns = [\"time\", \"SquareID\", \"total\"])\n",
    "    for path in wanted_paths:\n",
    "        day = path[-6:-4]\n",
    "        df = pd.read_csv(path, sep=\"\\t\", header=None)\n",
    "        df = df.fillna(0)\n",
    "        df.columns = [\"SquareID\", \"time\", \"country_code\", \"SMSin\", \"SMSout\", \"call_in\" ,\"call_out\", \"internet_traffic\"]\n",
    "        df['total'] = df['SMSin']+df['SMSout']+df['call_in']+df['call_out']+df['internet_traffic']\n",
    "        df = df.drop(['country_code', 'SMSin', 'SMSout', 'call_in', 'call_out', 'internet_traffic'], axis=1)\n",
    "        result_df= result_df.append(df)\n",
    "    \n",
    "    # Convert Pandas dataframe to SFrame\n",
    "    sf = SFrame(data=result_df)\n",
    "    \n",
    "    # Change timestamp type to same format as with weather data. Drop old time columns\n",
    "    sf[\"timestamp\"] = sf[\"time\"].apply(lambda timestamp: arrow.get(timestamp).format('YYYYMMDDHHmm'))\n",
    "    sf = sf.remove_column('time')\n",
    "    \n",
    "    # Print time how long it took\n",
    "    end = time.time()\n",
    "    print(\"Time to run function was\", round(end - start), \"seconds\")\n",
    "\n",
    "    # Return results\n",
    "    return sf"
   ]
  },
  {
   "cell_type": "markdown",
   "metadata": {},
   "source": [
    "#### Use create_telecom_SFrame to read multiple files, then join monthly files, one to Milano and one to Trentino"
   ]
  },
  {
   "cell_type": "code",
   "execution_count": 88,
   "metadata": {},
   "outputs": [
    {
     "name": "stdout",
     "output_type": "stream",
     "text": [
      "Time to run function was 17 seconds\n",
      "Time to run function was 14 seconds\n",
      "Time to run function was 7 seconds\n",
      "Time to run function was 11 seconds\n",
      "+----------+----------------------+--------------+\n",
      "| SquareID |        total         |  timestamp   |\n",
      "+----------+----------------------+--------------+\n",
      "|    1     | 0.05701250935247165  | 201311252300 |\n",
      "|    1     |  11.138522744511373  | 201311252300 |\n",
      "|    1     | 0.003574620210998875 | 201311252310 |\n",
      "|    1     |  10.801368105625238  | 201311252310 |\n",
      "|    1     |  10.108537937984984  | 201311252320 |\n",
      "+----------+----------------------+--------------+\n",
      "[30497069 rows x 3 columns]\n",
      "\n",
      "+----------+---------------------+--------------+\n",
      "| SquareID |        total        |  timestamp   |\n",
      "+----------+---------------------+--------------+\n",
      "|  10000   |  7.619726669813878  | 201311272300 |\n",
      "|  10000   |  8.406653673442118  | 201311272310 |\n",
      "|  10000   |  7.418198241119901  | 201311272320 |\n",
      "|  10000   | 0.04160227556299593 | 201311272330 |\n",
      "|  10000   |  9.395403833448128  | 201311272330 |\n",
      "+----------+---------------------+--------------+\n",
      "[17491958 rows x 3 columns]\n",
      "\n"
     ]
    }
   ],
   "source": [
    "# Set paths to telecom files\n",
    "data_paths_milano_nov = glob2.glob(\"data/milano_telecom_nov/*\")\n",
    "data_paths_milano_dec = glob2.glob(\"data/milano_telecom_dec/*\")\n",
    "data_paths_trentino_nov = glob2.glob(\"data/trento_telecom_nov/*\")\n",
    "data_paths_trentino_dec = glob2.glob(\"data/trento_telecom_dec/*\")\n",
    "\n",
    "# Use create_telecom_SFrame to read paths and join the files within given dates\n",
    "milano_tele_nov = create_telecom_SFrame(data_paths_milano_nov, 26, 28)\n",
    "milano_tele_dec = create_telecom_SFrame(data_paths_milano_dec, 24, 26)\n",
    "trentino_tele_nov = create_telecom_SFrame(data_paths_trentino_nov, 26, 28)\n",
    "trentino_tele_dec = create_telecom_SFrame(data_paths_trentino_dec, 24, 26)\n",
    "\n",
    "# Append Milano_tele_dec and Milano_tele_nov to same SFrame\n",
    "# Do same to trentino telecom data\n",
    "milano_tele = milano_tele_nov.append(milano_tele_dec)\n",
    "trentino_tele = trentino_tele_nov.append(trentino_tele_dec)\n",
    "\n",
    "# Print 5 first rows\n",
    "milano_tele.print_rows(num_rows=5)\n",
    "trentino_tele.print_rows(num_rows=5)"
   ]
  },
  {
   "cell_type": "markdown",
   "metadata": {},
   "source": [
    "### Read weather data and join it to telecom data"
   ]
  },
  {
   "cell_type": "code",
   "execution_count": 89,
   "metadata": {},
   "outputs": [
    {
     "data": {
      "text/html": [
       "<pre>Finished parsing file /Users/saukk/Desktop/Distributed data infrastucture/GraphLab project/data/MeteoMilano_01-11-13_01-01-14.csv</pre>"
      ],
      "text/plain": [
       "Finished parsing file /Users/saukk/Desktop/Distributed data infrastucture/GraphLab project/data/MeteoMilano_01-11-13_01-01-14.csv"
      ]
     },
     "metadata": {},
     "output_type": "display_data"
    },
    {
     "data": {
      "text/html": [
       "<pre>Parsing completed. Parsed 100 lines in 0.011892 secs.</pre>"
      ],
      "text/plain": [
       "Parsing completed. Parsed 100 lines in 0.011892 secs."
      ]
     },
     "metadata": {},
     "output_type": "display_data"
    },
    {
     "name": "stdout",
     "output_type": "stream",
     "text": [
      "------------------------------------------------------\n",
      "Inferred types from first 100 line(s) of file as \n",
      "column_type_hints=[int,int,int,int,int]\n",
      "If parsing fails due to incorrect types, you can correct\n",
      "the inferred type list above and pass it to read_csv in\n",
      "the column_type_hints argument\n",
      "------------------------------------------------------\n"
     ]
    },
    {
     "data": {
      "text/html": [
       "<pre>Finished parsing file /Users/saukk/Desktop/Distributed data infrastucture/GraphLab project/data/MeteoMilano_01-11-13_01-01-14.csv</pre>"
      ],
      "text/plain": [
       "Finished parsing file /Users/saukk/Desktop/Distributed data infrastucture/GraphLab project/data/MeteoMilano_01-11-13_01-01-14.csv"
      ]
     },
     "metadata": {},
     "output_type": "display_data"
    },
    {
     "data": {
      "text/html": [
       "<pre>Parsing completed. Parsed 33316 lines in 0.015941 secs.</pre>"
      ],
      "text/plain": [
       "Parsing completed. Parsed 33316 lines in 0.015941 secs."
      ]
     },
     "metadata": {},
     "output_type": "display_data"
    },
    {
     "data": {
      "text/html": [
       "<pre>Finished parsing file /Users/saukk/Desktop/Distributed data infrastucture/GraphLab project/data/precipitation-trentino.csv</pre>"
      ],
      "text/plain": [
       "Finished parsing file /Users/saukk/Desktop/Distributed data infrastucture/GraphLab project/data/precipitation-trentino.csv"
      ]
     },
     "metadata": {},
     "output_type": "display_data"
    },
    {
     "data": {
      "text/html": [
       "<pre>Parsing completed. Parsed 100 lines in 0.312327 secs.</pre>"
      ],
      "text/plain": [
       "Parsing completed. Parsed 100 lines in 0.312327 secs."
      ]
     },
     "metadata": {},
     "output_type": "display_data"
    },
    {
     "name": "stdout",
     "output_type": "stream",
     "text": [
      "------------------------------------------------------\n",
      "Inferred types from first 100 line(s) of file as \n",
      "column_type_hints=[int,int,int]\n",
      "If parsing fails due to incorrect types, you can correct\n",
      "the inferred type list above and pass it to read_csv in\n",
      "the column_type_hints argument\n",
      "------------------------------------------------------\n"
     ]
    },
    {
     "data": {
      "text/html": [
       "<pre>Read 2489903 lines. Lines per second: 4.89761e+06</pre>"
      ],
      "text/plain": [
       "Read 2489903 lines. Lines per second: 4.89761e+06"
      ]
     },
     "metadata": {},
     "output_type": "display_data"
    },
    {
     "data": {
      "text/html": [
       "<pre>Finished parsing file /Users/saukk/Desktop/Distributed data infrastucture/GraphLab project/data/precipitation-trentino.csv</pre>"
      ],
      "text/plain": [
       "Finished parsing file /Users/saukk/Desktop/Distributed data infrastucture/GraphLab project/data/precipitation-trentino.csv"
      ]
     },
     "metadata": {},
     "output_type": "display_data"
    },
    {
     "data": {
      "text/html": [
       "<pre>Parsing completed. Parsed 3489417 lines in 0.590487 secs.</pre>"
      ],
      "text/plain": [
       "Parsing completed. Parsed 3489417 lines in 0.590487 secs."
      ]
     },
     "metadata": {},
     "output_type": "display_data"
    },
    {
     "name": "stdout",
     "output_type": "stream",
     "text": [
      "Milano intensity classes: [0, 1, 2, 3]\n",
      "Trentino intensity classes: [1, 2, 3, 4, 5, 6, 7, 8, 9, 10, 11, 12, 13, 14, 15, 16, 17, 18]\n"
     ]
    },
    {
     "data": {
      "image/png": "[encoded data removed]",
      "text/plain": [
       "<Figure size 432x288 with 1 Axes>"
      ]
     },
     "metadata": {},
     "output_type": "display_data"
    },
    {
     "data": {
      "image/png": "[encoded data removed]",
      "text/plain": [
       "<Figure size 432x288 with 1 Axes>"
      ]
     },
     "metadata": {},
     "output_type": "display_data"
    },
    {
     "name": "stdout",
     "output_type": "stream",
     "text": [
      "+--------------+----------+-----------+\n",
      "|  timestamp   | SquareID | intensity |\n",
      "+--------------+----------+-----------+\n",
      "| 201311010000 |    1     |     0     |\n",
      "| 201311010000 |    2     |     0     |\n",
      "| 201311010000 |    3     |     0     |\n",
      "| 201311010000 |    4     |     0     |\n",
      "| 201311010010 |    1     |     0     |\n",
      "+--------------+----------+-----------+\n",
      "[33316 rows x 3 columns]\n",
      "\n",
      "+--------------+----------+-----------+\n",
      "|  timestamp   | SquareID | intensity |\n",
      "+--------------+----------+-----------+\n",
      "| 201311010000 |   2383   |     1     |\n",
      "| 201311010020 |   9452   |     1     |\n",
      "| 201311010020 |   8278   |     1     |\n",
      "| 201311010020 |   6871   |     2     |\n",
      "| 201311010020 |   5689   |     3     |\n",
      "+--------------+----------+-----------+\n",
      "[3489417 rows x 3 columns]\n",
      "\n"
     ]
    }
   ],
   "source": [
    "# Set paths to weather files\n",
    "milano_weather_path = 'data/MeteoMilano_01-11-13_01-01-14.csv'\n",
    "trentino_weather_path = 'data/precipitation-trentino.csv'\n",
    "\n",
    "# Read weather files\n",
    "milano_weather = SFrame.read_csv(milano_weather_path, sep=\",\", header=None)\n",
    "trentino_weather = SFrame.read_csv(trentino_weather_path, sep=\",\", header=None)\n",
    "\n",
    "# Rename columns of the weather SFrames\n",
    "milano_weather = milano_weather.rename({'X1':'timestamp', 'X2':'SquareID', 'X3':\"intensity\", \"X4\":\"coverage\", \"X5\":\"type\"})\n",
    "trentino_weather = trentino_weather.rename({'X1': 'timestamp', 'X2':'SquareID', 'X3':\"intensity\"})\n",
    "\n",
    "# Drop coverage and type from Milano weather data, because we will only study \n",
    "# how intensity affects to the communication activity.\n",
    "milano_weather = milano_weather.remove_column('coverage')\n",
    "milano_weather = milano_weather.remove_column('type')\n",
    "\n",
    "# Print unique intensity values in Milano and Trentino\n",
    "# Used to make sure, that data decription is corrrect.\n",
    "print(\"Milano intensity classes:\", sorted(list(milano_weather[\"intensity\"].unique())))\n",
    "print(\"Trentino intensity classes:\", sorted(list(trentino_weather[\"intensity\"].unique())))\n",
    "\n",
    "# Make intensity histograms to see intensity distribution in Milan and Trentino.\n",
    "# Milan and Trentino precipitation intensity has different scales.\n",
    "# Milan scale is 0-4 and Trentino 1-18.\n",
    "plt.hist(milano_weather[\"intensity\"], bins=4)\n",
    "plt.title(\"Milano precipitation intensity\")\n",
    "plt.show()\n",
    "plt.hist(trentino_weather[\"intensity\"], bins=19)\n",
    "plt.title(\"Trentino precipitation intensity\")\n",
    "plt.show()\n",
    "\n",
    "# Print first rows\n",
    "milano_weather.print_rows(num_rows=5)\n",
    "trentino_weather.print_rows(num_rows=5)"
   ]
  },
  {
   "cell_type": "markdown",
   "metadata": {},
   "source": [
    "### Join telecom and weather data"
   ]
  },
  {
   "cell_type": "code",
   "execution_count": 94,
   "metadata": {},
   "outputs": [
    {
     "name": "stdout",
     "output_type": "stream",
     "text": [
      "+--------------+----------+-----------+----------------------+\n",
      "|  timestamp   | SquareID | intensity |        total         |\n",
      "+--------------+----------+-----------+----------------------+\n",
      "| 201311252300 |    1     |     0     | 0.05701250935247165  |\n",
      "| 201311252300 |    1     |     0     |  11.138522744511373  |\n",
      "| 201311252310 |    1     |     0     | 0.003574620210998875 |\n",
      "| 201311252310 |    1     |     0     |  10.801368105625238  |\n",
      "| 201311252320 |    1     |     0     |  10.108537937984984  |\n",
      "+--------------+----------+-----------+----------------------+\n",
      "[10023 rows x 4 columns]\n",
      "\n",
      "+--------------+----------+-----------+----------------------+\n",
      "|  timestamp   | SquareID | intensity |        total         |\n",
      "+--------------+----------+-----------+----------------------+\n",
      "| 201311280010 |  10043   |     1     |  2.0012517082797983  |\n",
      "| 201311281530 |  10095   |     1     | 0.41318456643054674  |\n",
      "| 201311281530 |  10095   |     1     |  11.279319454692903  |\n",
      "| 201311281530 |  10095   |     1     | 0.005506606935219812 |\n",
      "| 201311281640 |  10100   |     1     |  3.962250882679821   |\n",
      "+--------------+----------+-----------+----------------------+\n",
      "[3581663 rows x 4 columns]\n",
      "\n"
     ]
    }
   ],
   "source": [
    "# First set SFrames column timestamp and SquareID to int\n",
    "milano_tele[\"timestamp\"] = milano_tele[\"timestamp\"].astype(int)\n",
    "milano_tele[\"SquareID\"] = milano_tele[\"SquareID\"].astype(int)\n",
    "milano_weather[\"timestamp\"] = milano_weather[\"timestamp\"].astype(int)\n",
    "milano_weather[\"SquareID\"] = milano_weather[\"SquareID\"].astype(int)\n",
    "\n",
    "trentino_tele[\"timestamp\"] = trentino_tele[\"timestamp\"].astype(int)\n",
    "trentino_tele[\"SquareID\"] = trentino_tele[\"SquareID\"].astype(int)\n",
    "trentino_weather[\"timestamp\"] = trentino_weather[\"timestamp\"].astype(int)\n",
    "trentino_weather[\"SquareID\"] = trentino_weather[\"SquareID\"].astype(int)\n",
    "\n",
    "# Join weather and telecom datasets\n",
    "milano = milano_weather.join(milano_tele, on=['timestamp', \"SquareID\"], how='inner')\n",
    "trentino = trentino_weather.join(trentino_tele, on=['timestamp', \"SquareID\"], how='inner')\n",
    "\n",
    "# Print first rows\n",
    "milano.print_rows(num_rows=5)\n",
    "trentino.print_rows(num_rows=5)"
   ]
  },
  {
   "cell_type": "markdown",
   "metadata": {},
   "source": [
    "#### Print correlation values between precipitation intensity and total communication activity"
   ]
  },
  {
   "cell_type": "code",
   "execution_count": 114,
   "metadata": {},
   "outputs": [
    {
     "name": "stdout",
     "output_type": "stream",
     "text": [
      "Milano intensity vs activity correlation: \n",
      "            intensity     total\n",
      "intensity   1.000000 -0.018433\n",
      "total      -0.018433  1.000000 \n",
      "\n",
      "Trentino intensity vs activity correlation: \n",
      "            intensity     total\n",
      "intensity   1.000000 -0.013226\n",
      "total      -0.013226  1.000000\n"
     ]
    }
   ],
   "source": [
    "# Milano\n",
    "df_milano = pd.DataFrame(milano[[\"intensity\", \"total\"]])\n",
    "print(\"Milano intensity vs activity correlation: \\n\", df_milano.corr(), \"\\n\")\n",
    "\n",
    "# Trentino\n",
    "df_trentino = pd.DataFrame(trentino[[\"intensity\", \"total\"]])\n",
    "print(\"Trentino intensity vs activity correlation: \\n\", df_trentino.corr())"
   ]
  },
  {
   "cell_type": "markdown",
   "metadata": {},
   "source": [
    "#### Make correlation matrix of intensity and total activity"
   ]
  },
  {
   "cell_type": "code",
   "execution_count": 109,
   "metadata": {},
   "outputs": [
    {
     "data": {
      "image/png": "[encoded data removed]",
      "text/plain": [
       "<Figure size 576x432 with 2 Axes>"
      ]
     },
     "metadata": {},
     "output_type": "display_data"
    },
    {
     "data": {
      "image/png": "[encoded data removed]",
      "text/plain": [
       "<Figure size 576x432 with 2 Axes>"
      ]
     },
     "metadata": {},
     "output_type": "display_data"
    }
   ],
   "source": [
    "# Milano\n",
    "corrmat_milano = df_milano.corr()\n",
    "corr_features_milano = corrmat_milano.index\n",
    "plt.figure(figsize=(8,6))\n",
    "plt.title(\"Milano Correlation matrix precipitation intensicity and communication activity\")\n",
    "g=sns.heatmap(df_milano[corr_features_milano].corr(),annot=False,cmap=\"RdYlGn\")\n",
    "\n",
    "# Trentino\n",
    "corrmat_trentino = df_trentino.corr()\n",
    "corr_features_trentino = corrmat_trentino.index\n",
    "plt.figure(figsize=(8,6))\n",
    "plt.title(\"Trentino Correlation matrix precipitation intensicity and communication activity\")\n",
    "g=sns.heatmap(df_trentino[corr_features_trentino].corr(),annot=False,cmap=\"RdYlGn\")"
   ]
  },
  {
   "cell_type": "markdown",
   "metadata": {},
   "source": [
    "### Make histograms of total activity with different precipitation intencities"
   ]
  },
  {
   "cell_type": "code",
   "execution_count": 163,
   "metadata": {},
   "outputs": [
    {
     "data": {
      "image/png": "[encoded data removed]",
      "text/plain": [
       "<Figure size 432x288 with 4 Axes>"
      ]
     },
     "metadata": {},
     "output_type": "display_data"
    },
    {
     "data": {
      "image/png": "[encoded data removed]",
      "text/plain": [
       "<Figure size 432x288 with 6 Axes>"
      ]
     },
     "metadata": {},
     "output_type": "display_data"
    }
   ],
   "source": [
    "# Split Milano weather data, bases in intensity, to 4 groups (intensity classes 0 to 3).\n",
    "milano_w0 = milano.filter_by(0, 'intensity')\n",
    "milano_w1 = milano.filter_by(1, 'intensity')\n",
    "milano_w2 = milano.filter_by(2, 'intensity')\n",
    "milano_w3 = milano.filter_by(3, 'intensity')\n",
    "\n",
    "# Split Milano weather data, bases on intensity, to 6 groups (intensity classes 1 to 6).\n",
    "trentino_w1 = trentino[(trentino['intensity'] >= 1) & (trentino['intensity'] <= 3)]\n",
    "trentino_w2 = trentino[(trentino['intensity'] >= 4) & (trentino['intensity'] <= 6)]\n",
    "trentino_w3 = trentino[(trentino['intensity'] >= 7) & (trentino['intensity'] <= 9)]\n",
    "trentino_w4 = trentino[(trentino['intensity'] >= 10) & (trentino['intensity'] <= 12)]\n",
    "trentino_w5 = trentino[(trentino['intensity'] >= 13) & (trentino['intensity'] <= 15)]\n",
    "trentino_w6 = trentino[(trentino['intensity'] >= 16) & (trentino['intensity'] <= 18)]\n",
    "\n",
    "# Make Milano histograms. One for each precipitation intensity class.\n",
    "fig, ax = plt.subplots(2, 2, sharey=True, tight_layout=True)\n",
    "plt.subplot(2, 2, 1)\n",
    "plt.xlim(0, 50)\n",
    "plt.ylim(0, 0.4)\n",
    "plt.hist(milano_w0[\"total\"], bins=10, density=True)\n",
    "plt.legend([\"intensity=0\"], loc =\"upper right\") \n",
    "plt.subplot(2, 2, 2)\n",
    "plt.xlim(0, 50)\n",
    "plt.ylim(0, 0.4)\n",
    "plt.hist(milano_w1[\"total\"], bins=10, density=True)\n",
    "plt.legend([\"intensity=1\"], loc =\"upper right\") \n",
    "plt.subplot(2, 2, 3)\n",
    "plt.xlim(0, 50)\n",
    "plt.ylim(0, 0.4)\n",
    "plt.hist(milano_w2[\"total\"], bins=10, density=True)\n",
    "plt.legend([\"intensity=2\"], loc =\"upper right\") \n",
    "plt.subplot(2, 2, 4)\n",
    "plt.xlim(0, 50)\n",
    "plt.ylim(0, 0.4)\n",
    "plt.hist(milano_w3[\"total\"], bins=10, density=True)\n",
    "plt.legend([\"intensity=3\"], loc =\"upper right\")  \n",
    "plt.suptitle('Milano Telecom activity by precipitation intensity')\n",
    "plt.show()\n",
    "\n",
    "# Make Trentino histograms. One for each precipitation intensity class.\n",
    "fig, ax = plt.subplots(3, 2, sharey=True, tight_layout=True)\n",
    "# Histogram 1\n",
    "plt.subplot(3, 2, 1)\n",
    "#plt.ylim(0, 0.4)\n",
    "plt.hist(trentino_w1[\"total\"], bins=20, density=True)\n",
    "plt.legend([\"intensity=1\"], loc =\"upper right\") \n",
    "# Histogram 2\n",
    "plt.subplot(3, 2, 2)\n",
    "#plt.ylim(0, 0.4)\n",
    "plt.hist(trentino_w2[\"total\"], bins=20, density=True)\n",
    "plt.legend([\"intensity=2\"], loc =\"upper right\") \n",
    "# Histogram 3\n",
    "plt.subplot(3, 2, 3)\n",
    "#plt.ylim(0, 0.4)\n",
    "plt.hist(trentino_w3[\"total\"], bins=20, density=True)\n",
    "plt.legend([\"intensity=3\"], loc =\"upper right\") \n",
    "# Histogram 4\n",
    "plt.subplot(3, 2, 4)\n",
    "#plt.ylim(0, 0.4)\n",
    "plt.hist(trentino_w4[\"total\"], bins=20, density=True)\n",
    "plt.legend([\"intensity=4\"], loc =\"upper right\") \n",
    "# Histogram 5\n",
    "plt.subplot(3, 2, 5)\n",
    "#plt.ylim(0, 0.4)\n",
    "plt.hist(trentino_w5[\"total\"], bins=20, density=True)\n",
    "plt.legend([\"intensity=5\"], loc =\"upper right\")  \n",
    "# Histogram 6\n",
    "plt.subplot(3, 2, 6)\n",
    "#plt.ylim(0, 0.4)\n",
    "plt.hist(trentino_w6[\"total\"], bins=20, density=True)\n",
    "plt.legend([\"intensity=6\"], loc =\"upper right\")  \n",
    "plt.suptitle('Trentino Telecom activity by precipitation intensity')\n",
    "plt.show()\n"
   ]
  },
  {
   "cell_type": "markdown",
   "metadata": {},
   "source": [
    "## 6. Plot the heatmap of user telecommunication activity for both Milan and Trentino. Do you observe any shift in communication pattern of users between day and night? (A typical day time is between 8AM to 8PM)\n",
    "\n"
   ]
  },
  {
   "cell_type": "code",
   "execution_count": 15,
   "metadata": {},
   "outputs": [
    {
     "name": "stdout",
     "output_type": "stream",
     "text": [
      "Time to run function was 83 seconds\n",
      "Time to run function was 0 seconds\n",
      "+-----+------+--------------------+--------------------+\n",
      "| day | hour |    int_traffic     |       calls        |\n",
      "+-----+------+--------------------+--------------------+\n",
      "|  26 |  0   | 3081805.3777902257 | 41192.73183245975  |\n",
      "|  26 |  1   | 2572701.7786852913 | 17706.488070584088 |\n",
      "|  26 |  2   | 2231849.1340871626 | 11778.29144326302  |\n",
      "|  26 |  3   | 2032399.1755711306 | 10178.701211725678 |\n",
      "|  26 |  4   | 1922521.870940004  | 11383.318199818337 |\n",
      "+-----+------+--------------------+--------------------+\n",
      "[72 rows x 4 columns]\n",
      "\n",
      "+-----+------+-------------+-------+\n",
      "| day | hour | int_traffic | calls |\n",
      "+-----+------+-------------+-------+\n",
      "+-----+------+-------------+-------+\n",
      "[0 rows x 4 columns]\n",
      "\n"
     ]
    }
   ],
   "source": [
    "# Execute the glob function that returns a list of filepaths\n",
    "data_paths_milano_nov = glob2.glob(\"data/milano_telecom_nov/*\")\n",
    "data_paths_trento_nov = glob2.glob(\"data/trento_telecom_nov/*\")\n",
    "\n",
    "# Use create_telecom_SFrame to read paths and join the files within given dates\n",
    "milano_nov_tele = create_hourly_telecom_SFrame(data_paths_milano_nov, 26, 28)\n",
    "trento_nov_tele = create_hourly_telecom_SFrame(data_paths_trento_nov, 26, 28)\n",
    "\n",
    "# Print first 5 rows\n",
    "milano_nov_tele.print_rows(num_rows=5)\n",
    "trento_nov_tele.print_rows(num_rows=5)\n",
    "\n",
    "\n",
    "#trento_busy_hours = dec_day_con(trento_time)\n",
    "#trento_time = gl.SFrame(trento_telecom)\n",
    "#trento_plots.show(columns=['time_interval', 'total'],view='Heat Map', x='time_interval', y='total')"
   ]
  },
  {
   "cell_type": "markdown",
   "metadata": {},
   "source": [
    "## 7. Investigate and plot the correlation between air quality and weather (temperature, sunshine, precipitation, etc.)."
   ]
  },
  {
   "cell_type": "code",
   "execution_count": 16,
   "metadata": {},
   "outputs": [
    {
     "data": {
      "text/html": [
       "<pre>Finished parsing file /Users/saukk/Desktop/Distributed data infrastucture/GraphLab project/data/milano_pollution_data/mi_pollution_6956.csv</pre>"
      ],
      "text/plain": [
       "Finished parsing file /Users/saukk/Desktop/Distributed data infrastucture/GraphLab project/data/milano_pollution_data/mi_pollution_6956.csv"
      ]
     },
     "metadata": {},
     "output_type": "display_data"
    },
    {
     "data": {
      "text/html": [
       "<pre>Parsing completed. Parsed 54 lines in 0.019206 secs.</pre>"
      ],
      "text/plain": [
       "Parsing completed. Parsed 54 lines in 0.019206 secs."
      ]
     },
     "metadata": {},
     "output_type": "display_data"
    },
    {
     "name": "stdout",
     "output_type": "stream",
     "text": [
      "------------------------------------------------------\n",
      "Inferred types from first 100 line(s) of file as \n",
      "column_type_hints=[int,str,int]\n",
      "If parsing fails due to incorrect types, you can correct\n",
      "the inferred type list above and pass it to read_csv in\n",
      "the column_type_hints argument\n",
      "------------------------------------------------------\n"
     ]
    },
    {
     "data": {
      "text/html": [
       "<pre>Finished parsing file /Users/saukk/Desktop/Distributed data infrastucture/GraphLab project/data/milano_pollution_data/mi_pollution_6956.csv</pre>"
      ],
      "text/plain": [
       "Finished parsing file /Users/saukk/Desktop/Distributed data infrastucture/GraphLab project/data/milano_pollution_data/mi_pollution_6956.csv"
      ]
     },
     "metadata": {},
     "output_type": "display_data"
    },
    {
     "data": {
      "text/html": [
       "<pre>Parsing completed. Parsed 54 lines in 0.005541 secs.</pre>"
      ],
      "text/plain": [
       "Parsing completed. Parsed 54 lines in 0.005541 secs."
      ]
     },
     "metadata": {},
     "output_type": "display_data"
    },
    {
     "data": {
      "text/html": [
       "<pre>Finished parsing file /Users/saukk/Desktop/Distributed data infrastucture/GraphLab project/data/milano_pollution_data/mi_pollution_5722.csv</pre>"
      ],
      "text/plain": [
       "Finished parsing file /Users/saukk/Desktop/Distributed data infrastucture/GraphLab project/data/milano_pollution_data/mi_pollution_5722.csv"
      ]
     },
     "metadata": {},
     "output_type": "display_data"
    },
    {
     "data": {
      "text/html": [
       "<pre>Parsing completed. Parsed 100 lines in 0.005905 secs.</pre>"
      ],
      "text/plain": [
       "Parsing completed. Parsed 100 lines in 0.005905 secs."
      ]
     },
     "metadata": {},
     "output_type": "display_data"
    },
    {
     "name": "stdout",
     "output_type": "stream",
     "text": [
      "------------------------------------------------------\n",
      "Inferred types from first 100 line(s) of file as \n",
      "column_type_hints=[int,str,int]\n",
      "If parsing fails due to incorrect types, you can correct\n",
      "the inferred type list above and pass it to read_csv in\n",
      "the column_type_hints argument\n",
      "------------------------------------------------------\n"
     ]
    },
    {
     "data": {
      "text/html": [
       "<pre>Finished parsing file /Users/saukk/Desktop/Distributed data infrastucture/GraphLab project/data/milano_pollution_data/mi_pollution_5722.csv</pre>"
      ],
      "text/plain": [
       "Finished parsing file /Users/saukk/Desktop/Distributed data infrastucture/GraphLab project/data/milano_pollution_data/mi_pollution_5722.csv"
      ]
     },
     "metadata": {},
     "output_type": "display_data"
    },
    {
     "data": {
      "text/html": [
       "<pre>Parsing completed. Parsed 1353 lines in 0.006074 secs.</pre>"
      ],
      "text/plain": [
       "Parsing completed. Parsed 1353 lines in 0.006074 secs."
      ]
     },
     "metadata": {},
     "output_type": "display_data"
    },
    {
     "data": {
      "text/html": [
       "<pre>Finished parsing file /Users/saukk/Desktop/Distributed data infrastucture/GraphLab project/data/milano_pollution_data/mi_pollution_6372.csv</pre>"
      ],
      "text/plain": [
       "Finished parsing file /Users/saukk/Desktop/Distributed data infrastucture/GraphLab project/data/milano_pollution_data/mi_pollution_6372.csv"
      ]
     },
     "metadata": {},
     "output_type": "display_data"
    },
    {
     "data": {
      "text/html": [
       "<pre>Parsing completed. Parsed 100 lines in 0.006324 secs.</pre>"
      ],
      "text/plain": [
       "Parsing completed. Parsed 100 lines in 0.006324 secs."
      ]
     },
     "metadata": {},
     "output_type": "display_data"
    },
    {
     "name": "stdout",
     "output_type": "stream",
     "text": [
      "------------------------------------------------------\n",
      "Inferred types from first 100 line(s) of file as \n",
      "column_type_hints=[int,str,int]\n",
      "If parsing fails due to incorrect types, you can correct\n",
      "the inferred type list above and pass it to read_csv in\n",
      "the column_type_hints argument\n",
      "------------------------------------------------------\n"
     ]
    },
    {
     "data": {
      "text/html": [
       "<pre>Finished parsing file /Users/saukk/Desktop/Distributed data infrastucture/GraphLab project/data/milano_pollution_data/mi_pollution_6372.csv</pre>"
      ],
      "text/plain": [
       "Finished parsing file /Users/saukk/Desktop/Distributed data infrastucture/GraphLab project/data/milano_pollution_data/mi_pollution_6372.csv"
      ]
     },
     "metadata": {},
     "output_type": "display_data"
    },
    {
     "data": {
      "text/html": [
       "<pre>Parsing completed. Parsed 1460 lines in 0.006313 secs.</pre>"
      ],
      "text/plain": [
       "Parsing completed. Parsed 1460 lines in 0.006313 secs."
      ]
     },
     "metadata": {},
     "output_type": "display_data"
    },
    {
     "data": {
      "text/html": [
       "<pre>Finished parsing file /Users/saukk/Desktop/Distributed data infrastucture/GraphLab project/data/milano_pollution_data/mi_pollution_6366.csv</pre>"
      ],
      "text/plain": [
       "Finished parsing file /Users/saukk/Desktop/Distributed data infrastucture/GraphLab project/data/milano_pollution_data/mi_pollution_6366.csv"
      ]
     },
     "metadata": {},
     "output_type": "display_data"
    },
    {
     "data": {
      "text/html": [
       "<pre>Parsing completed. Parsed 100 lines in 0.006514 secs.</pre>"
      ],
      "text/plain": [
       "Parsing completed. Parsed 100 lines in 0.006514 secs."
      ]
     },
     "metadata": {},
     "output_type": "display_data"
    },
    {
     "name": "stdout",
     "output_type": "stream",
     "text": [
      "------------------------------------------------------\n",
      "Inferred types from first 100 line(s) of file as \n",
      "column_type_hints=[int,str,int]\n",
      "If parsing fails due to incorrect types, you can correct\n",
      "the inferred type list above and pass it to read_csv in\n",
      "the column_type_hints argument\n",
      "------------------------------------------------------\n"
     ]
    },
    {
     "data": {
      "text/html": [
       "<pre>Finished parsing file /Users/saukk/Desktop/Distributed data infrastucture/GraphLab project/data/milano_pollution_data/mi_pollution_6366.csv</pre>"
      ],
      "text/plain": [
       "Finished parsing file /Users/saukk/Desktop/Distributed data infrastucture/GraphLab project/data/milano_pollution_data/mi_pollution_6366.csv"
      ]
     },
     "metadata": {},
     "output_type": "display_data"
    },
    {
     "data": {
      "text/html": [
       "<pre>Parsing completed. Parsed 1312 lines in 0.006143 secs.</pre>"
      ],
      "text/plain": [
       "Parsing completed. Parsed 1312 lines in 0.006143 secs."
      ]
     },
     "metadata": {},
     "output_type": "display_data"
    },
    {
     "data": {
      "text/html": [
       "<pre>Finished parsing file /Users/saukk/Desktop/Distributed data infrastucture/GraphLab project/data/milano_pollution_data/mi_pollution_5531.csv</pre>"
      ],
      "text/plain": [
       "Finished parsing file /Users/saukk/Desktop/Distributed data infrastucture/GraphLab project/data/milano_pollution_data/mi_pollution_5531.csv"
      ]
     },
     "metadata": {},
     "output_type": "display_data"
    },
    {
     "data": {
      "text/html": [
       "<pre>Parsing completed. Parsed 100 lines in 0.007665 secs.</pre>"
      ],
      "text/plain": [
       "Parsing completed. Parsed 100 lines in 0.007665 secs."
      ]
     },
     "metadata": {},
     "output_type": "display_data"
    },
    {
     "name": "stdout",
     "output_type": "stream",
     "text": [
      "------------------------------------------------------\n",
      "Inferred types from first 100 line(s) of file as \n",
      "column_type_hints=[int,str,int]\n",
      "If parsing fails due to incorrect types, you can correct\n",
      "the inferred type list above and pass it to read_csv in\n",
      "the column_type_hints argument\n",
      "------------------------------------------------------\n"
     ]
    },
    {
     "data": {
      "text/html": [
       "<pre>Finished parsing file /Users/saukk/Desktop/Distributed data infrastucture/GraphLab project/data/milano_pollution_data/mi_pollution_5531.csv</pre>"
      ],
      "text/plain": [
       "Finished parsing file /Users/saukk/Desktop/Distributed data infrastucture/GraphLab project/data/milano_pollution_data/mi_pollution_5531.csv"
      ]
     },
     "metadata": {},
     "output_type": "display_data"
    },
    {
     "data": {
      "text/html": [
       "<pre>Parsing completed. Parsed 1312 lines in 0.006365 secs.</pre>"
      ],
      "text/plain": [
       "Parsing completed. Parsed 1312 lines in 0.006365 secs."
      ]
     },
     "metadata": {},
     "output_type": "display_data"
    },
    {
     "data": {
      "text/html": [
       "<pre>Finished parsing file /Users/saukk/Desktop/Distributed data infrastucture/GraphLab project/data/milano_pollution_data/mi_pollution_5725.csv</pre>"
      ],
      "text/plain": [
       "Finished parsing file /Users/saukk/Desktop/Distributed data infrastucture/GraphLab project/data/milano_pollution_data/mi_pollution_5725.csv"
      ]
     },
     "metadata": {},
     "output_type": "display_data"
    },
    {
     "data": {
      "text/html": [
       "<pre>Parsing completed. Parsed 100 lines in 0.006389 secs.</pre>"
      ],
      "text/plain": [
       "Parsing completed. Parsed 100 lines in 0.006389 secs."
      ]
     },
     "metadata": {},
     "output_type": "display_data"
    },
    {
     "name": "stdout",
     "output_type": "stream",
     "text": [
      "------------------------------------------------------\n",
      "Inferred types from first 100 line(s) of file as \n",
      "column_type_hints=[int,str,int]\n",
      "If parsing fails due to incorrect types, you can correct\n",
      "the inferred type list above and pass it to read_csv in\n",
      "the column_type_hints argument\n",
      "------------------------------------------------------\n"
     ]
    },
    {
     "data": {
      "text/html": [
       "<pre>Finished parsing file /Users/saukk/Desktop/Distributed data infrastucture/GraphLab project/data/milano_pollution_data/mi_pollution_5725.csv</pre>"
      ],
      "text/plain": [
       "Finished parsing file /Users/saukk/Desktop/Distributed data infrastucture/GraphLab project/data/milano_pollution_data/mi_pollution_5725.csv"
      ]
     },
     "metadata": {},
     "output_type": "display_data"
    },
    {
     "data": {
      "text/html": [
       "<pre>Parsing completed. Parsed 1312 lines in 0.006019 secs.</pre>"
      ],
      "text/plain": [
       "Parsing completed. Parsed 1312 lines in 0.006019 secs."
      ]
     },
     "metadata": {},
     "output_type": "display_data"
    },
    {
     "data": {
      "text/html": [
       "<pre>Finished parsing file /Users/saukk/Desktop/Distributed data infrastucture/GraphLab project/data/milano_pollution_data/mi_pollution_10278.csv</pre>"
      ],
      "text/plain": [
       "Finished parsing file /Users/saukk/Desktop/Distributed data infrastucture/GraphLab project/data/milano_pollution_data/mi_pollution_10278.csv"
      ]
     },
     "metadata": {},
     "output_type": "display_data"
    },
    {
     "data": {
      "text/html": [
       "<pre>Parsing completed. Parsed 100 lines in 0.006312 secs.</pre>"
      ],
      "text/plain": [
       "Parsing completed. Parsed 100 lines in 0.006312 secs."
      ]
     },
     "metadata": {},
     "output_type": "display_data"
    },
    {
     "name": "stdout",
     "output_type": "stream",
     "text": [
      "------------------------------------------------------\n",
      "Inferred types from first 100 line(s) of file as \n",
      "column_type_hints=[int,str,int]\n",
      "If parsing fails due to incorrect types, you can correct\n",
      "the inferred type list above and pass it to read_csv in\n",
      "the column_type_hints argument\n",
      "------------------------------------------------------\n"
     ]
    },
    {
     "data": {
      "text/html": [
       "<pre>Finished parsing file /Users/saukk/Desktop/Distributed data infrastucture/GraphLab project/data/milano_pollution_data/mi_pollution_10278.csv</pre>"
      ],
      "text/plain": [
       "Finished parsing file /Users/saukk/Desktop/Distributed data infrastucture/GraphLab project/data/milano_pollution_data/mi_pollution_10278.csv"
      ]
     },
     "metadata": {},
     "output_type": "display_data"
    },
    {
     "data": {
      "text/html": [
       "<pre>Parsing completed. Parsed 1459 lines in 0.006536 secs.</pre>"
      ],
      "text/plain": [
       "Parsing completed. Parsed 1459 lines in 0.006536 secs."
      ]
     },
     "metadata": {},
     "output_type": "display_data"
    },
    {
     "data": {
      "text/html": [
       "<pre>Finished parsing file /Users/saukk/Desktop/Distributed data infrastucture/GraphLab project/data/milano_pollution_data/mi_pollution_10279.csv</pre>"
      ],
      "text/plain": [
       "Finished parsing file /Users/saukk/Desktop/Distributed data infrastucture/GraphLab project/data/milano_pollution_data/mi_pollution_10279.csv"
      ]
     },
     "metadata": {},
     "output_type": "display_data"
    },
    {
     "data": {
      "text/html": [
       "<pre>Parsing completed. Parsed 100 lines in 0.00629 secs.</pre>"
      ],
      "text/plain": [
       "Parsing completed. Parsed 100 lines in 0.00629 secs."
      ]
     },
     "metadata": {},
     "output_type": "display_data"
    },
    {
     "name": "stdout",
     "output_type": "stream",
     "text": [
      "------------------------------------------------------\n",
      "Inferred types from first 100 line(s) of file as \n",
      "column_type_hints=[int,str,int]\n",
      "If parsing fails due to incorrect types, you can correct\n",
      "the inferred type list above and pass it to read_csv in\n",
      "the column_type_hints argument\n",
      "------------------------------------------------------\n"
     ]
    },
    {
     "data": {
      "text/html": [
       "<pre>Finished parsing file /Users/saukk/Desktop/Distributed data infrastucture/GraphLab project/data/milano_pollution_data/mi_pollution_10279.csv</pre>"
      ],
      "text/plain": [
       "Finished parsing file /Users/saukk/Desktop/Distributed data infrastucture/GraphLab project/data/milano_pollution_data/mi_pollution_10279.csv"
      ]
     },
     "metadata": {},
     "output_type": "display_data"
    },
    {
     "data": {
      "text/html": [
       "<pre>Parsing completed. Parsed 1461 lines in 0.006182 secs.</pre>"
      ],
      "text/plain": [
       "Parsing completed. Parsed 1461 lines in 0.006182 secs."
      ]
     },
     "metadata": {},
     "output_type": "display_data"
    },
    {
     "data": {
      "text/html": [
       "<pre>Finished parsing file /Users/saukk/Desktop/Distributed data infrastucture/GraphLab project/data/milano_pollution_data/mi_pollution_5542.csv</pre>"
      ],
      "text/plain": [
       "Finished parsing file /Users/saukk/Desktop/Distributed data infrastucture/GraphLab project/data/milano_pollution_data/mi_pollution_5542.csv"
      ]
     },
     "metadata": {},
     "output_type": "display_data"
    },
    {
     "data": {
      "text/html": [
       "<pre>Parsing completed. Parsed 100 lines in 0.007237 secs.</pre>"
      ],
      "text/plain": [
       "Parsing completed. Parsed 100 lines in 0.007237 secs."
      ]
     },
     "metadata": {},
     "output_type": "display_data"
    },
    {
     "name": "stdout",
     "output_type": "stream",
     "text": [
      "------------------------------------------------------\n",
      "Inferred types from first 100 line(s) of file as \n",
      "column_type_hints=[int,str,int]\n",
      "If parsing fails due to incorrect types, you can correct\n",
      "the inferred type list above and pass it to read_csv in\n",
      "the column_type_hints argument\n",
      "------------------------------------------------------\n"
     ]
    },
    {
     "data": {
      "text/html": [
       "<pre>Finished parsing file /Users/saukk/Desktop/Distributed data infrastucture/GraphLab project/data/milano_pollution_data/mi_pollution_5542.csv</pre>"
      ],
      "text/plain": [
       "Finished parsing file /Users/saukk/Desktop/Distributed data infrastucture/GraphLab project/data/milano_pollution_data/mi_pollution_5542.csv"
      ]
     },
     "metadata": {},
     "output_type": "display_data"
    },
    {
     "data": {
      "text/html": [
       "<pre>Parsing completed. Parsed 1462 lines in 0.006149 secs.</pre>"
      ],
      "text/plain": [
       "Parsing completed. Parsed 1462 lines in 0.006149 secs."
      ]
     },
     "metadata": {},
     "output_type": "display_data"
    },
    {
     "data": {
      "text/html": [
       "<pre>Finished parsing file /Users/saukk/Desktop/Distributed data infrastucture/GraphLab project/data/milano_pollution_data/mi_pollution_6328.csv</pre>"
      ],
      "text/plain": [
       "Finished parsing file /Users/saukk/Desktop/Distributed data infrastucture/GraphLab project/data/milano_pollution_data/mi_pollution_6328.csv"
      ]
     },
     "metadata": {},
     "output_type": "display_data"
    },
    {
     "data": {
      "text/html": [
       "<pre>Parsing completed. Parsed 100 lines in 0.006028 secs.</pre>"
      ],
      "text/plain": [
       "Parsing completed. Parsed 100 lines in 0.006028 secs."
      ]
     },
     "metadata": {},
     "output_type": "display_data"
    },
    {
     "name": "stdout",
     "output_type": "stream",
     "text": [
      "------------------------------------------------------\n",
      "Inferred types from first 100 line(s) of file as \n",
      "column_type_hints=[int,str,int]\n",
      "If parsing fails due to incorrect types, you can correct\n",
      "the inferred type list above and pass it to read_csv in\n",
      "the column_type_hints argument\n",
      "------------------------------------------------------\n"
     ]
    },
    {
     "data": {
      "text/html": [
       "<pre>Finished parsing file /Users/saukk/Desktop/Distributed data infrastucture/GraphLab project/data/milano_pollution_data/mi_pollution_6328.csv</pre>"
      ],
      "text/plain": [
       "Finished parsing file /Users/saukk/Desktop/Distributed data infrastucture/GraphLab project/data/milano_pollution_data/mi_pollution_6328.csv"
      ]
     },
     "metadata": {},
     "output_type": "display_data"
    },
    {
     "data": {
      "text/html": [
       "<pre>Parsing completed. Parsed 1460 lines in 0.005522 secs.</pre>"
      ],
      "text/plain": [
       "Parsing completed. Parsed 1460 lines in 0.005522 secs."
      ]
     },
     "metadata": {},
     "output_type": "display_data"
    },
    {
     "data": {
      "text/html": [
       "<pre>Finished parsing file /Users/saukk/Desktop/Distributed data infrastucture/GraphLab project/data/milano_pollution_data/mi_pollution_6062.csv</pre>"
      ],
      "text/plain": [
       "Finished parsing file /Users/saukk/Desktop/Distributed data infrastucture/GraphLab project/data/milano_pollution_data/mi_pollution_6062.csv"
      ]
     },
     "metadata": {},
     "output_type": "display_data"
    },
    {
     "data": {
      "text/html": [
       "<pre>Parsing completed. Parsed 100 lines in 0.005787 secs.</pre>"
      ],
      "text/plain": [
       "Parsing completed. Parsed 100 lines in 0.005787 secs."
      ]
     },
     "metadata": {},
     "output_type": "display_data"
    },
    {
     "name": "stdout",
     "output_type": "stream",
     "text": [
      "------------------------------------------------------\n",
      "Inferred types from first 100 line(s) of file as \n",
      "column_type_hints=[int,str,float]\n",
      "If parsing fails due to incorrect types, you can correct\n",
      "the inferred type list above and pass it to read_csv in\n",
      "the column_type_hints argument\n",
      "------------------------------------------------------\n"
     ]
    },
    {
     "data": {
      "text/html": [
       "<pre>Finished parsing file /Users/saukk/Desktop/Distributed data infrastucture/GraphLab project/data/milano_pollution_data/mi_pollution_6062.csv</pre>"
      ],
      "text/plain": [
       "Finished parsing file /Users/saukk/Desktop/Distributed data infrastucture/GraphLab project/data/milano_pollution_data/mi_pollution_6062.csv"
      ]
     },
     "metadata": {},
     "output_type": "display_data"
    },
    {
     "data": {
      "text/html": [
       "<pre>Parsing completed. Parsed 1461 lines in 0.005983 secs.</pre>"
      ],
      "text/plain": [
       "Parsing completed. Parsed 1461 lines in 0.005983 secs."
      ]
     },
     "metadata": {},
     "output_type": "display_data"
    },
    {
     "data": {
      "text/html": [
       "<pre>Finished parsing file /Users/saukk/Desktop/Distributed data infrastucture/GraphLab project/data/milano_pollution_data/mi_pollution_20020.csv</pre>"
      ],
      "text/plain": [
       "Finished parsing file /Users/saukk/Desktop/Distributed data infrastucture/GraphLab project/data/milano_pollution_data/mi_pollution_20020.csv"
      ]
     },
     "metadata": {},
     "output_type": "display_data"
    },
    {
     "data": {
      "text/html": [
       "<pre>Parsing completed. Parsed 100 lines in 0.006007 secs.</pre>"
      ],
      "text/plain": [
       "Parsing completed. Parsed 100 lines in 0.006007 secs."
      ]
     },
     "metadata": {},
     "output_type": "display_data"
    },
    {
     "name": "stdout",
     "output_type": "stream",
     "text": [
      "------------------------------------------------------\n",
      "Inferred types from first 100 line(s) of file as \n",
      "column_type_hints=[int,str,float]\n",
      "If parsing fails due to incorrect types, you can correct\n",
      "the inferred type list above and pass it to read_csv in\n",
      "the column_type_hints argument\n",
      "------------------------------------------------------\n"
     ]
    },
    {
     "data": {
      "text/html": [
       "<pre>Finished parsing file /Users/saukk/Desktop/Distributed data infrastucture/GraphLab project/data/milano_pollution_data/mi_pollution_20020.csv</pre>"
      ],
      "text/plain": [
       "Finished parsing file /Users/saukk/Desktop/Distributed data infrastucture/GraphLab project/data/milano_pollution_data/mi_pollution_20020.csv"
      ]
     },
     "metadata": {},
     "output_type": "display_data"
    },
    {
     "data": {
      "text/html": [
       "<pre>Parsing completed. Parsed 743 lines in 0.006091 secs.</pre>"
      ],
      "text/plain": [
       "Parsing completed. Parsed 743 lines in 0.006091 secs."
      ]
     },
     "metadata": {},
     "output_type": "display_data"
    },
    {
     "data": {
      "text/html": [
       "<pre>Finished parsing file /Users/saukk/Desktop/Distributed data infrastucture/GraphLab project/data/milano_pollution_data/mi_pollution_10280.csv</pre>"
      ],
      "text/plain": [
       "Finished parsing file /Users/saukk/Desktop/Distributed data infrastucture/GraphLab project/data/milano_pollution_data/mi_pollution_10280.csv"
      ]
     },
     "metadata": {},
     "output_type": "display_data"
    },
    {
     "data": {
      "text/html": [
       "<pre>Parsing completed. Parsed 100 lines in 0.0061 secs.</pre>"
      ],
      "text/plain": [
       "Parsing completed. Parsed 100 lines in 0.0061 secs."
      ]
     },
     "metadata": {},
     "output_type": "display_data"
    },
    {
     "name": "stdout",
     "output_type": "stream",
     "text": [
      "------------------------------------------------------\n",
      "Inferred types from first 100 line(s) of file as \n",
      "column_type_hints=[int,str,int]\n",
      "If parsing fails due to incorrect types, you can correct\n",
      "the inferred type list above and pass it to read_csv in\n",
      "the column_type_hints argument\n",
      "------------------------------------------------------\n"
     ]
    },
    {
     "data": {
      "text/html": [
       "<pre>Finished parsing file /Users/saukk/Desktop/Distributed data infrastucture/GraphLab project/data/milano_pollution_data/mi_pollution_10280.csv</pre>"
      ],
      "text/plain": [
       "Finished parsing file /Users/saukk/Desktop/Distributed data infrastucture/GraphLab project/data/milano_pollution_data/mi_pollution_10280.csv"
      ]
     },
     "metadata": {},
     "output_type": "display_data"
    },
    {
     "data": {
      "text/html": [
       "<pre>Parsing completed. Parsed 1352 lines in 0.005825 secs.</pre>"
      ],
      "text/plain": [
       "Parsing completed. Parsed 1352 lines in 0.005825 secs."
      ]
     },
     "metadata": {},
     "output_type": "display_data"
    },
    {
     "data": {
      "text/html": [
       "<pre>Finished parsing file /Users/saukk/Desktop/Distributed data infrastucture/GraphLab project/data/milano_pollution_data/mi_pollution_5552.csv</pre>"
      ],
      "text/plain": [
       "Finished parsing file /Users/saukk/Desktop/Distributed data infrastucture/GraphLab project/data/milano_pollution_data/mi_pollution_5552.csv"
      ]
     },
     "metadata": {},
     "output_type": "display_data"
    },
    {
     "data": {
      "text/html": [
       "<pre>Parsing completed. Parsed 100 lines in 0.008856 secs.</pre>"
      ],
      "text/plain": [
       "Parsing completed. Parsed 100 lines in 0.008856 secs."
      ]
     },
     "metadata": {},
     "output_type": "display_data"
    },
    {
     "name": "stdout",
     "output_type": "stream",
     "text": [
      "------------------------------------------------------\n",
      "Inferred types from first 100 line(s) of file as \n",
      "column_type_hints=[int,str,int]\n",
      "If parsing fails due to incorrect types, you can correct\n",
      "the inferred type list above and pass it to read_csv in\n",
      "the column_type_hints argument\n",
      "------------------------------------------------------\n"
     ]
    },
    {
     "data": {
      "text/html": [
       "<pre>Finished parsing file /Users/saukk/Desktop/Distributed data infrastucture/GraphLab project/data/milano_pollution_data/mi_pollution_5552.csv</pre>"
      ],
      "text/plain": [
       "Finished parsing file /Users/saukk/Desktop/Distributed data infrastucture/GraphLab project/data/milano_pollution_data/mi_pollution_5552.csv"
      ]
     },
     "metadata": {},
     "output_type": "display_data"
    },
    {
     "data": {
      "text/html": [
       "<pre>Parsing completed. Parsed 1462 lines in 0.005603 secs.</pre>"
      ],
      "text/plain": [
       "Parsing completed. Parsed 1462 lines in 0.005603 secs."
      ]
     },
     "metadata": {},
     "output_type": "display_data"
    },
    {
     "data": {
      "text/html": [
       "<pre>Finished parsing file /Users/saukk/Desktop/Distributed data infrastucture/GraphLab project/data/milano_pollution_data/mi_pollution_5550.csv</pre>"
      ],
      "text/plain": [
       "Finished parsing file /Users/saukk/Desktop/Distributed data infrastucture/GraphLab project/data/milano_pollution_data/mi_pollution_5550.csv"
      ]
     },
     "metadata": {},
     "output_type": "display_data"
    },
    {
     "data": {
      "text/html": [
       "<pre>Parsing completed. Parsed 100 lines in 0.005692 secs.</pre>"
      ],
      "text/plain": [
       "Parsing completed. Parsed 100 lines in 0.005692 secs."
      ]
     },
     "metadata": {},
     "output_type": "display_data"
    },
    {
     "name": "stdout",
     "output_type": "stream",
     "text": [
      "------------------------------------------------------\n",
      "Inferred types from first 100 line(s) of file as \n",
      "column_type_hints=[int,str,int]\n",
      "If parsing fails due to incorrect types, you can correct\n",
      "the inferred type list above and pass it to read_csv in\n",
      "the column_type_hints argument\n",
      "------------------------------------------------------\n"
     ]
    },
    {
     "data": {
      "text/html": [
       "<pre>Finished parsing file /Users/saukk/Desktop/Distributed data infrastucture/GraphLab project/data/milano_pollution_data/mi_pollution_5550.csv</pre>"
      ],
      "text/plain": [
       "Finished parsing file /Users/saukk/Desktop/Distributed data infrastucture/GraphLab project/data/milano_pollution_data/mi_pollution_5550.csv"
      ]
     },
     "metadata": {},
     "output_type": "display_data"
    },
    {
     "data": {
      "text/html": [
       "<pre>Parsing completed. Parsed 1062 lines in 0.005617 secs.</pre>"
      ],
      "text/plain": [
       "Parsing completed. Parsed 1062 lines in 0.005617 secs."
      ]
     },
     "metadata": {},
     "output_type": "display_data"
    },
    {
     "data": {
      "text/html": [
       "<pre>Finished parsing file /Users/saukk/Desktop/Distributed data infrastucture/GraphLab project/data/milano_pollution_data/mi_pollution_10282.csv</pre>"
      ],
      "text/plain": [
       "Finished parsing file /Users/saukk/Desktop/Distributed data infrastucture/GraphLab project/data/milano_pollution_data/mi_pollution_10282.csv"
      ]
     },
     "metadata": {},
     "output_type": "display_data"
    },
    {
     "data": {
      "text/html": [
       "<pre>Parsing completed. Parsed 100 lines in 0.005668 secs.</pre>"
      ],
      "text/plain": [
       "Parsing completed. Parsed 100 lines in 0.005668 secs."
      ]
     },
     "metadata": {},
     "output_type": "display_data"
    },
    {
     "name": "stdout",
     "output_type": "stream",
     "text": [
      "------------------------------------------------------\n",
      "Inferred types from first 100 line(s) of file as \n",
      "column_type_hints=[int,str,int]\n",
      "If parsing fails due to incorrect types, you can correct\n",
      "the inferred type list above and pass it to read_csv in\n",
      "the column_type_hints argument\n",
      "------------------------------------------------------\n"
     ]
    },
    {
     "data": {
      "text/html": [
       "<pre>Finished parsing file /Users/saukk/Desktop/Distributed data infrastucture/GraphLab project/data/milano_pollution_data/mi_pollution_10282.csv</pre>"
      ],
      "text/plain": [
       "Finished parsing file /Users/saukk/Desktop/Distributed data infrastucture/GraphLab project/data/milano_pollution_data/mi_pollution_10282.csv"
      ]
     },
     "metadata": {},
     "output_type": "display_data"
    },
    {
     "data": {
      "text/html": [
       "<pre>Parsing completed. Parsed 1461 lines in 0.005611 secs.</pre>"
      ],
      "text/plain": [
       "Parsing completed. Parsed 1461 lines in 0.005611 secs."
      ]
     },
     "metadata": {},
     "output_type": "display_data"
    },
    {
     "data": {
      "text/html": [
       "<pre>Finished parsing file /Users/saukk/Desktop/Distributed data infrastucture/GraphLab project/data/milano_pollution_data/mi_pollution_10283.csv</pre>"
      ],
      "text/plain": [
       "Finished parsing file /Users/saukk/Desktop/Distributed data infrastucture/GraphLab project/data/milano_pollution_data/mi_pollution_10283.csv"
      ]
     },
     "metadata": {},
     "output_type": "display_data"
    },
    {
     "data": {
      "text/html": [
       "<pre>Parsing completed. Parsed 61 lines in 0.00539 secs.</pre>"
      ],
      "text/plain": [
       "Parsing completed. Parsed 61 lines in 0.00539 secs."
      ]
     },
     "metadata": {},
     "output_type": "display_data"
    },
    {
     "name": "stdout",
     "output_type": "stream",
     "text": [
      "------------------------------------------------------\n",
      "Inferred types from first 100 line(s) of file as \n",
      "column_type_hints=[int,str,int]\n",
      "If parsing fails due to incorrect types, you can correct\n",
      "the inferred type list above and pass it to read_csv in\n",
      "the column_type_hints argument\n",
      "------------------------------------------------------\n"
     ]
    },
    {
     "data": {
      "text/html": [
       "<pre>Finished parsing file /Users/saukk/Desktop/Distributed data infrastucture/GraphLab project/data/milano_pollution_data/mi_pollution_10283.csv</pre>"
      ],
      "text/plain": [
       "Finished parsing file /Users/saukk/Desktop/Distributed data infrastucture/GraphLab project/data/milano_pollution_data/mi_pollution_10283.csv"
      ]
     },
     "metadata": {},
     "output_type": "display_data"
    },
    {
     "data": {
      "text/html": [
       "<pre>Parsing completed. Parsed 61 lines in 0.00545 secs.</pre>"
      ],
      "text/plain": [
       "Parsing completed. Parsed 61 lines in 0.00545 secs."
      ]
     },
     "metadata": {},
     "output_type": "display_data"
    },
    {
     "data": {
      "text/html": [
       "<pre>Finished parsing file /Users/saukk/Desktop/Distributed data infrastucture/GraphLab project/data/milano_pollution_data/mi_pollution_5551.csv</pre>"
      ],
      "text/plain": [
       "Finished parsing file /Users/saukk/Desktop/Distributed data infrastucture/GraphLab project/data/milano_pollution_data/mi_pollution_5551.csv"
      ]
     },
     "metadata": {},
     "output_type": "display_data"
    },
    {
     "data": {
      "text/html": [
       "<pre>Parsing completed. Parsed 100 lines in 0.00593 secs.</pre>"
      ],
      "text/plain": [
       "Parsing completed. Parsed 100 lines in 0.00593 secs."
      ]
     },
     "metadata": {},
     "output_type": "display_data"
    },
    {
     "name": "stdout",
     "output_type": "stream",
     "text": [
      "------------------------------------------------------\n",
      "Inferred types from first 100 line(s) of file as \n",
      "column_type_hints=[int,str,int]\n",
      "If parsing fails due to incorrect types, you can correct\n",
      "the inferred type list above and pass it to read_csv in\n",
      "the column_type_hints argument\n",
      "------------------------------------------------------\n"
     ]
    },
    {
     "data": {
      "text/html": [
       "<pre>Finished parsing file /Users/saukk/Desktop/Distributed data infrastucture/GraphLab project/data/milano_pollution_data/mi_pollution_5551.csv</pre>"
      ],
      "text/plain": [
       "Finished parsing file /Users/saukk/Desktop/Distributed data infrastucture/GraphLab project/data/milano_pollution_data/mi_pollution_5551.csv"
      ]
     },
     "metadata": {},
     "output_type": "display_data"
    },
    {
     "data": {
      "text/html": [
       "<pre>Parsing completed. Parsed 1462 lines in 0.006268 secs.</pre>"
      ],
      "text/plain": [
       "Parsing completed. Parsed 1462 lines in 0.006268 secs."
      ]
     },
     "metadata": {},
     "output_type": "display_data"
    },
    {
     "data": {
      "text/html": [
       "<pre>Finished parsing file /Users/saukk/Desktop/Distributed data infrastucture/GraphLab project/data/milano_pollution_data/mi_pollution_10320.csv</pre>"
      ],
      "text/plain": [
       "Finished parsing file /Users/saukk/Desktop/Distributed data infrastucture/GraphLab project/data/milano_pollution_data/mi_pollution_10320.csv"
      ]
     },
     "metadata": {},
     "output_type": "display_data"
    },
    {
     "data": {
      "text/html": [
       "<pre>Parsing completed. Parsed 59 lines in 0.005337 secs.</pre>"
      ],
      "text/plain": [
       "Parsing completed. Parsed 59 lines in 0.005337 secs."
      ]
     },
     "metadata": {},
     "output_type": "display_data"
    },
    {
     "name": "stdout",
     "output_type": "stream",
     "text": [
      "------------------------------------------------------\n",
      "Inferred types from first 100 line(s) of file as \n",
      "column_type_hints=[int,str,int]\n",
      "If parsing fails due to incorrect types, you can correct\n",
      "the inferred type list above and pass it to read_csv in\n",
      "the column_type_hints argument\n",
      "------------------------------------------------------\n"
     ]
    },
    {
     "data": {
      "text/html": [
       "<pre>Finished parsing file /Users/saukk/Desktop/Distributed data infrastucture/GraphLab project/data/milano_pollution_data/mi_pollution_10320.csv</pre>"
      ],
      "text/plain": [
       "Finished parsing file /Users/saukk/Desktop/Distributed data infrastucture/GraphLab project/data/milano_pollution_data/mi_pollution_10320.csv"
      ]
     },
     "metadata": {},
     "output_type": "display_data"
    },
    {
     "data": {
      "text/html": [
       "<pre>Parsing completed. Parsed 59 lines in 0.005391 secs.</pre>"
      ],
      "text/plain": [
       "Parsing completed. Parsed 59 lines in 0.005391 secs."
      ]
     },
     "metadata": {},
     "output_type": "display_data"
    },
    {
     "data": {
      "text/html": [
       "<pre>Finished parsing file /Users/saukk/Desktop/Distributed data infrastucture/GraphLab project/data/milano_pollution_data/mi_pollution_17126.csv</pre>"
      ],
      "text/plain": [
       "Finished parsing file /Users/saukk/Desktop/Distributed data infrastucture/GraphLab project/data/milano_pollution_data/mi_pollution_17126.csv"
      ]
     },
     "metadata": {},
     "output_type": "display_data"
    },
    {
     "data": {
      "text/html": [
       "<pre>Parsing completed. Parsed 100 lines in 0.005945 secs.</pre>"
      ],
      "text/plain": [
       "Parsing completed. Parsed 100 lines in 0.005945 secs."
      ]
     },
     "metadata": {},
     "output_type": "display_data"
    },
    {
     "name": "stdout",
     "output_type": "stream",
     "text": [
      "------------------------------------------------------\n",
      "Inferred types from first 100 line(s) of file as \n",
      "column_type_hints=[int,str,float]\n",
      "If parsing fails due to incorrect types, you can correct\n",
      "the inferred type list above and pass it to read_csv in\n",
      "the column_type_hints argument\n",
      "------------------------------------------------------\n"
     ]
    },
    {
     "data": {
      "text/html": [
       "<pre>Finished parsing file /Users/saukk/Desktop/Distributed data infrastucture/GraphLab project/data/milano_pollution_data/mi_pollution_17126.csv</pre>"
      ],
      "text/plain": [
       "Finished parsing file /Users/saukk/Desktop/Distributed data infrastucture/GraphLab project/data/milano_pollution_data/mi_pollution_17126.csv"
      ]
     },
     "metadata": {},
     "output_type": "display_data"
    },
    {
     "data": {
      "text/html": [
       "<pre>Parsing completed. Parsed 1461 lines in 0.005732 secs.</pre>"
      ],
      "text/plain": [
       "Parsing completed. Parsed 1461 lines in 0.005732 secs."
      ]
     },
     "metadata": {},
     "output_type": "display_data"
    },
    {
     "data": {
      "text/html": [
       "<pre>Finished parsing file /Users/saukk/Desktop/Distributed data infrastucture/GraphLab project/data/milano_pollution_data/mi_pollution_17127.csv</pre>"
      ],
      "text/plain": [
       "Finished parsing file /Users/saukk/Desktop/Distributed data infrastucture/GraphLab project/data/milano_pollution_data/mi_pollution_17127.csv"
      ]
     },
     "metadata": {},
     "output_type": "display_data"
    },
    {
     "data": {
      "text/html": [
       "<pre>Parsing completed. Parsed 100 lines in 0.005836 secs.</pre>"
      ],
      "text/plain": [
       "Parsing completed. Parsed 100 lines in 0.005836 secs."
      ]
     },
     "metadata": {},
     "output_type": "display_data"
    },
    {
     "name": "stdout",
     "output_type": "stream",
     "text": [
      "------------------------------------------------------\n",
      "Inferred types from first 100 line(s) of file as \n",
      "column_type_hints=[int,str,float]\n",
      "If parsing fails due to incorrect types, you can correct\n",
      "the inferred type list above and pass it to read_csv in\n",
      "the column_type_hints argument\n",
      "------------------------------------------------------\n"
     ]
    },
    {
     "data": {
      "text/html": [
       "<pre>Finished parsing file /Users/saukk/Desktop/Distributed data infrastucture/GraphLab project/data/milano_pollution_data/mi_pollution_17127.csv</pre>"
      ],
      "text/plain": [
       "Finished parsing file /Users/saukk/Desktop/Distributed data infrastucture/GraphLab project/data/milano_pollution_data/mi_pollution_17127.csv"
      ]
     },
     "metadata": {},
     "output_type": "display_data"
    },
    {
     "data": {
      "text/html": [
       "<pre>Parsing completed. Parsed 1484 lines in 0.00551 secs.</pre>"
      ],
      "text/plain": [
       "Parsing completed. Parsed 1484 lines in 0.00551 secs."
      ]
     },
     "metadata": {},
     "output_type": "display_data"
    },
    {
     "data": {
      "text/html": [
       "<pre>Finished parsing file /Users/saukk/Desktop/Distributed data infrastucture/GraphLab project/data/milano_pollution_data/mi_pollution_20004.csv</pre>"
      ],
      "text/plain": [
       "Finished parsing file /Users/saukk/Desktop/Distributed data infrastucture/GraphLab project/data/milano_pollution_data/mi_pollution_20004.csv"
      ]
     },
     "metadata": {},
     "output_type": "display_data"
    },
    {
     "data": {
      "text/html": [
       "<pre>Parsing completed. Parsed 100 lines in 0.006641 secs.</pre>"
      ],
      "text/plain": [
       "Parsing completed. Parsed 100 lines in 0.006641 secs."
      ]
     },
     "metadata": {},
     "output_type": "display_data"
    },
    {
     "name": "stdout",
     "output_type": "stream",
     "text": [
      "------------------------------------------------------\n",
      "Inferred types from first 100 line(s) of file as \n",
      "column_type_hints=[int,str,float]\n",
      "If parsing fails due to incorrect types, you can correct\n",
      "the inferred type list above and pass it to read_csv in\n",
      "the column_type_hints argument\n",
      "------------------------------------------------------\n"
     ]
    },
    {
     "data": {
      "text/html": [
       "<pre>Finished parsing file /Users/saukk/Desktop/Distributed data infrastucture/GraphLab project/data/milano_pollution_data/mi_pollution_20004.csv</pre>"
      ],
      "text/plain": [
       "Finished parsing file /Users/saukk/Desktop/Distributed data infrastucture/GraphLab project/data/milano_pollution_data/mi_pollution_20004.csv"
      ]
     },
     "metadata": {},
     "output_type": "display_data"
    },
    {
     "data": {
      "text/html": [
       "<pre>Parsing completed. Parsed 692 lines in 0.005557 secs.</pre>"
      ],
      "text/plain": [
       "Parsing completed. Parsed 692 lines in 0.005557 secs."
      ]
     },
     "metadata": {},
     "output_type": "display_data"
    },
    {
     "data": {
      "text/html": [
       "<pre>Finished parsing file /Users/saukk/Desktop/Distributed data infrastucture/GraphLab project/data/milano_pollution_data/mi_pollution_6320.csv</pre>"
      ],
      "text/plain": [
       "Finished parsing file /Users/saukk/Desktop/Distributed data infrastucture/GraphLab project/data/milano_pollution_data/mi_pollution_6320.csv"
      ]
     },
     "metadata": {},
     "output_type": "display_data"
    },
    {
     "data": {
      "text/html": [
       "<pre>Parsing completed. Parsed 100 lines in 0.005687 secs.</pre>"
      ],
      "text/plain": [
       "Parsing completed. Parsed 100 lines in 0.005687 secs."
      ]
     },
     "metadata": {},
     "output_type": "display_data"
    },
    {
     "name": "stdout",
     "output_type": "stream",
     "text": [
      "------------------------------------------------------\n",
      "Inferred types from first 100 line(s) of file as \n",
      "column_type_hints=[int,str,int]\n",
      "If parsing fails due to incorrect types, you can correct\n",
      "the inferred type list above and pass it to read_csv in\n",
      "the column_type_hints argument\n",
      "------------------------------------------------------\n"
     ]
    },
    {
     "data": {
      "text/html": [
       "<pre>Finished parsing file /Users/saukk/Desktop/Distributed data infrastucture/GraphLab project/data/milano_pollution_data/mi_pollution_6320.csv</pre>"
      ],
      "text/plain": [
       "Finished parsing file /Users/saukk/Desktop/Distributed data infrastucture/GraphLab project/data/milano_pollution_data/mi_pollution_6320.csv"
      ]
     },
     "metadata": {},
     "output_type": "display_data"
    },
    {
     "data": {
      "text/html": [
       "<pre>Parsing completed. Parsed 1462 lines in 0.005603 secs.</pre>"
      ],
      "text/plain": [
       "Parsing completed. Parsed 1462 lines in 0.005603 secs."
      ]
     },
     "metadata": {},
     "output_type": "display_data"
    },
    {
     "data": {
      "text/html": [
       "<pre>Finished parsing file /Users/saukk/Desktop/Distributed data infrastucture/GraphLab project/data/milano_pollution_data/mi_pollution_10273.csv</pre>"
      ],
      "text/plain": [
       "Finished parsing file /Users/saukk/Desktop/Distributed data infrastucture/GraphLab project/data/milano_pollution_data/mi_pollution_10273.csv"
      ]
     },
     "metadata": {},
     "output_type": "display_data"
    },
    {
     "data": {
      "text/html": [
       "<pre>Parsing completed. Parsed 61 lines in 0.005361 secs.</pre>"
      ],
      "text/plain": [
       "Parsing completed. Parsed 61 lines in 0.005361 secs."
      ]
     },
     "metadata": {},
     "output_type": "display_data"
    },
    {
     "name": "stdout",
     "output_type": "stream",
     "text": [
      "------------------------------------------------------\n",
      "Inferred types from first 100 line(s) of file as \n",
      "column_type_hints=[int,str,int]\n",
      "If parsing fails due to incorrect types, you can correct\n",
      "the inferred type list above and pass it to read_csv in\n",
      "the column_type_hints argument\n",
      "------------------------------------------------------\n"
     ]
    },
    {
     "data": {
      "text/html": [
       "<pre>Finished parsing file /Users/saukk/Desktop/Distributed data infrastucture/GraphLab project/data/milano_pollution_data/mi_pollution_10273.csv</pre>"
      ],
      "text/plain": [
       "Finished parsing file /Users/saukk/Desktop/Distributed data infrastucture/GraphLab project/data/milano_pollution_data/mi_pollution_10273.csv"
      ]
     },
     "metadata": {},
     "output_type": "display_data"
    },
    {
     "data": {
      "text/html": [
       "<pre>Parsing completed. Parsed 61 lines in 0.005288 secs.</pre>"
      ],
      "text/plain": [
       "Parsing completed. Parsed 61 lines in 0.005288 secs."
      ]
     },
     "metadata": {},
     "output_type": "display_data"
    },
    {
     "data": {
      "text/html": [
       "<pre>Finished parsing file /Users/saukk/Desktop/Distributed data infrastucture/GraphLab project/data/milano_pollution_data/mi_pollution_5827.csv</pre>"
      ],
      "text/plain": [
       "Finished parsing file /Users/saukk/Desktop/Distributed data infrastucture/GraphLab project/data/milano_pollution_data/mi_pollution_5827.csv"
      ]
     },
     "metadata": {},
     "output_type": "display_data"
    },
    {
     "data": {
      "text/html": [
       "<pre>Parsing completed. Parsed 100 lines in 0.00684 secs.</pre>"
      ],
      "text/plain": [
       "Parsing completed. Parsed 100 lines in 0.00684 secs."
      ]
     },
     "metadata": {},
     "output_type": "display_data"
    },
    {
     "name": "stdout",
     "output_type": "stream",
     "text": [
      "------------------------------------------------------\n",
      "Inferred types from first 100 line(s) of file as \n",
      "column_type_hints=[int,str,float]\n",
      "If parsing fails due to incorrect types, you can correct\n",
      "the inferred type list above and pass it to read_csv in\n",
      "the column_type_hints argument\n",
      "------------------------------------------------------\n"
     ]
    },
    {
     "data": {
      "text/html": [
       "<pre>Finished parsing file /Users/saukk/Desktop/Distributed data infrastucture/GraphLab project/data/milano_pollution_data/mi_pollution_5827.csv</pre>"
      ],
      "text/plain": [
       "Finished parsing file /Users/saukk/Desktop/Distributed data infrastucture/GraphLab project/data/milano_pollution_data/mi_pollution_5827.csv"
      ]
     },
     "metadata": {},
     "output_type": "display_data"
    },
    {
     "data": {
      "text/html": [
       "<pre>Parsing completed. Parsed 1461 lines in 0.005331 secs.</pre>"
      ],
      "text/plain": [
       "Parsing completed. Parsed 1461 lines in 0.005331 secs."
      ]
     },
     "metadata": {},
     "output_type": "display_data"
    },
    {
     "data": {
      "text/html": [
       "<pre>Finished parsing file /Users/saukk/Desktop/Distributed data infrastucture/GraphLab project/data/milano_pollution_data/mi_pollution_20005.csv</pre>"
      ],
      "text/plain": [
       "Finished parsing file /Users/saukk/Desktop/Distributed data infrastucture/GraphLab project/data/milano_pollution_data/mi_pollution_20005.csv"
      ]
     },
     "metadata": {},
     "output_type": "display_data"
    },
    {
     "data": {
      "text/html": [
       "<pre>Parsing completed. Parsed 88 lines in 0.00518 secs.</pre>"
      ],
      "text/plain": [
       "Parsing completed. Parsed 88 lines in 0.00518 secs."
      ]
     },
     "metadata": {},
     "output_type": "display_data"
    },
    {
     "name": "stdout",
     "output_type": "stream",
     "text": [
      "------------------------------------------------------\n",
      "Inferred types from first 100 line(s) of file as \n",
      "column_type_hints=[int,str,float]\n",
      "If parsing fails due to incorrect types, you can correct\n",
      "the inferred type list above and pass it to read_csv in\n",
      "the column_type_hints argument\n",
      "------------------------------------------------------\n"
     ]
    },
    {
     "data": {
      "text/html": [
       "<pre>Finished parsing file /Users/saukk/Desktop/Distributed data infrastucture/GraphLab project/data/milano_pollution_data/mi_pollution_20005.csv</pre>"
      ],
      "text/plain": [
       "Finished parsing file /Users/saukk/Desktop/Distributed data infrastucture/GraphLab project/data/milano_pollution_data/mi_pollution_20005.csv"
      ]
     },
     "metadata": {},
     "output_type": "display_data"
    },
    {
     "data": {
      "text/html": [
       "<pre>Parsing completed. Parsed 88 lines in 0.005257 secs.</pre>"
      ],
      "text/plain": [
       "Parsing completed. Parsed 88 lines in 0.005257 secs."
      ]
     },
     "metadata": {},
     "output_type": "display_data"
    },
    {
     "data": {
      "text/html": [
       "<pre>Finished parsing file /Users/saukk/Desktop/Distributed data infrastucture/GraphLab project/data/milano_pollution_data/mi_pollution_6057.csv</pre>"
      ],
      "text/plain": [
       "Finished parsing file /Users/saukk/Desktop/Distributed data infrastucture/GraphLab project/data/milano_pollution_data/mi_pollution_6057.csv"
      ]
     },
     "metadata": {},
     "output_type": "display_data"
    },
    {
     "data": {
      "text/html": [
       "<pre>Parsing completed. Parsed 100 lines in 0.00573 secs.</pre>"
      ],
      "text/plain": [
       "Parsing completed. Parsed 100 lines in 0.00573 secs."
      ]
     },
     "metadata": {},
     "output_type": "display_data"
    },
    {
     "name": "stdout",
     "output_type": "stream",
     "text": [
      "------------------------------------------------------\n",
      "Inferred types from first 100 line(s) of file as \n",
      "column_type_hints=[int,str,float]\n",
      "If parsing fails due to incorrect types, you can correct\n",
      "the inferred type list above and pass it to read_csv in\n",
      "the column_type_hints argument\n",
      "------------------------------------------------------\n"
     ]
    },
    {
     "data": {
      "text/html": [
       "<pre>Finished parsing file /Users/saukk/Desktop/Distributed data infrastucture/GraphLab project/data/milano_pollution_data/mi_pollution_6057.csv</pre>"
      ],
      "text/plain": [
       "Finished parsing file /Users/saukk/Desktop/Distributed data infrastucture/GraphLab project/data/milano_pollution_data/mi_pollution_6057.csv"
      ]
     },
     "metadata": {},
     "output_type": "display_data"
    },
    {
     "data": {
      "text/html": [
       "<pre>Parsing completed. Parsed 1462 lines in 0.005402 secs.</pre>"
      ],
      "text/plain": [
       "Parsing completed. Parsed 1462 lines in 0.005402 secs."
      ]
     },
     "metadata": {},
     "output_type": "display_data"
    },
    {
     "data": {
      "text/html": [
       "<pre>Finished parsing file /Users/saukk/Desktop/Distributed data infrastucture/GraphLab project/data/milano_pollution_data/mi_pollution_5823.csv</pre>"
      ],
      "text/plain": [
       "Finished parsing file /Users/saukk/Desktop/Distributed data infrastucture/GraphLab project/data/milano_pollution_data/mi_pollution_5823.csv"
      ]
     },
     "metadata": {},
     "output_type": "display_data"
    },
    {
     "data": {
      "text/html": [
       "<pre>Parsing completed. Parsed 100 lines in 0.005739 secs.</pre>"
      ],
      "text/plain": [
       "Parsing completed. Parsed 100 lines in 0.005739 secs."
      ]
     },
     "metadata": {},
     "output_type": "display_data"
    },
    {
     "name": "stdout",
     "output_type": "stream",
     "text": [
      "------------------------------------------------------\n",
      "Inferred types from first 100 line(s) of file as \n",
      "column_type_hints=[int,str,float]\n",
      "If parsing fails due to incorrect types, you can correct\n",
      "the inferred type list above and pass it to read_csv in\n",
      "the column_type_hints argument\n",
      "------------------------------------------------------\n"
     ]
    },
    {
     "data": {
      "text/html": [
       "<pre>Finished parsing file /Users/saukk/Desktop/Distributed data infrastucture/GraphLab project/data/milano_pollution_data/mi_pollution_5823.csv</pre>"
      ],
      "text/plain": [
       "Finished parsing file /Users/saukk/Desktop/Distributed data infrastucture/GraphLab project/data/milano_pollution_data/mi_pollution_5823.csv"
      ]
     },
     "metadata": {},
     "output_type": "display_data"
    },
    {
     "data": {
      "text/html": [
       "<pre>Parsing completed. Parsed 1462 lines in 0.005605 secs.</pre>"
      ],
      "text/plain": [
       "Parsing completed. Parsed 1462 lines in 0.005605 secs."
      ]
     },
     "metadata": {},
     "output_type": "display_data"
    },
    {
     "data": {
      "text/html": [
       "<pre>Finished parsing file /Users/saukk/Desktop/Distributed data infrastucture/GraphLab project/data/milano_pollution_data/mi_pollution_5834.csv</pre>"
      ],
      "text/plain": [
       "Finished parsing file /Users/saukk/Desktop/Distributed data infrastucture/GraphLab project/data/milano_pollution_data/mi_pollution_5834.csv"
      ]
     },
     "metadata": {},
     "output_type": "display_data"
    },
    {
     "data": {
      "text/html": [
       "<pre>Parsing completed. Parsed 100 lines in 0.005671 secs.</pre>"
      ],
      "text/plain": [
       "Parsing completed. Parsed 100 lines in 0.005671 secs."
      ]
     },
     "metadata": {},
     "output_type": "display_data"
    },
    {
     "name": "stdout",
     "output_type": "stream",
     "text": [
      "------------------------------------------------------\n",
      "Inferred types from first 100 line(s) of file as \n",
      "column_type_hints=[int,str,float]\n",
      "If parsing fails due to incorrect types, you can correct\n",
      "the inferred type list above and pass it to read_csv in\n",
      "the column_type_hints argument\n",
      "------------------------------------------------------\n"
     ]
    },
    {
     "data": {
      "text/html": [
       "<pre>Finished parsing file /Users/saukk/Desktop/Distributed data infrastucture/GraphLab project/data/milano_pollution_data/mi_pollution_5834.csv</pre>"
      ],
      "text/plain": [
       "Finished parsing file /Users/saukk/Desktop/Distributed data infrastucture/GraphLab project/data/milano_pollution_data/mi_pollution_5834.csv"
      ]
     },
     "metadata": {},
     "output_type": "display_data"
    },
    {
     "data": {
      "text/html": [
       "<pre>Parsing completed. Parsed 1462 lines in 0.006582 secs.</pre>"
      ],
      "text/plain": [
       "Parsing completed. Parsed 1462 lines in 0.006582 secs."
      ]
     },
     "metadata": {},
     "output_type": "display_data"
    },
    {
     "data": {
      "text/html": [
       "<pre>Finished parsing file /Users/saukk/Desktop/Distributed data infrastucture/GraphLab project/data/milano_pollution_data/mi_pollution_17122.csv</pre>"
      ],
      "text/plain": [
       "Finished parsing file /Users/saukk/Desktop/Distributed data infrastucture/GraphLab project/data/milano_pollution_data/mi_pollution_17122.csv"
      ]
     },
     "metadata": {},
     "output_type": "display_data"
    },
    {
     "data": {
      "text/html": [
       "<pre>Parsing completed. Parsed 59 lines in 0.00549 secs.</pre>"
      ],
      "text/plain": [
       "Parsing completed. Parsed 59 lines in 0.00549 secs."
      ]
     },
     "metadata": {},
     "output_type": "display_data"
    },
    {
     "name": "stdout",
     "output_type": "stream",
     "text": [
      "------------------------------------------------------\n",
      "Inferred types from first 100 line(s) of file as \n",
      "column_type_hints=[int,str,int]\n",
      "If parsing fails due to incorrect types, you can correct\n",
      "the inferred type list above and pass it to read_csv in\n",
      "the column_type_hints argument\n",
      "------------------------------------------------------\n"
     ]
    },
    {
     "data": {
      "text/html": [
       "<pre>Finished parsing file /Users/saukk/Desktop/Distributed data infrastucture/GraphLab project/data/milano_pollution_data/mi_pollution_17122.csv</pre>"
      ],
      "text/plain": [
       "Finished parsing file /Users/saukk/Desktop/Distributed data infrastucture/GraphLab project/data/milano_pollution_data/mi_pollution_17122.csv"
      ]
     },
     "metadata": {},
     "output_type": "display_data"
    },
    {
     "data": {
      "text/html": [
       "<pre>Parsing completed. Parsed 59 lines in 0.005401 secs.</pre>"
      ],
      "text/plain": [
       "Parsing completed. Parsed 59 lines in 0.005401 secs."
      ]
     },
     "metadata": {},
     "output_type": "display_data"
    },
    {
     "data": {
      "text/html": [
       "<pre>Finished parsing file /Users/saukk/Desktop/Distributed data infrastucture/GraphLab project/data/milano_pollution_data/mi_pollution_6354.csv</pre>"
      ],
      "text/plain": [
       "Finished parsing file /Users/saukk/Desktop/Distributed data infrastucture/GraphLab project/data/milano_pollution_data/mi_pollution_6354.csv"
      ]
     },
     "metadata": {},
     "output_type": "display_data"
    },
    {
     "data": {
      "text/html": [
       "<pre>Parsing completed. Parsed 100 lines in 0.006055 secs.</pre>"
      ],
      "text/plain": [
       "Parsing completed. Parsed 100 lines in 0.006055 secs."
      ]
     },
     "metadata": {},
     "output_type": "display_data"
    },
    {
     "name": "stdout",
     "output_type": "stream",
     "text": [
      "------------------------------------------------------\n",
      "Inferred types from first 100 line(s) of file as \n",
      "column_type_hints=[int,str,int]\n",
      "If parsing fails due to incorrect types, you can correct\n",
      "the inferred type list above and pass it to read_csv in\n",
      "the column_type_hints argument\n",
      "------------------------------------------------------\n"
     ]
    },
    {
     "data": {
      "text/html": [
       "<pre>Finished parsing file /Users/saukk/Desktop/Distributed data infrastucture/GraphLab project/data/milano_pollution_data/mi_pollution_6354.csv</pre>"
      ],
      "text/plain": [
       "Finished parsing file /Users/saukk/Desktop/Distributed data infrastucture/GraphLab project/data/milano_pollution_data/mi_pollution_6354.csv"
      ]
     },
     "metadata": {},
     "output_type": "display_data"
    },
    {
     "data": {
      "text/html": [
       "<pre>Parsing completed. Parsed 1462 lines in 0.005563 secs.</pre>"
      ],
      "text/plain": [
       "Parsing completed. Parsed 1462 lines in 0.005563 secs."
      ]
     },
     "metadata": {},
     "output_type": "display_data"
    },
    {
     "data": {
      "text/html": [
       "<pre>Finished parsing file /Users/saukk/Desktop/Distributed data infrastucture/GraphLab project/data/milano_pollution_data/mi_pollution_6340.csv</pre>"
      ],
      "text/plain": [
       "Finished parsing file /Users/saukk/Desktop/Distributed data infrastucture/GraphLab project/data/milano_pollution_data/mi_pollution_6340.csv"
      ]
     },
     "metadata": {},
     "output_type": "display_data"
    },
    {
     "data": {
      "text/html": [
       "<pre>Parsing completed. Parsed 100 lines in 0.005585 secs.</pre>"
      ],
      "text/plain": [
       "Parsing completed. Parsed 100 lines in 0.005585 secs."
      ]
     },
     "metadata": {},
     "output_type": "display_data"
    },
    {
     "name": "stdout",
     "output_type": "stream",
     "text": [
      "------------------------------------------------------\n",
      "Inferred types from first 100 line(s) of file as \n",
      "column_type_hints=[int,str,int]\n",
      "If parsing fails due to incorrect types, you can correct\n",
      "the inferred type list above and pass it to read_csv in\n",
      "the column_type_hints argument\n",
      "------------------------------------------------------\n"
     ]
    },
    {
     "data": {
      "text/html": [
       "<pre>Finished parsing file /Users/saukk/Desktop/Distributed data infrastucture/GraphLab project/data/milano_pollution_data/mi_pollution_6340.csv</pre>"
      ],
      "text/plain": [
       "Finished parsing file /Users/saukk/Desktop/Distributed data infrastucture/GraphLab project/data/milano_pollution_data/mi_pollution_6340.csv"
      ]
     },
     "metadata": {},
     "output_type": "display_data"
    },
    {
     "data": {
      "text/html": [
       "<pre>Parsing completed. Parsed 1061 lines in 0.005554 secs.</pre>"
      ],
      "text/plain": [
       "Parsing completed. Parsed 1061 lines in 0.005554 secs."
      ]
     },
     "metadata": {},
     "output_type": "display_data"
    },
    {
     "data": {
      "text/html": [
       "<pre>Finished parsing file /Users/saukk/Desktop/Distributed data infrastucture/GraphLab project/data/milano_pollution_data/mi_pollution_5841.csv</pre>"
      ],
      "text/plain": [
       "Finished parsing file /Users/saukk/Desktop/Distributed data infrastucture/GraphLab project/data/milano_pollution_data/mi_pollution_5841.csv"
      ]
     },
     "metadata": {},
     "output_type": "display_data"
    },
    {
     "data": {
      "text/html": [
       "<pre>Parsing completed. Parsed 100 lines in 0.005877 secs.</pre>"
      ],
      "text/plain": [
       "Parsing completed. Parsed 100 lines in 0.005877 secs."
      ]
     },
     "metadata": {},
     "output_type": "display_data"
    },
    {
     "name": "stdout",
     "output_type": "stream",
     "text": [
      "------------------------------------------------------\n",
      "Inferred types from first 100 line(s) of file as \n",
      "column_type_hints=[int,str,float]\n",
      "If parsing fails due to incorrect types, you can correct\n",
      "the inferred type list above and pass it to read_csv in\n",
      "the column_type_hints argument\n",
      "------------------------------------------------------\n"
     ]
    },
    {
     "data": {
      "text/html": [
       "<pre>Finished parsing file /Users/saukk/Desktop/Distributed data infrastucture/GraphLab project/data/milano_pollution_data/mi_pollution_5841.csv</pre>"
      ],
      "text/plain": [
       "Finished parsing file /Users/saukk/Desktop/Distributed data infrastucture/GraphLab project/data/milano_pollution_data/mi_pollution_5841.csv"
      ]
     },
     "metadata": {},
     "output_type": "display_data"
    },
    {
     "data": {
      "text/html": [
       "<pre>Parsing completed. Parsed 1461 lines in 0.005613 secs.</pre>"
      ],
      "text/plain": [
       "Parsing completed. Parsed 1461 lines in 0.005613 secs."
      ]
     },
     "metadata": {},
     "output_type": "display_data"
    },
    {
     "data": {
      "text/html": [
       "<pre>Finished parsing file /Users/saukk/Desktop/Distributed data infrastucture/GraphLab project/data/milano_pollution_data/mi_pollution_5504.csv</pre>"
      ],
      "text/plain": [
       "Finished parsing file /Users/saukk/Desktop/Distributed data infrastucture/GraphLab project/data/milano_pollution_data/mi_pollution_5504.csv"
      ]
     },
     "metadata": {},
     "output_type": "display_data"
    },
    {
     "data": {
      "text/html": [
       "<pre>Parsing completed. Parsed 100 lines in 0.005712 secs.</pre>"
      ],
      "text/plain": [
       "Parsing completed. Parsed 100 lines in 0.005712 secs."
      ]
     },
     "metadata": {},
     "output_type": "display_data"
    },
    {
     "name": "stdout",
     "output_type": "stream",
     "text": [
      "------------------------------------------------------\n",
      "Inferred types from first 100 line(s) of file as \n",
      "column_type_hints=[int,str,int]\n",
      "If parsing fails due to incorrect types, you can correct\n",
      "the inferred type list above and pass it to read_csv in\n",
      "the column_type_hints argument\n",
      "------------------------------------------------------\n"
     ]
    },
    {
     "data": {
      "text/html": [
       "<pre>Finished parsing file /Users/saukk/Desktop/Distributed data infrastucture/GraphLab project/data/milano_pollution_data/mi_pollution_5504.csv</pre>"
      ],
      "text/plain": [
       "Finished parsing file /Users/saukk/Desktop/Distributed data infrastucture/GraphLab project/data/milano_pollution_data/mi_pollution_5504.csv"
      ]
     },
     "metadata": {},
     "output_type": "display_data"
    },
    {
     "data": {
      "text/html": [
       "<pre>Parsing completed. Parsed 1461 lines in 0.005714 secs.</pre>"
      ],
      "text/plain": [
       "Parsing completed. Parsed 1461 lines in 0.005714 secs."
      ]
     },
     "metadata": {},
     "output_type": "display_data"
    },
    {
     "data": {
      "text/html": [
       "<pre>Finished parsing file /Users/saukk/Desktop/Distributed data infrastucture/GraphLab project/data/milano_pollution_data/mi_pollution_5506.csv</pre>"
      ],
      "text/plain": [
       "Finished parsing file /Users/saukk/Desktop/Distributed data infrastucture/GraphLab project/data/milano_pollution_data/mi_pollution_5506.csv"
      ]
     },
     "metadata": {},
     "output_type": "display_data"
    },
    {
     "data": {
      "text/html": [
       "<pre>Parsing completed. Parsed 100 lines in 0.005664 secs.</pre>"
      ],
      "text/plain": [
       "Parsing completed. Parsed 100 lines in 0.005664 secs."
      ]
     },
     "metadata": {},
     "output_type": "display_data"
    },
    {
     "name": "stdout",
     "output_type": "stream",
     "text": [
      "------------------------------------------------------\n",
      "Inferred types from first 100 line(s) of file as \n",
      "column_type_hints=[int,str,int]\n",
      "If parsing fails due to incorrect types, you can correct\n",
      "the inferred type list above and pass it to read_csv in\n",
      "the column_type_hints argument\n",
      "------------------------------------------------------\n"
     ]
    },
    {
     "data": {
      "text/html": [
       "<pre>Finished parsing file /Users/saukk/Desktop/Distributed data infrastucture/GraphLab project/data/milano_pollution_data/mi_pollution_5506.csv</pre>"
      ],
      "text/plain": [
       "Finished parsing file /Users/saukk/Desktop/Distributed data infrastucture/GraphLab project/data/milano_pollution_data/mi_pollution_5506.csv"
      ]
     },
     "metadata": {},
     "output_type": "display_data"
    },
    {
     "data": {
      "text/html": [
       "<pre>Parsing completed. Parsed 1460 lines in 0.0057 secs.</pre>"
      ],
      "text/plain": [
       "Parsing completed. Parsed 1460 lines in 0.0057 secs."
      ]
     },
     "metadata": {},
     "output_type": "display_data"
    },
    {
     "data": {
      "text/html": [
       "<pre>Finished parsing file /Users/saukk/Desktop/Distributed data infrastucture/GraphLab project/data/milano_pollution_data/mi_pollution_6344.csv</pre>"
      ],
      "text/plain": [
       "Finished parsing file /Users/saukk/Desktop/Distributed data infrastucture/GraphLab project/data/milano_pollution_data/mi_pollution_6344.csv"
      ]
     },
     "metadata": {},
     "output_type": "display_data"
    },
    {
     "data": {
      "text/html": [
       "<pre>Parsing completed. Parsed 100 lines in 0.005796 secs.</pre>"
      ],
      "text/plain": [
       "Parsing completed. Parsed 100 lines in 0.005796 secs."
      ]
     },
     "metadata": {},
     "output_type": "display_data"
    },
    {
     "name": "stdout",
     "output_type": "stream",
     "text": [
      "------------------------------------------------------\n",
      "Inferred types from first 100 line(s) of file as \n",
      "column_type_hints=[int,str,int]\n",
      "If parsing fails due to incorrect types, you can correct\n",
      "the inferred type list above and pass it to read_csv in\n",
      "the column_type_hints argument\n",
      "------------------------------------------------------\n"
     ]
    },
    {
     "data": {
      "text/html": [
       "<pre>Finished parsing file /Users/saukk/Desktop/Distributed data infrastucture/GraphLab project/data/milano_pollution_data/mi_pollution_6344.csv</pre>"
      ],
      "text/plain": [
       "Finished parsing file /Users/saukk/Desktop/Distributed data infrastucture/GraphLab project/data/milano_pollution_data/mi_pollution_6344.csv"
      ]
     },
     "metadata": {},
     "output_type": "display_data"
    },
    {
     "data": {
      "text/html": [
       "<pre>Parsing completed. Parsed 1461 lines in 0.00552 secs.</pre>"
      ],
      "text/plain": [
       "Parsing completed. Parsed 1461 lines in 0.00552 secs."
      ]
     },
     "metadata": {},
     "output_type": "display_data"
    },
    {
     "data": {
      "text/html": [
       "<div style=\"max-height:1000px;max-width:1500px;overflow:auto;\"><table frame=\"box\" rules=\"cols\">\n",
       "    <tr>\n",
       "        <th style=\"padding-left: 1em; padding-right: 1em; text-align: center\">X1</th>\n",
       "        <th style=\"padding-left: 1em; padding-right: 1em; text-align: center\">X2</th>\n",
       "        <th style=\"padding-left: 1em; padding-right: 1em; text-align: center\">X3</th>\n",
       "    </tr>\n",
       "    <tr>\n",
       "        <td style=\"padding-left: 1em; padding-right: 1em; text-align: center; vertical-align: top\">6956</td>\n",
       "        <td style=\"padding-left: 1em; padding-right: 1em; text-align: center; vertical-align: top\">2013/11/01</td>\n",
       "        <td style=\"padding-left: 1em; padding-right: 1em; text-align: center; vertical-align: top\">41</td>\n",
       "    </tr>\n",
       "    <tr>\n",
       "        <td style=\"padding-left: 1em; padding-right: 1em; text-align: center; vertical-align: top\">6956</td>\n",
       "        <td style=\"padding-left: 1em; padding-right: 1em; text-align: center; vertical-align: top\">2013/11/02</td>\n",
       "        <td style=\"padding-left: 1em; padding-right: 1em; text-align: center; vertical-align: top\">55</td>\n",
       "    </tr>\n",
       "    <tr>\n",
       "        <td style=\"padding-left: 1em; padding-right: 1em; text-align: center; vertical-align: top\">6956</td>\n",
       "        <td style=\"padding-left: 1em; padding-right: 1em; text-align: center; vertical-align: top\">2013/11/03</td>\n",
       "        <td style=\"padding-left: 1em; padding-right: 1em; text-align: center; vertical-align: top\">42</td>\n",
       "    </tr>\n",
       "    <tr>\n",
       "        <td style=\"padding-left: 1em; padding-right: 1em; text-align: center; vertical-align: top\">6956</td>\n",
       "        <td style=\"padding-left: 1em; padding-right: 1em; text-align: center; vertical-align: top\">2013/11/04</td>\n",
       "        <td style=\"padding-left: 1em; padding-right: 1em; text-align: center; vertical-align: top\">32</td>\n",
       "    </tr>\n",
       "    <tr>\n",
       "        <td style=\"padding-left: 1em; padding-right: 1em; text-align: center; vertical-align: top\">6956</td>\n",
       "        <td style=\"padding-left: 1em; padding-right: 1em; text-align: center; vertical-align: top\">2013/11/05</td>\n",
       "        <td style=\"padding-left: 1em; padding-right: 1em; text-align: center; vertical-align: top\">35</td>\n",
       "    </tr>\n",
       "    <tr>\n",
       "        <td style=\"padding-left: 1em; padding-right: 1em; text-align: center; vertical-align: top\">6956</td>\n",
       "        <td style=\"padding-left: 1em; padding-right: 1em; text-align: center; vertical-align: top\">2013/11/06</td>\n",
       "        <td style=\"padding-left: 1em; padding-right: 1em; text-align: center; vertical-align: top\">35</td>\n",
       "    </tr>\n",
       "    <tr>\n",
       "        <td style=\"padding-left: 1em; padding-right: 1em; text-align: center; vertical-align: top\">6956</td>\n",
       "        <td style=\"padding-left: 1em; padding-right: 1em; text-align: center; vertical-align: top\">2013/11/07</td>\n",
       "        <td style=\"padding-left: 1em; padding-right: 1em; text-align: center; vertical-align: top\">67</td>\n",
       "    </tr>\n",
       "    <tr>\n",
       "        <td style=\"padding-left: 1em; padding-right: 1em; text-align: center; vertical-align: top\">6956</td>\n",
       "        <td style=\"padding-left: 1em; padding-right: 1em; text-align: center; vertical-align: top\">2013/11/08</td>\n",
       "        <td style=\"padding-left: 1em; padding-right: 1em; text-align: center; vertical-align: top\">76</td>\n",
       "    </tr>\n",
       "    <tr>\n",
       "        <td style=\"padding-left: 1em; padding-right: 1em; text-align: center; vertical-align: top\">6956</td>\n",
       "        <td style=\"padding-left: 1em; padding-right: 1em; text-align: center; vertical-align: top\">2013/11/09</td>\n",
       "        <td style=\"padding-left: 1em; padding-right: 1em; text-align: center; vertical-align: top\">43</td>\n",
       "    </tr>\n",
       "    <tr>\n",
       "        <td style=\"padding-left: 1em; padding-right: 1em; text-align: center; vertical-align: top\">6956</td>\n",
       "        <td style=\"padding-left: 1em; padding-right: 1em; text-align: center; vertical-align: top\">2013/11/10</td>\n",
       "        <td style=\"padding-left: 1em; padding-right: 1em; text-align: center; vertical-align: top\">26</td>\n",
       "    </tr>\n",
       "</table>\n",
       "[41288 rows x 3 columns]<br/>Note: Only the head of the SFrame is printed.<br/>You can use print_rows(num_rows=m, num_columns=n) to print more rows and columns.\n",
       "</div>"
      ],
      "text/plain": [
       "Columns:\n",
       "\tX1\tint\n",
       "\tX2\tstr\n",
       "\tX3\tint\n",
       "\n",
       "Rows: 41288\n",
       "\n",
       "Data:\n",
       "+------+------------+----+\n",
       "|  X1  |     X2     | X3 |\n",
       "+------+------------+----+\n",
       "| 6956 | 2013/11/01 | 41 |\n",
       "| 6956 | 2013/11/02 | 55 |\n",
       "| 6956 | 2013/11/03 | 42 |\n",
       "| 6956 | 2013/11/04 | 32 |\n",
       "| 6956 | 2013/11/05 | 35 |\n",
       "| 6956 | 2013/11/06 | 35 |\n",
       "| 6956 | 2013/11/07 | 67 |\n",
       "| 6956 | 2013/11/08 | 76 |\n",
       "| 6956 | 2013/11/09 | 43 |\n",
       "| 6956 | 2013/11/10 | 26 |\n",
       "+------+------------+----+\n",
       "[41288 rows x 3 columns]\n",
       "Note: Only the head of the SFrame is printed.\n",
       "You can use print_rows(num_rows=m, num_columns=n) to print more rows and columns."
      ]
     },
     "execution_count": 16,
     "metadata": {},
     "output_type": "execute_result"
    }
   ],
   "source": [
    "# Define function to read and join all Milano pollution data files\n",
    "def milano_pollution(paths):\n",
    "    # Initialize empty SFrame\n",
    "    #result_df = pd.DataFrame(columns = [\"SquareID\", \"Time\", \"country_code\"])\n",
    "    results_sf = SFrame({'X1':[],'X2':[], 'X3':[]})\n",
    "    results_sf[\"X1\"] = results_sf[\"X1\"].astype(int)\n",
    "    results_sf[\"X2\"] = results_sf[\"X2\"].astype(str)\n",
    "    results_sf[\"X3\"] = results_sf[\"X3\"].astype(int)\n",
    "    \n",
    "    # Add pollution data one by one to results_sf\n",
    "    for path in paths:\n",
    "        # Read file\n",
    "        sf_tmp = SFrame.read_csv(path, sep=\",\", header=None)\n",
    "        # Set column types\n",
    "        sf_tmp[\"X1\"] = sf_tmp[\"X1\"].astype(int)\n",
    "        sf_tmp[\"X2\"] = sf_tmp[\"X2\"].astype(str)\n",
    "        sf_tmp[\"X3\"] = sf_tmp[\"X3\"].astype(int)\n",
    "        # Append sf_tmp to results_sf\n",
    "        results_sf = results_sf.append(sf_tmp)\n",
    "    # Rename columns\n",
    "    sf_tmp = sf_tmp.rename({'X1': 'xxx1', 'X2':'time', 'X3':\"xxx3\"})\n",
    "    # Return SFrame with all Milano pollution data\n",
    "    return results_sf\n",
    "\n",
    "# Define path to folder of Milano pollution data files\n",
    "milano_pollution_paths = glob2.glob(\"data/milano_pollution_data/*\")\n",
    "\n",
    "# Run milano_pollution function and get all Milano pollution data\n",
    "milano_pollution = milano_pollution(milano_pollution_paths)\n",
    "\n",
    "milano_pollution"
   ]
  },
  {
   "cell_type": "markdown",
   "metadata": {},
   "source": [
    "# Answers:\n",
    "### In the answers I have used dates 26-28th November and 24-26th December"
   ]
  },
  {
   "cell_type": "markdown",
   "metadata": {},
   "source": [
    "### Read telecom data"
   ]
  },
  {
   "cell_type": "code",
   "execution_count": null,
   "metadata": {},
   "outputs": [],
   "source": [
    "# Create function to join multiple files, filter by date, and join to single dataframe    \n",
    "def create_telecom_SFrame(paths, start_date, end_date):\n",
    "    # Measure time how long it takes. Set start time.\n",
    "    start = time.time()\n",
    "    \n",
    "    # Filter paths by start_date and end_date\n",
    "    # Path example: sms-call-internet-mi-2013-12-01.txt\n",
    "    wanted_paths = []\n",
    "    for path in data_paths:\n",
    "        date = int(path[-6:-4])\n",
    "        if (date <= end_date) and (date >= start_date):\n",
    "            wanted_paths.append(path)\n",
    "    \n",
    "    # Read the files and append dataframes to result_df\n",
    "    result_df = pd.DataFrame(columns = [\"SquareID\", \"Time\", \"country_code\", \"SMSin\", \"SMSout\", \"call_in\" ,\"call_out\", \"Internet_Traffic\"])\n",
    "    for path in wanted_paths:\n",
    "        df = pd.read_csv(path, sep=\"\\t\", header=None)\n",
    "        #df = df.fillna(0)\n",
    "        df.columns = [\"SquareID\", \"Time\", \"country_code\", \"SMSin\", \"SMSout\", \"call_in\" ,\"call_out\", \"Internet_Traffic\"]\n",
    "        result_df= result_df.append(df)\n",
    "    \n",
    "    # Convert Pandas dataframe to SFrame\n",
    "    result_SFrame = SFrame(data=result_df)\n",
    "    \n",
    "    # Add UTC_time columns. Running this row takes about 5mins.\n",
    "    #result_df[\"UTCtime\"] = result_df[\"Time\"].apply(lambda timestamp: arrow.get(timestamp).format('MMM Do YYYY HH:mm'))\n",
    "    \n",
    "    # Print time how long it took\n",
    "    end = time.time()\n",
    "    print(\"Time to run function was\", round(end - start), \"seconds\")\n",
    "\n",
    "    # Return results\n",
    "    return result_SFrame\n"
   ]
  },
  {
   "cell_type": "code",
   "execution_count": null,
   "metadata": {},
   "outputs": [],
   "source": [
    "# Execute the glob function that returns a list of filepaths\n",
    "data_paths_milano_nov = glob2.glob(\"data/milano_telecom_nov/*\")\n",
    "data_paths_milano_dec = glob2.glob(\"data/milano_telecom_dec/*\")\n",
    "data_paths_trento_nov = glob2.glob(\"data/trento_telecom_nov/*\")\n",
    "data_paths_trento_dec = glob2.glob(\"data/trento_telecom_dec/*\")\n",
    "\n",
    "# Use create_telecom_SFrame to read paths and join the folders with given date\n",
    "milano_nov = create_telecom_SFrame(data_paths_milano_nov, 26, 28)\n",
    "#milano_dec = create_telecom_SFrame(data_paths_milano_dec, 24, 26)\n",
    "#trento_nov = create_telecom_SFrame(data_paths_trento_nov, 26, 28)\n",
    "#trento_dec = create_telecom_SFrame(data_paths_trento_dec, 26, 28)\n",
    "\n",
    "milano_nov"
   ]
  },
  {
   "cell_type": "code",
   "execution_count": null,
   "metadata": {},
   "outputs": [],
   "source": []
  },
  {
   "cell_type": "code",
   "execution_count": null,
   "metadata": {},
   "outputs": [],
   "source": [
    "df[\"time2\"] = df[\"Time\"].apply(lambda timestamp: arrow.get(timestamp).format('MMM Do YYYY HH:mm'))"
   ]
  },
  {
   "cell_type": "code",
   "execution_count": null,
   "metadata": {},
   "outputs": [],
   "source": [
    "df"
   ]
  },
  {
   "cell_type": "code",
   "execution_count": null,
   "metadata": {},
   "outputs": [],
   "source": []
  }
 ],
 "metadata": {
  "kernelspec": {
   "display_name": "Python 3",
   "language": "python",
   "name": "python3"
  },
  "language_info": {
   "codemirror_mode": {
    "name": "ipython",
    "version": 3
   },
   "file_extension": ".py",
   "mimetype": "text/x-python",
   "name": "python",
   "nbconvert_exporter": "python",
   "pygments_lexer": "ipython3",
   "version": "3.8.5"
  }
 },
 "nbformat": 4,
 "nbformat_minor": 4
}
