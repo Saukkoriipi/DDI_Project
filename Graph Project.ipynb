{
 "cells": [
  {
   "cell_type": "markdown",
   "metadata": {},
   "source": [
    "# Distributed Data Infrastructures, Fall 2020, Project 2\n",
    "\n",
    "Assignment\n",
    "In this project, you are supposed to use GraphLab to analyze data sets. GraphLab is a high performance, open-source, big data framework which we have discussed in the course. We provide you with a data set and you should run GraphLab either on AWS or locally to analyze the data set. \n",
    "\n",
    "The dataset was released by Telecom Italia for their Open Big Data Challenge in 2014. It contains telecommunication records, weather, air quality, electricity consumption for city of Milan and province of Trentino in Italy in November and December 2013. You can find detailed description of the dataset from the paper:\n",
    "https://www.nature.com/articles/sdata201555.\n",
    "\n",
    "Requirements\n",
    "You need write a program that uses GraphLab to provide answers to the following questions.\n",
    "\n",
    "#### First\tthree\tquestions\tare\tworth\t2\tpoints\ttotal.\n",
    "\n",
    "1. Find the most congested communication period\t of\t the\t day\t in\t Milan and\t\n",
    "Trentino.\n",
    "\n",
    "2. List\t top\t5\t Italian\tprovinces\twhich\tare\tmost\tcalled\tby\tresidents\tof\tMilan and\t\n",
    "Trentino\ton\taverage.\n",
    "\n",
    "3. List\t top\t 5\t languages\t tweeted\t by\t distinct\t users\t in\t Milan.\t How\t popular\t is\t\n",
    "Finnish\tas\ta\ttweeting\tlanguage\tin\tMilan?\t\n",
    "\n",
    "### The\tfollowing\tquestions\tare\tworth\t3\tpoints\ttotal.\n",
    "\n",
    "4. Compare\tcall\tand\tinternet\tactivity\tbetween\t24th,\t25th\tand\t26th\tDecember\tto\t\n",
    "26th,\t27th,\t28th\tNovember\tfor\tMilan.\tPlot\tthe\tdistribution.\n",
    "\n",
    "5. Find\tcorrelation\tbetween\tuser\tcommunication\tactivity\tand\tdifferent\tweather\t\n",
    "conditions\t(e.g.\train,\tsnow\tetc.)\tin\tMilan and\tTrentino.\t\t\n",
    "\n",
    "## The\tfinal\tquestions\tare\tworth\t2\tpoints\teach.\n",
    "\n",
    "6. Plot\t the\t heatmap\t of\t user\t telecommunication\t activity\t for\t both\t Milan and\t\n",
    "Trentino.\t Do\t you\t observe\t any\t shift\t in\t communication\t pattern\t of\t users\t\n",
    "between\tday\tand\tnight?\t(A\ttypical\tday\ttime\tis\tbetween\t8AM\tto\t8PM)\n",
    "\n",
    "7. Investigate\t and\t plot\t the\t correlation\t between\t air\t quality\t and\t weather\t\n",
    "(temperature,\tsunshine,\tprecipitation,\tetc.).\t"
   ]
  },
  {
   "cell_type": "code",
   "execution_count": 15,
   "metadata": {},
   "outputs": [],
   "source": [
    "import pandas as pd"
   ]
  },
  {
   "cell_type": "code",
   "execution_count": 16,
   "metadata": {},
   "outputs": [
    {
     "name": "stdout",
     "output_type": "stream",
     "text": [
      "3.8.2\n"
     ]
    }
   ],
   "source": [
    "from platform import python_version\n",
    "\n",
    "print(python_version())"
   ]
  },
  {
   "cell_type": "code",
   "execution_count": 17,
   "metadata": {},
   "outputs": [
    {
     "name": "stdout",
     "output_type": "stream",
     "text": [
      "SGraph({'num_edges': 0, 'num_vertices': 3})\n"
     ]
    }
   ],
   "source": [
    "from turicreate import SGraph, Vertex, Edge\n",
    "\n",
    "g = SGraph()\n",
    "verts = [Vertex(0, attr={'breed': 'labrador'}),\n",
    "         Vertex(1, attr={'breed': 'labrador'}),\n",
    "         Vertex(2, attr={'breed': 'vizsla'})]\n",
    "g = g.add_vertices(verts)\n",
    "ig = g.add_edges(Edge(1, 2))\n",
    "print(g)"
   ]
  },
  {
   "cell_type": "code",
   "execution_count": 18,
   "metadata": {},
   "outputs": [
    {
     "data": {
      "text/plain": [
       "'/Library/Developer/CommandLineTools/usr/bin/python3'"
      ]
     },
     "execution_count": 18,
     "metadata": {},
     "output_type": "execute_result"
    }
   ],
   "source": [
    "import sys\n",
    "sys.executable"
   ]
  },
  {
   "cell_type": "code",
   "execution_count": 19,
   "metadata": {},
   "outputs": [
    {
     "data": {
      "text/plain": [
       "4"
      ]
     },
     "execution_count": 19,
     "metadata": {},
     "output_type": "execute_result"
    }
   ],
   "source": [
    "2+2"
   ]
  },
  {
   "cell_type": "code",
   "execution_count": null,
   "metadata": {},
   "outputs": [],
   "source": []
  }
 ],
 "metadata": {
  "kernelspec": {
   "display_name": "Python 3",
   "language": "python",
   "name": "python3"
  },
  "language_info": {
   "codemirror_mode": {
    "name": "ipython",
    "version": 3
   },
   "file_extension": ".py",
   "mimetype": "text/x-python",
   "name": "python",
   "nbconvert_exporter": "python",
   "pygments_lexer": "ipython3",
   "version": "3.8.2"
  }
 },
 "nbformat": 4,
 "nbformat_minor": 4
}
